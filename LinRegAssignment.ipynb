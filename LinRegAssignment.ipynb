{
 "cells": [
  {
   "cell_type": "markdown",
   "id": "8f795049",
   "metadata": {},
   "source": [
    "#### <font color=\"asparagus\"> $\\Rightarrow$ Bike Club Rental Prediction:<br> <font>\n",
    "$\\Rightarrow$ A bike company wants to stand out in the market by coming up with a mindful business plan.\n",
    "The objective here is to first find the key features/indicators that capture the demand for bike rentals among the population.<br>\n",
    "$\\Rightarrow$ Once identified, the next goal is to build a model(linear regression) that can accurately  the number of bike rentals based on the features in the csv. <br>  $\\Rightarrow$ Along the way, EDA is expected and post model building, residual analysis will also be done."
   ]
  },
  {
   "cell_type": "markdown",
   "id": "6fbd7257",
   "metadata": {},
   "source": [
    "### <font color='cyan'> Sections in this notebook: <font>\n",
    "I. Prerequisites \n",
    "    \n",
    "    I.1. Importing modules, load data\n",
    "    I.2. Cache necessary information about the data up front\n",
    "\n",
    "II. Data understanding\n",
    "    \n",
    "    II.1. Addressing each column\n",
    "        II.1.1. \"instant\"\n",
    "        II.1.2.  All date related columns\n",
    "        II.1.3.  \"holiday\", \"weekday\", \"workingday\"\n",
    "        II.1.4.  \"weathersit\"\n",
    "        II.1.5.  \"hum\" and \"windspeed\"\n",
    "        II.1.6.  \"casual\" and \"registered\"\n",
    "    II.2. Correlation\n",
    "    II.3. Boxplots and IQR analysis\n",
    "        II.3.1. Boxplots of numerical columns alone(Univariate analysis)\n",
    "        II.3.2. Bivariate analysis \"cnt\" against the categorical columns\n",
    "    II.4. Train test split\n",
    "        II.4.1. Target variable: \"cnt\" \n",
    "        II.4.2. Input X\n",
    "    \n",
    "III. Standardization \n",
    "    \n",
    "IV. Model building\n",
    "    \n",
    "    IV.1. Using sklearn\n",
    "    IV.2. Using statsmodels\n",
    "    IV.3. Residual Analysis\n",
    "        IV.3.1 RFE\n",
    "        IV.3.2 VIF\n",
    "    IV.4. Adjust r2_score\n",
    "    \n",
    "V. Validating assumptions of Linear Regression \n",
    "\n",
    "VI. Conclusion\n",
    "    \n",
    "VII. Extras\n",
    "    \n",
    "    "
   ]
  },
  {
   "cell_type": "markdown",
   "id": "3f3d92dc",
   "metadata": {},
   "source": [
    "# <font color='goldenrod'> I. Prerequisites </font>"
   ]
  },
  {
   "cell_type": "markdown",
   "id": "032392ab",
   "metadata": {},
   "source": [
    "### <font color='skyblue'>  I.1. Importing modules, load data<font>"
   ]
  },
  {
   "cell_type": "code",
   "execution_count": 1,
   "id": "7c3c9eee",
   "metadata": {},
   "outputs": [],
   "source": [
    "import numpy as np\n",
    "import pandas as pd\n",
    "import matplotlib.pyplot as plt\n",
    "import seaborn as sns\n",
    "from sklearn.preprocessing import OneHotEncoder\n",
    "from sklearn.linear_model import LinearRegression\n",
    "import statsmodels.api as sm\n",
    "from sklearn.feature_selection import RFE\n",
    "from sklearn.preprocessing import MinMaxScaler, StandardScaler\n",
    "from sklearn.model_selection import train_test_split\n",
    "from sklearn.metrics import r2_score"
   ]
  },
  {
   "cell_type": "markdown",
   "id": "c3954793",
   "metadata": {},
   "source": [
    "##### *1.1. Load data*"
   ]
  },
  {
   "cell_type": "code",
   "execution_count": 2,
   "id": "6cd7b043",
   "metadata": {},
   "outputs": [],
   "source": [
    "df = pd.read_csv(\"day.csv\")"
   ]
  },
  {
   "cell_type": "markdown",
   "id": "d3504df7",
   "metadata": {},
   "source": [
    "### <font color='skyblue'>  I.2. Cache necessary information about the data up front"
   ]
  },
  {
   "cell_type": "code",
   "execution_count": 3,
   "id": "e637859c",
   "metadata": {},
   "outputs": [],
   "source": [
    "cols = df.columns"
   ]
  },
  {
   "cell_type": "code",
   "execution_count": 4,
   "id": "90951511",
   "metadata": {},
   "outputs": [
    {
     "data": {
      "text/plain": [
       "Index(['instant', 'dteday', 'season', 'yr', 'mnth', 'holiday', 'weekday',\n",
       "       'workingday', 'weathersit', 'temp', 'atemp', 'hum', 'windspeed',\n",
       "       'casual', 'registered', 'cnt'],\n",
       "      dtype='object')"
      ]
     },
     "execution_count": 4,
     "metadata": {},
     "output_type": "execute_result"
    }
   ],
   "source": [
    "cols"
   ]
  },
  {
   "cell_type": "markdown",
   "id": "03265bf8",
   "metadata": {},
   "source": [
    "#### \"cnt\" is the target that the linear regression model will predict<br>\n"
   ]
  },
  {
   "cell_type": "code",
   "execution_count": 5,
   "id": "601f0a01",
   "metadata": {},
   "outputs": [],
   "source": [
    "nRows, nCols = df.shape"
   ]
  },
  {
   "cell_type": "code",
   "execution_count": 6,
   "id": "a220b6c7",
   "metadata": {},
   "outputs": [
    {
     "data": {
      "text/plain": [
       "(730, 16)"
      ]
     },
     "execution_count": 6,
     "metadata": {},
     "output_type": "execute_result"
    }
   ],
   "source": [
    "nRows, nCols"
   ]
  },
  {
   "cell_type": "markdown",
   "id": "87f62368",
   "metadata": {},
   "source": [
    "##### Checking for nulls"
   ]
  },
  {
   "cell_type": "code",
   "execution_count": 7,
   "id": "c1ec29c3",
   "metadata": {},
   "outputs": [
    {
     "data": {
      "text/plain": [
       "instant       0\n",
       "dteday        0\n",
       "season        0\n",
       "yr            0\n",
       "mnth          0\n",
       "holiday       0\n",
       "weekday       0\n",
       "workingday    0\n",
       "weathersit    0\n",
       "temp          0\n",
       "atemp         0\n",
       "hum           0\n",
       "windspeed     0\n",
       "casual        0\n",
       "registered    0\n",
       "cnt           0\n",
       "dtype: int64"
      ]
     },
     "execution_count": 7,
     "metadata": {},
     "output_type": "execute_result"
    }
   ],
   "source": [
    "df.isna().sum()"
   ]
  },
  {
   "cell_type": "markdown",
   "id": "86106812",
   "metadata": {},
   "source": [
    "$\\Rightarrow$ <font color=\"asparagus\"> There are no nulls in the data </font>"
   ]
  },
  {
   "cell_type": "code",
   "execution_count": 8,
   "id": "932135be",
   "metadata": {},
   "outputs": [
    {
     "data": {
      "text/plain": [
       "0"
      ]
     },
     "execution_count": 8,
     "metadata": {},
     "output_type": "execute_result"
    }
   ],
   "source": [
    "df.isna().sum().sum() "
   ]
  },
  {
   "cell_type": "markdown",
   "id": "ea15f13f",
   "metadata": {},
   "source": [
    "# <font color='goldenrod'> II. Data understanding </font>"
   ]
  },
  {
   "cell_type": "markdown",
   "id": "ede5adf9",
   "metadata": {},
   "source": [
    "### <font color='skyblue'>  II.1. Addressing each column"
   ]
  },
  {
   "cell_type": "markdown",
   "id": "5b8e9209",
   "metadata": {},
   "source": [
    "#### II.1.1.  \"instant\"  <br>"
   ]
  },
  {
   "cell_type": "markdown",
   "id": "dbb96dde",
   "metadata": {},
   "source": [
    "$\\Rightarrow$ <font color=\"asparagus\"> Saving the ids in a separate variable, it is not a feature </font>"
   ]
  },
  {
   "cell_type": "code",
   "execution_count": 9,
   "id": "7039830a",
   "metadata": {},
   "outputs": [],
   "source": [
    "ids = df.instant.to_numpy()"
   ]
  },
  {
   "cell_type": "code",
   "execution_count": 10,
   "id": "52f7fe56",
   "metadata": {},
   "outputs": [],
   "source": [
    "cols_to_drop = []"
   ]
  },
  {
   "cell_type": "code",
   "execution_count": 11,
   "id": "cd7b8c0b",
   "metadata": {},
   "outputs": [],
   "source": [
    "cols_to_drop.append(\"instant\")"
   ]
  },
  {
   "cell_type": "markdown",
   "id": "a96ce609",
   "metadata": {},
   "source": [
    "#### II.1.2.  All date related columns: \n",
    "\"dteday\", \"season\", \"yr\", \"mnth\"<br>"
   ]
  },
  {
   "cell_type": "markdown",
   "id": "a35f9a18",
   "metadata": {},
   "source": [
    "\"dteday\"\n",
    "$\\Rightarrow$ <font color=\"asparagus\"> We do not need to keep dteday as a column, since season, year and month is already captured in other columns. We will drop \"dteday\" as our aim should be to keep linearly indepdent columns and remove highly correlated columns </font>"
   ]
  },
  {
   "cell_type": "code",
   "execution_count": 12,
   "id": "5431241e",
   "metadata": {},
   "outputs": [],
   "source": [
    "cols_to_drop.append(\"dteday\")"
   ]
  },
  {
   "cell_type": "markdown",
   "id": "4b3e258a",
   "metadata": {},
   "source": [
    "\"season\"\n",
    "$\\Rightarrow$ <font color=\"asparagus\"> The value of season is [1, 2, 3, 4]. But we know that there is no order among them. Plus, when we build a linear model, we do not want 4 to have more weightage when we do w.T.dot(x) <br> $\\Rightarrow$ We will one hot encode it. </font>"
   ]
  },
  {
   "cell_type": "markdown",
   "id": "c8b10217",
   "metadata": {},
   "source": [
    "\"season\""
   ]
  },
  {
   "cell_type": "code",
   "execution_count": 13,
   "id": "7400980b",
   "metadata": {},
   "outputs": [
    {
     "data": {
      "text/plain": [
       "array([1, 2, 3, 4], dtype=int64)"
      ]
     },
     "execution_count": 13,
     "metadata": {},
     "output_type": "execute_result"
    }
   ],
   "source": [
    "df.season.unique()"
   ]
  },
  {
   "cell_type": "markdown",
   "id": "65c0f8ef",
   "metadata": {},
   "source": [
    "$\\Rightarrow$ <font color=\"asparagus\"> You can use sklearn's OneHotEncoder or pandas' get_dummies. If OneHotEncoder is used, we would need to resize df.season to a 2D array before calling fit()"
   ]
  },
  {
   "cell_type": "code",
   "execution_count": 14,
   "id": "a0b03a82",
   "metadata": {},
   "outputs": [],
   "source": [
    " df_season= pd.get_dummies(df.season, prefix=\"season\", drop_first=True)"
   ]
  },
  {
   "cell_type": "code",
   "execution_count": 15,
   "id": "c5bd6199",
   "metadata": {},
   "outputs": [
    {
     "data": {
      "text/html": [
       "<div>\n",
       "<style scoped>\n",
       "    .dataframe tbody tr th:only-of-type {\n",
       "        vertical-align: middle;\n",
       "    }\n",
       "\n",
       "    .dataframe tbody tr th {\n",
       "        vertical-align: top;\n",
       "    }\n",
       "\n",
       "    .dataframe thead th {\n",
       "        text-align: right;\n",
       "    }\n",
       "</style>\n",
       "<table border=\"1\" class=\"dataframe\">\n",
       "  <thead>\n",
       "    <tr style=\"text-align: right;\">\n",
       "      <th></th>\n",
       "      <th>season_2</th>\n",
       "      <th>season_3</th>\n",
       "      <th>season_4</th>\n",
       "    </tr>\n",
       "  </thead>\n",
       "  <tbody>\n",
       "    <tr>\n",
       "      <th>0</th>\n",
       "      <td>0</td>\n",
       "      <td>0</td>\n",
       "      <td>0</td>\n",
       "    </tr>\n",
       "    <tr>\n",
       "      <th>1</th>\n",
       "      <td>0</td>\n",
       "      <td>0</td>\n",
       "      <td>0</td>\n",
       "    </tr>\n",
       "    <tr>\n",
       "      <th>2</th>\n",
       "      <td>0</td>\n",
       "      <td>0</td>\n",
       "      <td>0</td>\n",
       "    </tr>\n",
       "    <tr>\n",
       "      <th>3</th>\n",
       "      <td>0</td>\n",
       "      <td>0</td>\n",
       "      <td>0</td>\n",
       "    </tr>\n",
       "    <tr>\n",
       "      <th>4</th>\n",
       "      <td>0</td>\n",
       "      <td>0</td>\n",
       "      <td>0</td>\n",
       "    </tr>\n",
       "  </tbody>\n",
       "</table>\n",
       "</div>"
      ],
      "text/plain": [
       "   season_2  season_3  season_4\n",
       "0         0         0         0\n",
       "1         0         0         0\n",
       "2         0         0         0\n",
       "3         0         0         0\n",
       "4         0         0         0"
      ]
     },
     "execution_count": 15,
     "metadata": {},
     "output_type": "execute_result"
    }
   ],
   "source": [
    "df_season.head()"
   ]
  },
  {
   "cell_type": "code",
   "execution_count": 16,
   "id": "33596cb9",
   "metadata": {},
   "outputs": [],
   "source": [
    "df = pd.merge(left=df, right=df_season, left_index=True, right_index=True)"
   ]
  },
  {
   "cell_type": "code",
   "execution_count": 17,
   "id": "1c0b9964",
   "metadata": {},
   "outputs": [
    {
     "data": {
      "text/html": [
       "<div>\n",
       "<style scoped>\n",
       "    .dataframe tbody tr th:only-of-type {\n",
       "        vertical-align: middle;\n",
       "    }\n",
       "\n",
       "    .dataframe tbody tr th {\n",
       "        vertical-align: top;\n",
       "    }\n",
       "\n",
       "    .dataframe thead th {\n",
       "        text-align: right;\n",
       "    }\n",
       "</style>\n",
       "<table border=\"1\" class=\"dataframe\">\n",
       "  <thead>\n",
       "    <tr style=\"text-align: right;\">\n",
       "      <th></th>\n",
       "      <th>instant</th>\n",
       "      <th>dteday</th>\n",
       "      <th>season</th>\n",
       "      <th>yr</th>\n",
       "      <th>mnth</th>\n",
       "      <th>holiday</th>\n",
       "      <th>weekday</th>\n",
       "      <th>workingday</th>\n",
       "      <th>weathersit</th>\n",
       "      <th>temp</th>\n",
       "      <th>atemp</th>\n",
       "      <th>hum</th>\n",
       "      <th>windspeed</th>\n",
       "      <th>casual</th>\n",
       "      <th>registered</th>\n",
       "      <th>cnt</th>\n",
       "      <th>season_2</th>\n",
       "      <th>season_3</th>\n",
       "      <th>season_4</th>\n",
       "    </tr>\n",
       "  </thead>\n",
       "  <tbody>\n",
       "    <tr>\n",
       "      <th>0</th>\n",
       "      <td>1</td>\n",
       "      <td>01-01-2018</td>\n",
       "      <td>1</td>\n",
       "      <td>0</td>\n",
       "      <td>1</td>\n",
       "      <td>0</td>\n",
       "      <td>6</td>\n",
       "      <td>0</td>\n",
       "      <td>2</td>\n",
       "      <td>14.110847</td>\n",
       "      <td>18.18125</td>\n",
       "      <td>80.5833</td>\n",
       "      <td>10.749882</td>\n",
       "      <td>331</td>\n",
       "      <td>654</td>\n",
       "      <td>985</td>\n",
       "      <td>0</td>\n",
       "      <td>0</td>\n",
       "      <td>0</td>\n",
       "    </tr>\n",
       "    <tr>\n",
       "      <th>1</th>\n",
       "      <td>2</td>\n",
       "      <td>02-01-2018</td>\n",
       "      <td>1</td>\n",
       "      <td>0</td>\n",
       "      <td>1</td>\n",
       "      <td>0</td>\n",
       "      <td>0</td>\n",
       "      <td>0</td>\n",
       "      <td>2</td>\n",
       "      <td>14.902598</td>\n",
       "      <td>17.68695</td>\n",
       "      <td>69.6087</td>\n",
       "      <td>16.652113</td>\n",
       "      <td>131</td>\n",
       "      <td>670</td>\n",
       "      <td>801</td>\n",
       "      <td>0</td>\n",
       "      <td>0</td>\n",
       "      <td>0</td>\n",
       "    </tr>\n",
       "    <tr>\n",
       "      <th>2</th>\n",
       "      <td>3</td>\n",
       "      <td>03-01-2018</td>\n",
       "      <td>1</td>\n",
       "      <td>0</td>\n",
       "      <td>1</td>\n",
       "      <td>0</td>\n",
       "      <td>1</td>\n",
       "      <td>1</td>\n",
       "      <td>1</td>\n",
       "      <td>8.050924</td>\n",
       "      <td>9.47025</td>\n",
       "      <td>43.7273</td>\n",
       "      <td>16.636703</td>\n",
       "      <td>120</td>\n",
       "      <td>1229</td>\n",
       "      <td>1349</td>\n",
       "      <td>0</td>\n",
       "      <td>0</td>\n",
       "      <td>0</td>\n",
       "    </tr>\n",
       "    <tr>\n",
       "      <th>3</th>\n",
       "      <td>4</td>\n",
       "      <td>04-01-2018</td>\n",
       "      <td>1</td>\n",
       "      <td>0</td>\n",
       "      <td>1</td>\n",
       "      <td>0</td>\n",
       "      <td>2</td>\n",
       "      <td>1</td>\n",
       "      <td>1</td>\n",
       "      <td>8.200000</td>\n",
       "      <td>10.60610</td>\n",
       "      <td>59.0435</td>\n",
       "      <td>10.739832</td>\n",
       "      <td>108</td>\n",
       "      <td>1454</td>\n",
       "      <td>1562</td>\n",
       "      <td>0</td>\n",
       "      <td>0</td>\n",
       "      <td>0</td>\n",
       "    </tr>\n",
       "    <tr>\n",
       "      <th>4</th>\n",
       "      <td>5</td>\n",
       "      <td>05-01-2018</td>\n",
       "      <td>1</td>\n",
       "      <td>0</td>\n",
       "      <td>1</td>\n",
       "      <td>0</td>\n",
       "      <td>3</td>\n",
       "      <td>1</td>\n",
       "      <td>1</td>\n",
       "      <td>9.305237</td>\n",
       "      <td>11.46350</td>\n",
       "      <td>43.6957</td>\n",
       "      <td>12.522300</td>\n",
       "      <td>82</td>\n",
       "      <td>1518</td>\n",
       "      <td>1600</td>\n",
       "      <td>0</td>\n",
       "      <td>0</td>\n",
       "      <td>0</td>\n",
       "    </tr>\n",
       "  </tbody>\n",
       "</table>\n",
       "</div>"
      ],
      "text/plain": [
       "   instant      dteday  season  yr  mnth  holiday  weekday  workingday  \\\n",
       "0        1  01-01-2018       1   0     1        0        6           0   \n",
       "1        2  02-01-2018       1   0     1        0        0           0   \n",
       "2        3  03-01-2018       1   0     1        0        1           1   \n",
       "3        4  04-01-2018       1   0     1        0        2           1   \n",
       "4        5  05-01-2018       1   0     1        0        3           1   \n",
       "\n",
       "   weathersit       temp     atemp      hum  windspeed  casual  registered  \\\n",
       "0           2  14.110847  18.18125  80.5833  10.749882     331         654   \n",
       "1           2  14.902598  17.68695  69.6087  16.652113     131         670   \n",
       "2           1   8.050924   9.47025  43.7273  16.636703     120        1229   \n",
       "3           1   8.200000  10.60610  59.0435  10.739832     108        1454   \n",
       "4           1   9.305237  11.46350  43.6957  12.522300      82        1518   \n",
       "\n",
       "    cnt  season_2  season_3  season_4  \n",
       "0   985         0         0         0  \n",
       "1   801         0         0         0  \n",
       "2  1349         0         0         0  \n",
       "3  1562         0         0         0  \n",
       "4  1600         0         0         0  "
      ]
     },
     "execution_count": 17,
     "metadata": {},
     "output_type": "execute_result"
    }
   ],
   "source": [
    "df.head()"
   ]
  },
  {
   "cell_type": "code",
   "execution_count": 18,
   "id": "e6919e88",
   "metadata": {},
   "outputs": [],
   "source": [
    "# We can drop season now\n",
    "cols_to_drop.append(\"season\")"
   ]
  },
  {
   "cell_type": "code",
   "execution_count": 19,
   "id": "38170644",
   "metadata": {},
   "outputs": [
    {
     "data": {
      "text/plain": [
       "['instant', 'dteday', 'season']"
      ]
     },
     "execution_count": 19,
     "metadata": {},
     "output_type": "execute_result"
    }
   ],
   "source": [
    "cols_to_drop"
   ]
  },
  {
   "cell_type": "markdown",
   "id": "935d1cdd",
   "metadata": {},
   "source": [
    "\"yr\""
   ]
  },
  {
   "cell_type": "markdown",
   "id": "1b9f51fd",
   "metadata": {},
   "source": [
    "$\\Rightarrow$ <font color=\"asparagus\"> Let's leave this for now. According to the data dictionary, 0: 2018 and 1: 2019"
   ]
  },
  {
   "cell_type": "code",
   "execution_count": 20,
   "id": "7864ba94",
   "metadata": {},
   "outputs": [
    {
     "data": {
      "text/plain": [
       "array([0, 1], dtype=int64)"
      ]
     },
     "execution_count": 20,
     "metadata": {},
     "output_type": "execute_result"
    }
   ],
   "source": [
    "df.yr.unique()"
   ]
  },
  {
   "cell_type": "markdown",
   "id": "77623c0f",
   "metadata": {},
   "source": [
    "\"mnth\""
   ]
  },
  {
   "cell_type": "markdown",
   "id": "40f6d7b6",
   "metadata": {},
   "source": [
    "$\\Rightarrow$ <font color=\"asparagus\"> There is no order here i.e. December is not greater than January. We can one hot encode it "
   ]
  },
  {
   "cell_type": "code",
   "execution_count": 21,
   "id": "8aa06293",
   "metadata": {},
   "outputs": [],
   "source": [
    "df_month= pd.get_dummies(df.mnth, prefix=\"month\", drop_first=True)"
   ]
  },
  {
   "cell_type": "code",
   "execution_count": 22,
   "id": "77883acc",
   "metadata": {},
   "outputs": [],
   "source": [
    "df = pd.merge(left=df, right=df_month, left_index=True, right_index=True)"
   ]
  },
  {
   "cell_type": "code",
   "execution_count": 23,
   "id": "30181a0f",
   "metadata": {},
   "outputs": [],
   "source": [
    "cols_to_drop.append(\"mnth\")"
   ]
  },
  {
   "cell_type": "markdown",
   "id": "5e4dbd66",
   "metadata": {},
   "source": [
    "#### II.1.3.  \"holiday\", \"weekday\", \"workingday\"\n",
    "$\\Rightarrow$ <font color=\"asparagus\"> We know that if it is a holiday, it is not a working day : ) Only one column is needed and the other can be dropped. </font>"
   ]
  },
  {
   "cell_type": "code",
   "execution_count": 24,
   "id": "60b80dc9",
   "metadata": {},
   "outputs": [],
   "source": [
    "cols_to_drop.append(\"holiday\")"
   ]
  },
  {
   "cell_type": "markdown",
   "id": "d9a071b3",
   "metadata": {},
   "source": [
    "$\\Rightarrow$ <font color=\"asparagus\"> Will study the correlation and accordingly remove the columns as needed"
   ]
  },
  {
   "cell_type": "markdown",
   "id": "d7842a3f",
   "metadata": {},
   "source": [
    "#### II.1.4.  \"weathersit\"\n",
    "         1: Clear, Few clouds, Partly cloudy, Partly cloudy\n",
    "\t\t 2: Mist + Cloudy, Mist + Broken clouds, Mist + Few clouds, Mist\n",
    "\t\t 3: Light Snow, Light Rain + Thunderstorm + Scattered clouds, Light Rain+Scattered clouds\n",
    "\t\t 4: Heavy Rain + Ice Pallets + Thunderstorm + Mist, Snow + Fog"
   ]
  },
  {
   "cell_type": "markdown",
   "id": "e81eae83",
   "metadata": {},
   "source": [
    "$\\Rightarrow$ <font color=\"asparagus\"> One Hot encoding it"
   ]
  },
  {
   "cell_type": "code",
   "execution_count": 25,
   "id": "063dbd83",
   "metadata": {},
   "outputs": [
    {
     "data": {
      "text/plain": [
       "array([2, 1, 3], dtype=int64)"
      ]
     },
     "execution_count": 25,
     "metadata": {},
     "output_type": "execute_result"
    }
   ],
   "source": [
    "df.weathersit.unique()"
   ]
  },
  {
   "cell_type": "code",
   "execution_count": 26,
   "id": "b9cdc0b1",
   "metadata": {},
   "outputs": [],
   "source": [
    " df_weathersit= pd.get_dummies(df.weathersit, prefix=\"weathersit\", drop_first=True)"
   ]
  },
  {
   "cell_type": "code",
   "execution_count": 27,
   "id": "80f48164",
   "metadata": {},
   "outputs": [],
   "source": [
    "df = pd.merge(left=df, right=df_weathersit, left_index=True, right_index=True)"
   ]
  },
  {
   "cell_type": "code",
   "execution_count": 28,
   "id": "9c5bb14a",
   "metadata": {},
   "outputs": [],
   "source": [
    "cols_to_drop.append(\"weathersit\") # We can drop weathersit now"
   ]
  },
  {
   "cell_type": "code",
   "execution_count": 29,
   "id": "da519aef",
   "metadata": {},
   "outputs": [
    {
     "data": {
      "text/plain": [
       "['instant', 'dteday', 'season', 'mnth', 'holiday', 'weathersit']"
      ]
     },
     "execution_count": 29,
     "metadata": {},
     "output_type": "execute_result"
    }
   ],
   "source": [
    "cols_to_drop"
   ]
  },
  {
   "cell_type": "markdown",
   "id": "5f0ea32c",
   "metadata": {},
   "source": [
    "#### II.1.4.  \"temp\" and \"atemp\"\n"
   ]
  },
  {
   "cell_type": "markdown",
   "id": "8dc633b0",
   "metadata": {},
   "source": [
    "$\\Rightarrow$ <font color=\"asparagus\"> We can drop one of the columns, most likely. \"Feels like\" seems to be redundant. Heatmap will tell us this"
   ]
  },
  {
   "cell_type": "code",
   "execution_count": 30,
   "id": "7e468f1b",
   "metadata": {},
   "outputs": [
    {
     "data": {
      "text/plain": [
       "498"
      ]
     },
     "execution_count": 30,
     "metadata": {},
     "output_type": "execute_result"
    }
   ],
   "source": [
    "df.temp.nunique()"
   ]
  },
  {
   "cell_type": "markdown",
   "id": "419c1070",
   "metadata": {},
   "source": [
    "#### II.1.5.  \"hum\" and \"windspeed\""
   ]
  },
  {
   "cell_type": "code",
   "execution_count": 31,
   "id": "e27e7be3",
   "metadata": {},
   "outputs": [
    {
     "data": {
      "text/plain": [
       "649"
      ]
     },
     "execution_count": 31,
     "metadata": {},
     "output_type": "execute_result"
    }
   ],
   "source": [
    "df.windspeed.nunique()"
   ]
  },
  {
   "cell_type": "code",
   "execution_count": 32,
   "id": "ecb79e14",
   "metadata": {},
   "outputs": [
    {
     "data": {
      "text/plain": [
       "594"
      ]
     },
     "execution_count": 32,
     "metadata": {},
     "output_type": "execute_result"
    }
   ],
   "source": [
    "df.hum.nunique()"
   ]
  },
  {
   "cell_type": "markdown",
   "id": "fff6eb02",
   "metadata": {},
   "source": [
    "#### II.1.6.  \"casual\" and \"registered\"\n"
   ]
  },
  {
   "cell_type": "markdown",
   "id": "e51d0fdd",
   "metadata": {},
   "source": [
    "$\\Rightarrow$ The sum of \"casual\" and \"registered\" will equal \"cnt\". They are not features either. We can drop them."
   ]
  },
  {
   "cell_type": "code",
   "execution_count": 33,
   "id": "47d182d4",
   "metadata": {},
   "outputs": [],
   "source": [
    "cols_to_drop.extend([\"casual\", \"registered\"])"
   ]
  },
  {
   "cell_type": "markdown",
   "id": "9b027bc6",
   "metadata": {},
   "source": [
    "Dropping the columns accumulated so far"
   ]
  },
  {
   "cell_type": "code",
   "execution_count": 34,
   "id": "a0ccb657",
   "metadata": {},
   "outputs": [
    {
     "data": {
      "text/plain": [
       "['instant',\n",
       " 'dteday',\n",
       " 'season',\n",
       " 'mnth',\n",
       " 'holiday',\n",
       " 'weathersit',\n",
       " 'casual',\n",
       " 'registered']"
      ]
     },
     "execution_count": 34,
     "metadata": {},
     "output_type": "execute_result"
    }
   ],
   "source": [
    "cols_to_drop"
   ]
  },
  {
   "cell_type": "code",
   "execution_count": 35,
   "id": "97054986",
   "metadata": {},
   "outputs": [],
   "source": [
    "df.drop(columns=cols_to_drop, axis=1, inplace=True)"
   ]
  },
  {
   "cell_type": "code",
   "execution_count": 36,
   "id": "4aa7e0ca",
   "metadata": {},
   "outputs": [
    {
     "name": "stdout",
     "output_type": "stream",
     "text": [
      "<class 'pandas.core.frame.DataFrame'>\n",
      "RangeIndex: 730 entries, 0 to 729\n",
      "Data columns (total 24 columns):\n",
      " #   Column        Non-Null Count  Dtype  \n",
      "---  ------        --------------  -----  \n",
      " 0   yr            730 non-null    int64  \n",
      " 1   weekday       730 non-null    int64  \n",
      " 2   workingday    730 non-null    int64  \n",
      " 3   temp          730 non-null    float64\n",
      " 4   atemp         730 non-null    float64\n",
      " 5   hum           730 non-null    float64\n",
      " 6   windspeed     730 non-null    float64\n",
      " 7   cnt           730 non-null    int64  \n",
      " 8   season_2      730 non-null    uint8  \n",
      " 9   season_3      730 non-null    uint8  \n",
      " 10  season_4      730 non-null    uint8  \n",
      " 11  month_2       730 non-null    uint8  \n",
      " 12  month_3       730 non-null    uint8  \n",
      " 13  month_4       730 non-null    uint8  \n",
      " 14  month_5       730 non-null    uint8  \n",
      " 15  month_6       730 non-null    uint8  \n",
      " 16  month_7       730 non-null    uint8  \n",
      " 17  month_8       730 non-null    uint8  \n",
      " 18  month_9       730 non-null    uint8  \n",
      " 19  month_10      730 non-null    uint8  \n",
      " 20  month_11      730 non-null    uint8  \n",
      " 21  month_12      730 non-null    uint8  \n",
      " 22  weathersit_2  730 non-null    uint8  \n",
      " 23  weathersit_3  730 non-null    uint8  \n",
      "dtypes: float64(4), int64(4), uint8(16)\n",
      "memory usage: 57.2 KB\n"
     ]
    }
   ],
   "source": [
    "df.info()"
   ]
  },
  {
   "cell_type": "markdown",
   "id": "611f933c",
   "metadata": {},
   "source": [
    "### <font color='skyblue'>  II.2. Correlation<font>"
   ]
  },
  {
   "cell_type": "markdown",
   "id": "ed99dbf1",
   "metadata": {},
   "source": [
    "#### <font color=\"asparagus\"> *Need to create a heatmap of all the retained numeric variables and check the relationship* <font>"
   ]
  },
  {
   "cell_type": "code",
   "execution_count": 37,
   "id": "71d368eb",
   "metadata": {},
   "outputs": [],
   "source": [
    "# Define the heatmap parameters\n",
    "pd.options.display.float_format = \"{:,.2f}\".format"
   ]
  },
  {
   "cell_type": "code",
   "execution_count": 38,
   "id": "3bc39f3a",
   "metadata": {},
   "outputs": [
    {
     "data": {
      "text/html": [
       "<div>\n",
       "<style scoped>\n",
       "    .dataframe tbody tr th:only-of-type {\n",
       "        vertical-align: middle;\n",
       "    }\n",
       "\n",
       "    .dataframe tbody tr th {\n",
       "        vertical-align: top;\n",
       "    }\n",
       "\n",
       "    .dataframe thead th {\n",
       "        text-align: right;\n",
       "    }\n",
       "</style>\n",
       "<table border=\"1\" class=\"dataframe\">\n",
       "  <thead>\n",
       "    <tr style=\"text-align: right;\">\n",
       "      <th></th>\n",
       "      <th>yr</th>\n",
       "      <th>weekday</th>\n",
       "      <th>workingday</th>\n",
       "      <th>temp</th>\n",
       "      <th>atemp</th>\n",
       "      <th>hum</th>\n",
       "      <th>windspeed</th>\n",
       "      <th>cnt</th>\n",
       "      <th>season_2</th>\n",
       "      <th>season_3</th>\n",
       "      <th>...</th>\n",
       "      <th>month_5</th>\n",
       "      <th>month_6</th>\n",
       "      <th>month_7</th>\n",
       "      <th>month_8</th>\n",
       "      <th>month_9</th>\n",
       "      <th>month_10</th>\n",
       "      <th>month_11</th>\n",
       "      <th>month_12</th>\n",
       "      <th>weathersit_2</th>\n",
       "      <th>weathersit_3</th>\n",
       "    </tr>\n",
       "  </thead>\n",
       "  <tbody>\n",
       "    <tr>\n",
       "      <th>0</th>\n",
       "      <td>0</td>\n",
       "      <td>6</td>\n",
       "      <td>0</td>\n",
       "      <td>14.11</td>\n",
       "      <td>18.18</td>\n",
       "      <td>80.58</td>\n",
       "      <td>10.75</td>\n",
       "      <td>985</td>\n",
       "      <td>0</td>\n",
       "      <td>0</td>\n",
       "      <td>...</td>\n",
       "      <td>0</td>\n",
       "      <td>0</td>\n",
       "      <td>0</td>\n",
       "      <td>0</td>\n",
       "      <td>0</td>\n",
       "      <td>0</td>\n",
       "      <td>0</td>\n",
       "      <td>0</td>\n",
       "      <td>1</td>\n",
       "      <td>0</td>\n",
       "    </tr>\n",
       "    <tr>\n",
       "      <th>1</th>\n",
       "      <td>0</td>\n",
       "      <td>0</td>\n",
       "      <td>0</td>\n",
       "      <td>14.90</td>\n",
       "      <td>17.69</td>\n",
       "      <td>69.61</td>\n",
       "      <td>16.65</td>\n",
       "      <td>801</td>\n",
       "      <td>0</td>\n",
       "      <td>0</td>\n",
       "      <td>...</td>\n",
       "      <td>0</td>\n",
       "      <td>0</td>\n",
       "      <td>0</td>\n",
       "      <td>0</td>\n",
       "      <td>0</td>\n",
       "      <td>0</td>\n",
       "      <td>0</td>\n",
       "      <td>0</td>\n",
       "      <td>1</td>\n",
       "      <td>0</td>\n",
       "    </tr>\n",
       "    <tr>\n",
       "      <th>2</th>\n",
       "      <td>0</td>\n",
       "      <td>1</td>\n",
       "      <td>1</td>\n",
       "      <td>8.05</td>\n",
       "      <td>9.47</td>\n",
       "      <td>43.73</td>\n",
       "      <td>16.64</td>\n",
       "      <td>1349</td>\n",
       "      <td>0</td>\n",
       "      <td>0</td>\n",
       "      <td>...</td>\n",
       "      <td>0</td>\n",
       "      <td>0</td>\n",
       "      <td>0</td>\n",
       "      <td>0</td>\n",
       "      <td>0</td>\n",
       "      <td>0</td>\n",
       "      <td>0</td>\n",
       "      <td>0</td>\n",
       "      <td>0</td>\n",
       "      <td>0</td>\n",
       "    </tr>\n",
       "    <tr>\n",
       "      <th>3</th>\n",
       "      <td>0</td>\n",
       "      <td>2</td>\n",
       "      <td>1</td>\n",
       "      <td>8.20</td>\n",
       "      <td>10.61</td>\n",
       "      <td>59.04</td>\n",
       "      <td>10.74</td>\n",
       "      <td>1562</td>\n",
       "      <td>0</td>\n",
       "      <td>0</td>\n",
       "      <td>...</td>\n",
       "      <td>0</td>\n",
       "      <td>0</td>\n",
       "      <td>0</td>\n",
       "      <td>0</td>\n",
       "      <td>0</td>\n",
       "      <td>0</td>\n",
       "      <td>0</td>\n",
       "      <td>0</td>\n",
       "      <td>0</td>\n",
       "      <td>0</td>\n",
       "    </tr>\n",
       "    <tr>\n",
       "      <th>4</th>\n",
       "      <td>0</td>\n",
       "      <td>3</td>\n",
       "      <td>1</td>\n",
       "      <td>9.31</td>\n",
       "      <td>11.46</td>\n",
       "      <td>43.70</td>\n",
       "      <td>12.52</td>\n",
       "      <td>1600</td>\n",
       "      <td>0</td>\n",
       "      <td>0</td>\n",
       "      <td>...</td>\n",
       "      <td>0</td>\n",
       "      <td>0</td>\n",
       "      <td>0</td>\n",
       "      <td>0</td>\n",
       "      <td>0</td>\n",
       "      <td>0</td>\n",
       "      <td>0</td>\n",
       "      <td>0</td>\n",
       "      <td>0</td>\n",
       "      <td>0</td>\n",
       "    </tr>\n",
       "  </tbody>\n",
       "</table>\n",
       "<p>5 rows × 24 columns</p>\n",
       "</div>"
      ],
      "text/plain": [
       "   yr  weekday  workingday  temp  atemp   hum  windspeed   cnt  season_2  \\\n",
       "0   0        6           0 14.11  18.18 80.58      10.75   985         0   \n",
       "1   0        0           0 14.90  17.69 69.61      16.65   801         0   \n",
       "2   0        1           1  8.05   9.47 43.73      16.64  1349         0   \n",
       "3   0        2           1  8.20  10.61 59.04      10.74  1562         0   \n",
       "4   0        3           1  9.31  11.46 43.70      12.52  1600         0   \n",
       "\n",
       "   season_3  ...  month_5  month_6  month_7  month_8  month_9  month_10  \\\n",
       "0         0  ...        0        0        0        0        0         0   \n",
       "1         0  ...        0        0        0        0        0         0   \n",
       "2         0  ...        0        0        0        0        0         0   \n",
       "3         0  ...        0        0        0        0        0         0   \n",
       "4         0  ...        0        0        0        0        0         0   \n",
       "\n",
       "   month_11  month_12  weathersit_2  weathersit_3  \n",
       "0         0         0             1             0  \n",
       "1         0         0             1             0  \n",
       "2         0         0             0             0  \n",
       "3         0         0             0             0  \n",
       "4         0         0             0             0  \n",
       "\n",
       "[5 rows x 24 columns]"
      ]
     },
     "execution_count": 38,
     "metadata": {},
     "output_type": "execute_result"
    }
   ],
   "source": [
    "df.head()"
   ]
  },
  {
   "cell_type": "markdown",
   "id": "0d4e58ce",
   "metadata": {},
   "source": [
    "#### <font color=\"asparagus\"> Segregating the columns into continuous and categorical: <font> <br> \n",
    "Any column with more than 10 unique values is a continuous variable "
   ]
  },
  {
   "cell_type": "code",
   "execution_count": 39,
   "id": "1dfefe47",
   "metadata": {},
   "outputs": [],
   "source": [
    "cont_cols = [col for col in df.columns if df[col].nunique() > 10]"
   ]
  },
  {
   "cell_type": "code",
   "execution_count": 40,
   "id": "6b107f04",
   "metadata": {},
   "outputs": [
    {
     "data": {
      "text/plain": [
       "['temp', 'atemp', 'hum', 'windspeed', 'cnt']"
      ]
     },
     "execution_count": 40,
     "metadata": {},
     "output_type": "execute_result"
    }
   ],
   "source": [
    "cont_cols"
   ]
  },
  {
   "cell_type": "code",
   "execution_count": 41,
   "id": "ed8d7f2b",
   "metadata": {},
   "outputs": [],
   "source": [
    "cat_cols = [col for col in df.columns if col not in cont_cols]"
   ]
  },
  {
   "cell_type": "code",
   "execution_count": 42,
   "id": "3d72a539",
   "metadata": {},
   "outputs": [
    {
     "data": {
      "text/plain": [
       "['yr',\n",
       " 'weekday',\n",
       " 'workingday',\n",
       " 'season_2',\n",
       " 'season_3',\n",
       " 'season_4',\n",
       " 'month_2',\n",
       " 'month_3',\n",
       " 'month_4',\n",
       " 'month_5',\n",
       " 'month_6',\n",
       " 'month_7',\n",
       " 'month_8',\n",
       " 'month_9',\n",
       " 'month_10',\n",
       " 'month_11',\n",
       " 'month_12',\n",
       " 'weathersit_2',\n",
       " 'weathersit_3']"
      ]
     },
     "execution_count": 42,
     "metadata": {},
     "output_type": "execute_result"
    }
   ],
   "source": [
    "cat_cols"
   ]
  },
  {
   "cell_type": "code",
   "execution_count": 43,
   "id": "a1cf5502",
   "metadata": {},
   "outputs": [],
   "source": [
    "df_numeric = df[cont_cols]"
   ]
  },
  {
   "cell_type": "code",
   "execution_count": 44,
   "id": "9c4d15e5",
   "metadata": {},
   "outputs": [],
   "source": [
    "corr_mat = df_numeric.corr()"
   ]
  },
  {
   "cell_type": "code",
   "execution_count": 45,
   "id": "b8b8c086",
   "metadata": {},
   "outputs": [
    {
     "data": {
      "image/png": "[encoded data removed]",
      "text/plain": [
       "<Figure size 1080x1080 with 2 Axes>"
      ]
     },
     "metadata": {
      "needs_background": "light"
     },
     "output_type": "display_data"
    },
    {
     "data": {
      "text/plain": [
       "<Figure size 432x288 with 0 Axes>"
      ]
     },
     "metadata": {},
     "output_type": "display_data"
    }
   ],
   "source": [
    "# Mask the upper part of the heatmap\n",
    "mask = np.triu(np.ones_like(corr_mat, dtype=bool))\n",
    "# Choose the color map\n",
    "cmap = \"viridis\"\n",
    "\n",
    "corr_mat[(corr_mat < 0.1) & (corr_mat > -0.1)] = 0 # Easier to view, don't really care obout weak correlations\n",
    "# plot the heatmap\n",
    "plt.figure(figsize=(15,15))\n",
    "sns.heatmap(corr_mat, mask=mask, vmax=1.0, vmin=-1.0, linewidths=0.1,\n",
    "            annot_kws={\"size\": 15, \"color\": \"black\"}, square=True, cmap=cmap, annot=True)\n",
    "plt.show()\n",
    "plt.tight_layout()"
   ]
  },
  {
   "cell_type": "markdown",
   "id": "e8896ce7",
   "metadata": {},
   "source": [
    "##### Strengh of relationship\n",
    "\n",
    "* |r| < 0.3 $\\Rightarrow$ None or Very Weak\n",
    "* 0.3 < |r| < 0.5 $\\Rightarrow$ Weak\n",
    "* 0.5 < |r| < 0.7 $\\Rightarrow$ Moderate\n",
    "* |r| > 0.7 $\\Rightarrow$ Strong"
   ]
  },
  {
   "cell_type": "markdown",
   "id": "9287e2a2",
   "metadata": {},
   "source": [
    "$\\Rightarrow$ <font color=\"asparagus\"> As suspected, \"atemp\" is pointless to keep, we can drop that.<br>\n",
    "$\\Rightarrow$ The other indepedent variables do not have strong correlations. We don't have to disard any of the others. </font>\n"
   ]
  },
  {
   "cell_type": "code",
   "execution_count": 46,
   "id": "4daab8ec",
   "metadata": {},
   "outputs": [],
   "source": [
    "df.drop(\"atemp\", axis=1, inplace=True)"
   ]
  },
  {
   "cell_type": "markdown",
   "id": "c244f608",
   "metadata": {},
   "source": [
    "### <font color='skyblue'>  II.3. Boxplots and IQR analysis <font>"
   ]
  },
  {
   "cell_type": "code",
   "execution_count": 47,
   "id": "d6f148cb",
   "metadata": {},
   "outputs": [
    {
     "data": {
      "text/plain": [
       "['temp', 'atemp', 'hum', 'windspeed', 'cnt']"
      ]
     },
     "execution_count": 47,
     "metadata": {},
     "output_type": "execute_result"
    }
   ],
   "source": [
    "cont_cols"
   ]
  },
  {
   "cell_type": "code",
   "execution_count": 48,
   "id": "20f47e62",
   "metadata": {},
   "outputs": [],
   "source": [
    "cont_cols.remove(\"atemp\")"
   ]
  },
  {
   "cell_type": "code",
   "execution_count": 49,
   "id": "98e1d787",
   "metadata": {},
   "outputs": [
    {
     "data": {
      "text/plain": [
       "['temp', 'hum', 'windspeed', 'cnt']"
      ]
     },
     "execution_count": 49,
     "metadata": {},
     "output_type": "execute_result"
    }
   ],
   "source": [
    "cont_cols"
   ]
  },
  {
   "cell_type": "code",
   "execution_count": 50,
   "id": "10de73dd",
   "metadata": {},
   "outputs": [
    {
     "name": "stderr",
     "output_type": "stream",
     "text": [
      "D:\\Anaconda\\lib\\site-packages\\pandas\\core\\frame.py:4906: SettingWithCopyWarning: \n",
      "A value is trying to be set on a copy of a slice from a DataFrame\n",
      "\n",
      "See the caveats in the documentation: https://pandas.pydata.org/pandas-docs/stable/user_guide/indexing.html#returning-a-view-versus-a-copy\n",
      "  return super().drop(\n"
     ]
    }
   ],
   "source": [
    "df_numeric.drop(\"atemp\", axis=1, inplace=True)"
   ]
  },
  {
   "cell_type": "code",
   "execution_count": 51,
   "id": "0654717d",
   "metadata": {},
   "outputs": [
    {
     "data": {
      "text/plain": [
       "Index(['temp', 'hum', 'windspeed', 'cnt'], dtype='object')"
      ]
     },
     "execution_count": 51,
     "metadata": {},
     "output_type": "execute_result"
    }
   ],
   "source": [
    "df_numeric.columns"
   ]
  },
  {
   "cell_type": "markdown",
   "id": "359976ec",
   "metadata": {},
   "source": [
    "#### II.3.1. Boxplots of numerical columns alone(Univariate analysis)"
   ]
  },
  {
   "cell_type": "code",
   "execution_count": 52,
   "id": "41c0e42a",
   "metadata": {},
   "outputs": [
    {
     "data": {
      "image/png": "[encoded data removed]",
      "text/plain": [
       "<Figure size 360x360 with 1 Axes>"
      ]
     },
     "metadata": {
      "needs_background": "light"
     },
     "output_type": "display_data"
    },
    {
     "data": {
      "image/png": "[encoded data removed]",
      "text/plain": [
       "<Figure size 360x360 with 1 Axes>"
      ]
     },
     "metadata": {
      "needs_background": "light"
     },
     "output_type": "display_data"
    },
    {
     "data": {
      "image/png": "[encoded data removed]",
      "text/plain": [
       "<Figure size 360x360 with 1 Axes>"
      ]
     },
     "metadata": {
      "needs_background": "light"
     },
     "output_type": "display_data"
    },
    {
     "data": {
      "image/png": "[encoded data removed]",
      "text/plain": [
       "<Figure size 360x360 with 1 Axes>"
      ]
     },
     "metadata": {
      "needs_background": "light"
     },
     "output_type": "display_data"
    }
   ],
   "source": [
    "for col in df_numeric.columns:\n",
    "    plt.figure(figsize=(5,5))\n",
    "    sns.boxplot(y=col,\n",
    "                data=df_numeric)\n",
    "    plt.show()"
   ]
  },
  {
   "cell_type": "markdown",
   "id": "ae2866d7",
   "metadata": {},
   "source": [
    "$\\Rightarrow$ <font color=\"asparagus\"> The above plot suggests that there are some outliers in the data, but since the data is quite small (number of rows = 730), it may not be wise to drop them.<br> </font>\n",
    "$\\Rightarrow$ <font color=\"asparagus\">We will save the row indexes of the top 1% and bottom 1% of every column in two separate dictionaries though </font>"
   ]
  },
  {
   "cell_type": "markdown",
   "id": "cc034c7d",
   "metadata": {},
   "source": [
    "$\\Rightarrow$ <font color=\"asparagus\"> Saving 1% 25%, 50%, 75% and 99% information of every column in a dictionary. </font>"
   ]
  },
  {
   "cell_type": "code",
   "execution_count": 53,
   "id": "36cbd0f0",
   "metadata": {},
   "outputs": [],
   "source": [
    "column_quantile_info ={}\n",
    "for col in df_numeric.columns:\n",
    "    Q1 = np.quantile(df[col], 0.25)\n",
    "    Q2 = np.quantile(df[col], 0.5)\n",
    "    Q3 = np.quantile(df[col], 0.75)\n",
    "    Q4 = np.quantile(df[col], 0.99)\n",
    "    Q5 = np.quantile(df[col], 0.01)\n",
    "    IQR = Q3 - Q1\n",
    "    column_quantile_info[col] = [Q1, Q2, Q3, IQR, Q3 + 1.5*IQR, Q1 - 1.5*IQR, Q4, Q5]"
   ]
  },
  {
   "cell_type": "markdown",
   "id": "1a12bb77",
   "metadata": {},
   "source": [
    "#### Top 1%"
   ]
  },
  {
   "cell_type": "code",
   "execution_count": 54,
   "id": "7caed011",
   "metadata": {},
   "outputs": [],
   "source": [
    "upper_outlier_in_every_column = {}"
   ]
  },
  {
   "cell_type": "code",
   "execution_count": 55,
   "id": "88492473",
   "metadata": {},
   "outputs": [],
   "source": [
    "for col in df_numeric.columns:\n",
    "    upper_outlier_in_every_column[col] = (np.where(df[col] > column_quantile_info[col][6]))"
   ]
  },
  {
   "cell_type": "code",
   "execution_count": 56,
   "id": "3b1afb3b",
   "metadata": {},
   "outputs": [
    {
     "data": {
      "text/plain": [
       "{'temp': (array([202, 203, 204, 209, 544, 550, 551, 552], dtype=int64),),\n",
       " 'hum': (array([ 35,  64, 250, 265, 319, 325, 339, 340], dtype=int64),),\n",
       " 'windspeed': (array([ 44,  49, 292, 382, 407, 420, 431, 432], dtype=int64),),\n",
       " 'cnt': (array([446, 503, 570, 616, 622, 628, 629, 636], dtype=int64),)}"
      ]
     },
     "execution_count": 56,
     "metadata": {},
     "output_type": "execute_result"
    }
   ],
   "source": [
    "upper_outlier_in_every_column"
   ]
  },
  {
   "cell_type": "code",
   "execution_count": 57,
   "id": "b6580c07",
   "metadata": {},
   "outputs": [],
   "source": [
    "upper_rows_to_drop = []"
   ]
  },
  {
   "cell_type": "code",
   "execution_count": 58,
   "id": "0e49f2d7",
   "metadata": {},
   "outputs": [],
   "source": [
    "for col in df_numeric.columns:\n",
    "    if len(upper_outlier_in_every_column[col][0]) > 0:\n",
    "        upper_rows_to_drop.extend(upper_outlier_in_every_column[col][0])"
   ]
  },
  {
   "cell_type": "code",
   "execution_count": 59,
   "id": "e8f07073",
   "metadata": {},
   "outputs": [],
   "source": [
    "upper_rows_to_drop = list(set(upper_rows_to_drop))"
   ]
  },
  {
   "cell_type": "code",
   "execution_count": 60,
   "id": "6d952333",
   "metadata": {},
   "outputs": [
    {
     "data": {
      "text/plain": [
       "32"
      ]
     },
     "execution_count": 60,
     "metadata": {},
     "output_type": "execute_result"
    }
   ],
   "source": [
    "len(upper_rows_to_drop)"
   ]
  },
  {
   "cell_type": "markdown",
   "id": "67645819",
   "metadata": {},
   "source": [
    "#### Bottom 1%"
   ]
  },
  {
   "cell_type": "code",
   "execution_count": 61,
   "id": "c81937bf",
   "metadata": {},
   "outputs": [],
   "source": [
    "lower_outlier_in_every_column = {}\n",
    "for col in df_numeric.columns:\n",
    "    lower_outlier_in_every_column[col] = np.where(df[col] < column_quantile_info[col][7])"
   ]
  },
  {
   "cell_type": "code",
   "execution_count": 62,
   "id": "5549e07d",
   "metadata": {},
   "outputs": [],
   "source": [
    "lower_rows_to_drop = []\n",
    "for col in df_numeric.columns:\n",
    "    if len(lower_outlier_in_every_column[col][0]) > 0:\n",
    "        lower_rows_to_drop.extend(lower_outlier_in_every_column[col][0])"
   ]
  },
  {
   "cell_type": "code",
   "execution_count": 63,
   "id": "4da7cf74",
   "metadata": {},
   "outputs": [
    {
     "data": {
      "text/plain": [
       "(32, 32)"
      ]
     },
     "execution_count": 63,
     "metadata": {},
     "output_type": "execute_result"
    }
   ],
   "source": [
    "len(lower_rows_to_drop), len(upper_rows_to_drop)"
   ]
  },
  {
   "cell_type": "markdown",
   "id": "5464217e",
   "metadata": {},
   "source": [
    "$\\Rightarrow$ <font color=\"asparagus\"> There are 3 entries which are common between the two outliers. "
   ]
  },
  {
   "cell_type": "code",
   "execution_count": 64,
   "id": "13849e46",
   "metadata": {},
   "outputs": [
    {
     "data": {
      "text/plain": [
       "[64, 49, 407]"
      ]
     },
     "execution_count": 64,
     "metadata": {},
     "output_type": "execute_result"
    }
   ],
   "source": [
    "list(set(lower_rows_to_drop).intersection(upper_rows_to_drop))"
   ]
  },
  {
   "cell_type": "code",
   "execution_count": 65,
   "id": "717bf3d8",
   "metadata": {},
   "outputs": [],
   "source": [
    "common_rows = list(set(lower_rows_to_drop).intersection(upper_rows_to_drop))"
   ]
  },
  {
   "cell_type": "markdown",
   "id": "6708e6ad",
   "metadata": {},
   "source": [
    "#### II.3.2. Bivariate analysis \"cnt\" against the categorical columns"
   ]
  },
  {
   "cell_type": "code",
   "execution_count": 66,
   "id": "163fda6a",
   "metadata": {},
   "outputs": [],
   "source": [
    "df_orig = pd.read_csv(\"day.csv\")"
   ]
  },
  {
   "cell_type": "code",
   "execution_count": 67,
   "id": "13cec8ee",
   "metadata": {},
   "outputs": [
    {
     "name": "stdout",
     "output_type": "stream",
     "text": [
      "<class 'pandas.core.frame.DataFrame'>\n",
      "RangeIndex: 730 entries, 0 to 729\n",
      "Data columns (total 16 columns):\n",
      " #   Column      Non-Null Count  Dtype  \n",
      "---  ------      --------------  -----  \n",
      " 0   instant     730 non-null    int64  \n",
      " 1   dteday      730 non-null    object \n",
      " 2   season      730 non-null    int64  \n",
      " 3   yr          730 non-null    int64  \n",
      " 4   mnth        730 non-null    int64  \n",
      " 5   holiday     730 non-null    int64  \n",
      " 6   weekday     730 non-null    int64  \n",
      " 7   workingday  730 non-null    int64  \n",
      " 8   weathersit  730 non-null    int64  \n",
      " 9   temp        730 non-null    float64\n",
      " 10  atemp       730 non-null    float64\n",
      " 11  hum         730 non-null    float64\n",
      " 12  windspeed   730 non-null    float64\n",
      " 13  casual      730 non-null    int64  \n",
      " 14  registered  730 non-null    int64  \n",
      " 15  cnt         730 non-null    int64  \n",
      "dtypes: float64(4), int64(11), object(1)\n",
      "memory usage: 91.4+ KB\n"
     ]
    }
   ],
   "source": [
    "df_orig.info()"
   ]
  },
  {
   "cell_type": "code",
   "execution_count": 68,
   "id": "00f8183d",
   "metadata": {},
   "outputs": [
    {
     "data": {
      "image/png": "[encoded data removed]",
      "text/plain": [
       "<Figure size 2160x2160 with 7 Axes>"
      ]
     },
     "metadata": {
      "needs_background": "light"
     },
     "output_type": "display_data"
    }
   ],
   "source": [
    "biv_cols = [\"mnth\", \"holiday\", \"weekday\", \"workingday\", \"weathersit\", \"season\", \"yr\"]\n",
    "plt.figure(figsize=(30,30))\n",
    "for idx, col in enumerate(biv_cols):\n",
    "    plt.subplot(3,3,(idx+1))\n",
    "    sns.boxplot(x=col, y=\"cnt\",\n",
    "                data=df_orig)\n",
    "plt.show()"
   ]
  },
  {
   "cell_type": "markdown",
   "id": "9d1fca00",
   "metadata": {},
   "source": [
    "#### <font color=\"asparagus\"> *Observations and Comments*:</font> \n",
    "$\\Rightarrow$ <font color=\"asparagus\"> \"mnth\" <br> - It can be seen that the months, January, February and March see the lowest sales. <br>- April onwards the sales start to pick up, with the peak in the months of June to October. <br>-Sales start dipping from November again. <br> $\\Rightarrow$ \"holiday\"<br> - As expected, there are more sales on a holiday.<br> $\\Rightarrow$ \"weekday\":<br> - The sales pretty much remain constant with some lows in the middle of the week. <br>$\\Rightarrow$ \"workingday\"<br> - Sales are pretty much the same. <br>$\\Rightarrow$ \"weathersit\"<br> - If the weather is \"Clear, Few clouds, Partly cloudy, Partly cloudy\" the sales are more. A bad weather definitely does affect bike rentals <br> $\\Rightarrow$ \"season\"<br> - Summer and Fall see the highest number of rentals, while spring shows the lowest number of rentals. <br> $\\Rightarrow$ \"yr\" <br> - 2019 had more sales, given the COVID situation, proabably. "
   ]
  },
  {
   "cell_type": "markdown",
   "id": "d5205794",
   "metadata": {},
   "source": [
    "### <font color='skyblue'>  II.4. Train test split <font>"
   ]
  },
  {
   "cell_type": "code",
   "execution_count": 69,
   "id": "20a14872",
   "metadata": {},
   "outputs": [],
   "source": [
    "np.random.seed(0)"
   ]
  },
  {
   "cell_type": "code",
   "execution_count": 70,
   "id": "b16b978f",
   "metadata": {},
   "outputs": [],
   "source": [
    "df_train, df_test = train_test_split(df, train_size=0.7, test_size=0.3, random_state=100)"
   ]
  },
  {
   "cell_type": "markdown",
   "id": "32d0b9d2",
   "metadata": {},
   "source": [
    "# <font color='goldenrod'>  III. Standardization <font>"
   ]
  },
  {
   "cell_type": "markdown",
   "id": "2d9809ad",
   "metadata": {},
   "source": [
    "$\\Rightarrow$ <font color=\"asparagus\"> Using min-max scaler </font>"
   ]
  },
  {
   "cell_type": "code",
   "execution_count": 71,
   "id": "8782e8ba",
   "metadata": {},
   "outputs": [],
   "source": [
    "scaler = StandardScaler()\n",
    "minMaxScaler = MinMaxScaler()"
   ]
  },
  {
   "cell_type": "code",
   "execution_count": 72,
   "id": "28e138ae",
   "metadata": {},
   "outputs": [
    {
     "data": {
      "text/plain": [
       "['temp', 'hum', 'windspeed', 'cnt']"
      ]
     },
     "execution_count": 72,
     "metadata": {},
     "output_type": "execute_result"
    }
   ],
   "source": [
    "cont_cols"
   ]
  },
  {
   "cell_type": "code",
   "execution_count": 73,
   "id": "a12b735d",
   "metadata": {},
   "outputs": [],
   "source": [
    "apply_scaling_on = cont_cols.copy()"
   ]
  },
  {
   "cell_type": "code",
   "execution_count": 74,
   "id": "5e775bf5",
   "metadata": {},
   "outputs": [],
   "source": [
    "apply_scaling_on.remove(\"cnt\") # don't scale the target variable, \"cnt\""
   ]
  },
  {
   "cell_type": "code",
   "execution_count": 75,
   "id": "4d567b27",
   "metadata": {},
   "outputs": [
    {
     "data": {
      "text/plain": [
       "['temp', 'hum', 'windspeed']"
      ]
     },
     "execution_count": 75,
     "metadata": {},
     "output_type": "execute_result"
    }
   ],
   "source": [
    "apply_scaling_on"
   ]
  },
  {
   "cell_type": "code",
   "execution_count": 76,
   "id": "413e7ed6",
   "metadata": {},
   "outputs": [
    {
     "name": "stderr",
     "output_type": "stream",
     "text": [
      "D:\\Anaconda\\lib\\site-packages\\pandas\\core\\frame.py:3678: SettingWithCopyWarning: \n",
      "A value is trying to be set on a copy of a slice from a DataFrame.\n",
      "Try using .loc[row_indexer,col_indexer] = value instead\n",
      "\n",
      "See the caveats in the documentation: https://pandas.pydata.org/pandas-docs/stable/user_guide/indexing.html#returning-a-view-versus-a-copy\n",
      "  self[col] = igetitem(value, i)\n"
     ]
    }
   ],
   "source": [
    "df_train[apply_scaling_on] = scaler.fit_transform(df_train[apply_scaling_on])"
   ]
  },
  {
   "cell_type": "code",
   "execution_count": 77,
   "id": "9dcdea91",
   "metadata": {},
   "outputs": [
    {
     "name": "stderr",
     "output_type": "stream",
     "text": [
      "D:\\Anaconda\\lib\\site-packages\\pandas\\core\\frame.py:3678: SettingWithCopyWarning: \n",
      "A value is trying to be set on a copy of a slice from a DataFrame.\n",
      "Try using .loc[row_indexer,col_indexer] = value instead\n",
      "\n",
      "See the caveats in the documentation: https://pandas.pydata.org/pandas-docs/stable/user_guide/indexing.html#returning-a-view-versus-a-copy\n",
      "  self[col] = igetitem(value, i)\n"
     ]
    }
   ],
   "source": [
    "df_test[apply_scaling_on] = scaler.transform(df_test[apply_scaling_on])"
   ]
  },
  {
   "cell_type": "code",
   "execution_count": 78,
   "id": "b62635d4",
   "metadata": {},
   "outputs": [
    {
     "data": {
      "text/html": [
       "<div>\n",
       "<style scoped>\n",
       "    .dataframe tbody tr th:only-of-type {\n",
       "        vertical-align: middle;\n",
       "    }\n",
       "\n",
       "    .dataframe tbody tr th {\n",
       "        vertical-align: top;\n",
       "    }\n",
       "\n",
       "    .dataframe thead th {\n",
       "        text-align: right;\n",
       "    }\n",
       "</style>\n",
       "<table border=\"1\" class=\"dataframe\">\n",
       "  <thead>\n",
       "    <tr style=\"text-align: right;\">\n",
       "      <th></th>\n",
       "      <th>yr</th>\n",
       "      <th>weekday</th>\n",
       "      <th>workingday</th>\n",
       "      <th>temp</th>\n",
       "      <th>hum</th>\n",
       "      <th>windspeed</th>\n",
       "      <th>cnt</th>\n",
       "      <th>season_2</th>\n",
       "      <th>season_3</th>\n",
       "      <th>season_4</th>\n",
       "      <th>...</th>\n",
       "      <th>month_5</th>\n",
       "      <th>month_6</th>\n",
       "      <th>month_7</th>\n",
       "      <th>month_8</th>\n",
       "      <th>month_9</th>\n",
       "      <th>month_10</th>\n",
       "      <th>month_11</th>\n",
       "      <th>month_12</th>\n",
       "      <th>weathersit_2</th>\n",
       "      <th>weathersit_3</th>\n",
       "    </tr>\n",
       "  </thead>\n",
       "  <tbody>\n",
       "    <tr>\n",
       "      <th>653</th>\n",
       "      <td>1</td>\n",
       "      <td>2</td>\n",
       "      <td>1</td>\n",
       "      <td>-0.12</td>\n",
       "      <td>-0.51</td>\n",
       "      <td>-0.12</td>\n",
       "      <td>7534</td>\n",
       "      <td>0</td>\n",
       "      <td>0</td>\n",
       "      <td>1</td>\n",
       "      <td>...</td>\n",
       "      <td>0</td>\n",
       "      <td>0</td>\n",
       "      <td>0</td>\n",
       "      <td>0</td>\n",
       "      <td>0</td>\n",
       "      <td>1</td>\n",
       "      <td>0</td>\n",
       "      <td>0</td>\n",
       "      <td>0</td>\n",
       "      <td>0</td>\n",
       "    </tr>\n",
       "    <tr>\n",
       "      <th>576</th>\n",
       "      <td>1</td>\n",
       "      <td>2</td>\n",
       "      <td>1</td>\n",
       "      <td>1.23</td>\n",
       "      <td>0.52</td>\n",
       "      <td>-0.33</td>\n",
       "      <td>7216</td>\n",
       "      <td>0</td>\n",
       "      <td>1</td>\n",
       "      <td>0</td>\n",
       "      <td>...</td>\n",
       "      <td>0</td>\n",
       "      <td>0</td>\n",
       "      <td>1</td>\n",
       "      <td>0</td>\n",
       "      <td>0</td>\n",
       "      <td>0</td>\n",
       "      <td>0</td>\n",
       "      <td>0</td>\n",
       "      <td>0</td>\n",
       "      <td>0</td>\n",
       "    </tr>\n",
       "    <tr>\n",
       "      <th>426</th>\n",
       "      <td>1</td>\n",
       "      <td>6</td>\n",
       "      <td>0</td>\n",
       "      <td>-0.42</td>\n",
       "      <td>-0.07</td>\n",
       "      <td>-0.39</td>\n",
       "      <td>4066</td>\n",
       "      <td>0</td>\n",
       "      <td>0</td>\n",
       "      <td>0</td>\n",
       "      <td>...</td>\n",
       "      <td>0</td>\n",
       "      <td>0</td>\n",
       "      <td>0</td>\n",
       "      <td>0</td>\n",
       "      <td>0</td>\n",
       "      <td>0</td>\n",
       "      <td>0</td>\n",
       "      <td>0</td>\n",
       "      <td>1</td>\n",
       "      <td>0</td>\n",
       "    </tr>\n",
       "    <tr>\n",
       "      <th>728</th>\n",
       "      <td>1</td>\n",
       "      <td>0</td>\n",
       "      <td>0</td>\n",
       "      <td>-1.29</td>\n",
       "      <td>-1.05</td>\n",
       "      <td>2.02</td>\n",
       "      <td>1796</td>\n",
       "      <td>0</td>\n",
       "      <td>0</td>\n",
       "      <td>0</td>\n",
       "      <td>...</td>\n",
       "      <td>0</td>\n",
       "      <td>0</td>\n",
       "      <td>0</td>\n",
       "      <td>0</td>\n",
       "      <td>0</td>\n",
       "      <td>0</td>\n",
       "      <td>0</td>\n",
       "      <td>1</td>\n",
       "      <td>0</td>\n",
       "      <td>0</td>\n",
       "    </tr>\n",
       "    <tr>\n",
       "      <th>482</th>\n",
       "      <td>1</td>\n",
       "      <td>6</td>\n",
       "      <td>0</td>\n",
       "      <td>-0.63</td>\n",
       "      <td>-1.00</td>\n",
       "      <td>-0.78</td>\n",
       "      <td>4220</td>\n",
       "      <td>1</td>\n",
       "      <td>0</td>\n",
       "      <td>0</td>\n",
       "      <td>...</td>\n",
       "      <td>0</td>\n",
       "      <td>0</td>\n",
       "      <td>0</td>\n",
       "      <td>0</td>\n",
       "      <td>0</td>\n",
       "      <td>0</td>\n",
       "      <td>0</td>\n",
       "      <td>0</td>\n",
       "      <td>1</td>\n",
       "      <td>0</td>\n",
       "    </tr>\n",
       "  </tbody>\n",
       "</table>\n",
       "<p>5 rows × 23 columns</p>\n",
       "</div>"
      ],
      "text/plain": [
       "     yr  weekday  workingday  temp   hum  windspeed   cnt  season_2  season_3  \\\n",
       "653   1        2           1 -0.12 -0.51      -0.12  7534         0         0   \n",
       "576   1        2           1  1.23  0.52      -0.33  7216         0         1   \n",
       "426   1        6           0 -0.42 -0.07      -0.39  4066         0         0   \n",
       "728   1        0           0 -1.29 -1.05       2.02  1796         0         0   \n",
       "482   1        6           0 -0.63 -1.00      -0.78  4220         1         0   \n",
       "\n",
       "     season_4  ...  month_5  month_6  month_7  month_8  month_9  month_10  \\\n",
       "653         1  ...        0        0        0        0        0         1   \n",
       "576         0  ...        0        0        1        0        0         0   \n",
       "426         0  ...        0        0        0        0        0         0   \n",
       "728         0  ...        0        0        0        0        0         0   \n",
       "482         0  ...        0        0        0        0        0         0   \n",
       "\n",
       "     month_11  month_12  weathersit_2  weathersit_3  \n",
       "653         0         0             0             0  \n",
       "576         0         0             0             0  \n",
       "426         0         0             1             0  \n",
       "728         0         1             0             0  \n",
       "482         0         0             1             0  \n",
       "\n",
       "[5 rows x 23 columns]"
      ]
     },
     "execution_count": 78,
     "metadata": {},
     "output_type": "execute_result"
    }
   ],
   "source": [
    "df_train.head()"
   ]
  },
  {
   "cell_type": "code",
   "execution_count": 79,
   "id": "70298514",
   "metadata": {},
   "outputs": [],
   "source": [
    "y_train = df_train.pop(\"cnt\")"
   ]
  },
  {
   "cell_type": "code",
   "execution_count": 80,
   "id": "04e2b822",
   "metadata": {},
   "outputs": [],
   "source": [
    "X_train = df_train"
   ]
  },
  {
   "cell_type": "code",
   "execution_count": 81,
   "id": "bfd22591",
   "metadata": {},
   "outputs": [],
   "source": [
    "y_test = df_test.pop(\"cnt\")"
   ]
  },
  {
   "cell_type": "code",
   "execution_count": 82,
   "id": "9c703d4a",
   "metadata": {},
   "outputs": [],
   "source": [
    "X_test = df_test"
   ]
  },
  {
   "cell_type": "markdown",
   "id": "16908cf1",
   "metadata": {},
   "source": [
    "# <font color='goldenrod'> IV. Model building </font>"
   ]
  },
  {
   "cell_type": "markdown",
   "id": "e2dec018",
   "metadata": {},
   "source": [
    "### <font color=\"skyblue\"> IV.1. Using sklearn </font>"
   ]
  },
  {
   "cell_type": "code",
   "execution_count": 83,
   "id": "6490ef64",
   "metadata": {},
   "outputs": [],
   "source": [
    "from sklearn.linear_model import LinearRegression"
   ]
  },
  {
   "cell_type": "code",
   "execution_count": 84,
   "id": "9f32fc3d",
   "metadata": {},
   "outputs": [],
   "source": [
    "lm = LinearRegression()"
   ]
  },
  {
   "cell_type": "code",
   "execution_count": 85,
   "id": "9b3cc64d",
   "metadata": {},
   "outputs": [
    {
     "data": {
      "text/plain": [
       "LinearRegression()"
      ]
     },
     "execution_count": 85,
     "metadata": {},
     "output_type": "execute_result"
    }
   ],
   "source": [
    "lm.fit(X_train, y_train) # Fit on the training data"
   ]
  },
  {
   "cell_type": "code",
   "execution_count": 86,
   "id": "631c6265",
   "metadata": {},
   "outputs": [],
   "source": [
    "y_pred = lm.predict(X_test)"
   ]
  },
  {
   "cell_type": "code",
   "execution_count": 87,
   "id": "63170b40",
   "metadata": {},
   "outputs": [],
   "source": [
    "from sklearn.metrics import r2_score"
   ]
  },
  {
   "cell_type": "code",
   "execution_count": 88,
   "id": "bb658fba",
   "metadata": {},
   "outputs": [
    {
     "data": {
      "text/plain": [
       "0.8280544295926818"
      ]
     },
     "execution_count": 88,
     "metadata": {},
     "output_type": "execute_result"
    }
   ],
   "source": [
    "r2_score(y_true=y_test,y_pred=y_pred)"
   ]
  },
  {
   "cell_type": "markdown",
   "id": "5607748a",
   "metadata": {},
   "source": [
    "### <font color=\"skyblue\"> IV.2. Using statsmodels </font>"
   ]
  },
  {
   "cell_type": "code",
   "execution_count": 89,
   "id": "4112375d",
   "metadata": {},
   "outputs": [
    {
     "name": "stderr",
     "output_type": "stream",
     "text": [
      "D:\\Anaconda\\lib\\site-packages\\statsmodels\\tsa\\tsatools.py:142: FutureWarning: In a future version of pandas all arguments of concat except for the argument 'objs' will be keyword-only\n",
      "  x = pd.concat(x[::order], 1)\n"
     ]
    }
   ],
   "source": [
    "X_train_sm = sm.add_constant(X_train) # must add a 1 for each row"
   ]
  },
  {
   "cell_type": "code",
   "execution_count": 90,
   "id": "0d61acb6",
   "metadata": {},
   "outputs": [],
   "source": [
    "sm_lr = sm.OLS(y_train,X_train_sm)"
   ]
  },
  {
   "cell_type": "code",
   "execution_count": 91,
   "id": "804d7e0e",
   "metadata": {},
   "outputs": [],
   "source": [
    "sm_model = sm_lr.fit()"
   ]
  },
  {
   "cell_type": "markdown",
   "id": "a37f193b",
   "metadata": {},
   "source": [
    "$\\Rightarrow$ <font color=\"asparagus\"> Predict on X_test"
   ]
  },
  {
   "cell_type": "code",
   "execution_count": 92,
   "id": "47355297",
   "metadata": {},
   "outputs": [],
   "source": [
    "X_test_sm = sm.add_constant(X_test)\n",
    "y_test_sm_pred = sm_model.predict(X_test_sm)"
   ]
  },
  {
   "cell_type": "markdown",
   "id": "b953fd0b",
   "metadata": {},
   "source": [
    "$\\Rightarrow$ <font color=\"asparagus\"> Let's look at the r2_score of both models.<br> sklearn: y_test_pred,<br>statsmodels: y_test_sm_pred <font>"
   ]
  },
  {
   "cell_type": "code",
   "execution_count": 93,
   "id": "0f94d17f",
   "metadata": {},
   "outputs": [
    {
     "data": {
      "text/plain": [
       "0.8280544295926818"
      ]
     },
     "execution_count": 93,
     "metadata": {},
     "output_type": "execute_result"
    }
   ],
   "source": [
    "r2_score(y_true=y_test, y_pred=y_test_sm_pred)"
   ]
  },
  {
   "cell_type": "markdown",
   "id": "91317126",
   "metadata": {},
   "source": [
    "### <font color=\"skyblue\"> IV.3. Residual Analysis </font>"
   ]
  },
  {
   "cell_type": "markdown",
   "id": "b5b3659a",
   "metadata": {},
   "source": [
    "$\\Rightarrow$ <font color=\"asparagus\"> statsmodels' summary does reveal that quite a few coeffecients have a high p value. let's do RFE and then retrain model on this reduced feature set"
   ]
  },
  {
   "cell_type": "code",
   "execution_count": 94,
   "id": "21cabd74",
   "metadata": {},
   "outputs": [
    {
     "data": {
      "text/html": [
       "<table class=\"simpletable\">\n",
       "<caption>OLS Regression Results</caption>\n",
       "<tr>\n",
       "  <th>Dep. Variable:</th>           <td>cnt</td>       <th>  R-squared:         </th> <td>   0.851</td> \n",
       "</tr>\n",
       "<tr>\n",
       "  <th>Model:</th>                   <td>OLS</td>       <th>  Adj. R-squared:    </th> <td>   0.844</td> \n",
       "</tr>\n",
       "<tr>\n",
       "  <th>Method:</th>             <td>Least Squares</td>  <th>  F-statistic:       </th> <td>   126.3</td> \n",
       "</tr>\n",
       "<tr>\n",
       "  <th>Date:</th>             <td>Mon, 08 Aug 2022</td> <th>  Prob (F-statistic):</th> <td>2.79e-185</td>\n",
       "</tr>\n",
       "<tr>\n",
       "  <th>Time:</th>                 <td>02:30:08</td>     <th>  Log-Likelihood:    </th> <td> -4102.0</td> \n",
       "</tr>\n",
       "<tr>\n",
       "  <th>No. Observations:</th>      <td>   510</td>      <th>  AIC:               </th> <td>   8250.</td> \n",
       "</tr>\n",
       "<tr>\n",
       "  <th>Df Residuals:</th>          <td>   487</td>      <th>  BIC:               </th> <td>   8347.</td> \n",
       "</tr>\n",
       "<tr>\n",
       "  <th>Df Model:</th>              <td>    22</td>      <th>                     </th>     <td> </td>    \n",
       "</tr>\n",
       "<tr>\n",
       "  <th>Covariance Type:</th>      <td>nonrobust</td>    <th>                     </th>     <td> </td>    \n",
       "</tr>\n",
       "</table>\n",
       "<table class=\"simpletable\">\n",
       "<tr>\n",
       "        <td></td>          <th>coef</th>     <th>std err</th>      <th>t</th>      <th>P>|t|</th>  <th>[0.025</th>    <th>0.975]</th>  \n",
       "</tr>\n",
       "<tr>\n",
       "  <th>const</th>        <td> 2217.3285</td> <td>  193.207</td> <td>   11.476</td> <td> 0.000</td> <td> 1837.705</td> <td> 2596.952</td>\n",
       "</tr>\n",
       "<tr>\n",
       "  <th>yr</th>           <td> 2023.1545</td> <td>   70.117</td> <td>   28.854</td> <td> 0.000</td> <td> 1885.384</td> <td> 2160.925</td>\n",
       "</tr>\n",
       "<tr>\n",
       "  <th>weekday</th>      <td>   71.9151</td> <td>   17.184</td> <td>    4.185</td> <td> 0.000</td> <td>   38.150</td> <td>  105.680</td>\n",
       "</tr>\n",
       "<tr>\n",
       "  <th>workingday</th>   <td>  192.1011</td> <td>   73.741</td> <td>    2.605</td> <td> 0.009</td> <td>   47.211</td> <td>  336.991</td>\n",
       "</tr>\n",
       "<tr>\n",
       "  <th>temp</th>         <td>  863.4348</td> <td>   90.638</td> <td>    9.526</td> <td> 0.000</td> <td>  685.345</td> <td> 1041.524</td>\n",
       "</tr>\n",
       "<tr>\n",
       "  <th>hum</th>          <td> -187.5963</td> <td>   48.860</td> <td>   -3.839</td> <td> 0.000</td> <td> -283.599</td> <td>  -91.593</td>\n",
       "</tr>\n",
       "<tr>\n",
       "  <th>windspeed</th>    <td> -273.8657</td> <td>   37.983</td> <td>   -7.210</td> <td> 0.000</td> <td> -348.496</td> <td> -199.236</td>\n",
       "</tr>\n",
       "<tr>\n",
       "  <th>season_2</th>     <td>  754.1969</td> <td>  205.334</td> <td>    3.673</td> <td> 0.000</td> <td>  350.746</td> <td> 1157.648</td>\n",
       "</tr>\n",
       "<tr>\n",
       "  <th>season_3</th>     <td>  412.9878</td> <td>  261.010</td> <td>    1.582</td> <td> 0.114</td> <td>  -99.857</td> <td>  925.833</td>\n",
       "</tr>\n",
       "<tr>\n",
       "  <th>season_4</th>     <td> 1384.1758</td> <td>  225.158</td> <td>    6.148</td> <td> 0.000</td> <td>  941.776</td> <td> 1826.576</td>\n",
       "</tr>\n",
       "<tr>\n",
       "  <th>month_2</th>      <td>  260.9859</td> <td>  179.203</td> <td>    1.456</td> <td> 0.146</td> <td>  -91.121</td> <td>  613.093</td>\n",
       "</tr>\n",
       "<tr>\n",
       "  <th>month_3</th>      <td>  592.9164</td> <td>  194.073</td> <td>    3.055</td> <td> 0.002</td> <td>  211.592</td> <td>  974.241</td>\n",
       "</tr>\n",
       "<tr>\n",
       "  <th>month_4</th>      <td>  583.1841</td> <td>  291.702</td> <td>    1.999</td> <td> 0.046</td> <td>   10.034</td> <td> 1156.334</td>\n",
       "</tr>\n",
       "<tr>\n",
       "  <th>month_5</th>      <td>  810.8176</td> <td>  313.765</td> <td>    2.584</td> <td> 0.010</td> <td>  194.317</td> <td> 1427.319</td>\n",
       "</tr>\n",
       "<tr>\n",
       "  <th>month_6</th>      <td>  601.6891</td> <td>  338.154</td> <td>    1.779</td> <td> 0.076</td> <td>  -62.732</td> <td> 1266.110</td>\n",
       "</tr>\n",
       "<tr>\n",
       "  <th>month_7</th>      <td>  279.0946</td> <td>  381.448</td> <td>    0.732</td> <td> 0.465</td> <td> -470.392</td> <td> 1028.581</td>\n",
       "</tr>\n",
       "<tr>\n",
       "  <th>month_8</th>      <td>  746.5352</td> <td>  362.844</td> <td>    2.057</td> <td> 0.040</td> <td>   33.603</td> <td> 1459.467</td>\n",
       "</tr>\n",
       "<tr>\n",
       "  <th>month_9</th>      <td> 1277.0447</td> <td>  325.940</td> <td>    3.918</td> <td> 0.000</td> <td>  636.622</td> <td> 1917.468</td>\n",
       "</tr>\n",
       "<tr>\n",
       "  <th>month_10</th>     <td>  604.6608</td> <td>  299.734</td> <td>    2.017</td> <td> 0.044</td> <td>   15.729</td> <td> 1193.593</td>\n",
       "</tr>\n",
       "<tr>\n",
       "  <th>month_11</th>     <td>  122.2184</td> <td>  284.922</td> <td>    0.429</td> <td> 0.668</td> <td> -437.609</td> <td>  682.046</td>\n",
       "</tr>\n",
       "<tr>\n",
       "  <th>month_12</th>     <td>  136.3475</td> <td>  230.641</td> <td>    0.591</td> <td> 0.555</td> <td> -316.827</td> <td>  589.522</td>\n",
       "</tr>\n",
       "<tr>\n",
       "  <th>weathersit_2</th> <td> -526.7888</td> <td>   90.752</td> <td>   -5.805</td> <td> 0.000</td> <td> -705.103</td> <td> -348.474</td>\n",
       "</tr>\n",
       "<tr>\n",
       "  <th>weathersit_3</th> <td>-2212.5094</td> <td>  228.410</td> <td>   -9.687</td> <td> 0.000</td> <td>-2661.300</td> <td>-1763.719</td>\n",
       "</tr>\n",
       "</table>\n",
       "<table class=\"simpletable\">\n",
       "<tr>\n",
       "  <th>Omnibus:</th>       <td>93.864</td> <th>  Durbin-Watson:     </th> <td>   2.004</td>\n",
       "</tr>\n",
       "<tr>\n",
       "  <th>Prob(Omnibus):</th> <td> 0.000</td> <th>  Jarque-Bera (JB):  </th> <td> 287.571</td>\n",
       "</tr>\n",
       "<tr>\n",
       "  <th>Skew:</th>          <td>-0.859</td> <th>  Prob(JB):          </th> <td>3.59e-63</td>\n",
       "</tr>\n",
       "<tr>\n",
       "  <th>Kurtosis:</th>      <td> 6.253</td> <th>  Cond. No.          </th> <td>    95.1</td>\n",
       "</tr>\n",
       "</table><br/><br/>Notes:<br/>[1] Standard Errors assume that the covariance matrix of the errors is correctly specified."
      ],
      "text/plain": [
       "<class 'statsmodels.iolib.summary.Summary'>\n",
       "\"\"\"\n",
       "                            OLS Regression Results                            \n",
       "==============================================================================\n",
       "Dep. Variable:                    cnt   R-squared:                       0.851\n",
       "Model:                            OLS   Adj. R-squared:                  0.844\n",
       "Method:                 Least Squares   F-statistic:                     126.3\n",
       "Date:                Mon, 08 Aug 2022   Prob (F-statistic):          2.79e-185\n",
       "Time:                        02:30:08   Log-Likelihood:                -4102.0\n",
       "No. Observations:                 510   AIC:                             8250.\n",
       "Df Residuals:                     487   BIC:                             8347.\n",
       "Df Model:                          22                                         \n",
       "Covariance Type:            nonrobust                                         \n",
       "================================================================================\n",
       "                   coef    std err          t      P>|t|      [0.025      0.975]\n",
       "--------------------------------------------------------------------------------\n",
       "const         2217.3285    193.207     11.476      0.000    1837.705    2596.952\n",
       "yr            2023.1545     70.117     28.854      0.000    1885.384    2160.925\n",
       "weekday         71.9151     17.184      4.185      0.000      38.150     105.680\n",
       "workingday     192.1011     73.741      2.605      0.009      47.211     336.991\n",
       "temp           863.4348     90.638      9.526      0.000     685.345    1041.524\n",
       "hum           -187.5963     48.860     -3.839      0.000    -283.599     -91.593\n",
       "windspeed     -273.8657     37.983     -7.210      0.000    -348.496    -199.236\n",
       "season_2       754.1969    205.334      3.673      0.000     350.746    1157.648\n",
       "season_3       412.9878    261.010      1.582      0.114     -99.857     925.833\n",
       "season_4      1384.1758    225.158      6.148      0.000     941.776    1826.576\n",
       "month_2        260.9859    179.203      1.456      0.146     -91.121     613.093\n",
       "month_3        592.9164    194.073      3.055      0.002     211.592     974.241\n",
       "month_4        583.1841    291.702      1.999      0.046      10.034    1156.334\n",
       "month_5        810.8176    313.765      2.584      0.010     194.317    1427.319\n",
       "month_6        601.6891    338.154      1.779      0.076     -62.732    1266.110\n",
       "month_7        279.0946    381.448      0.732      0.465    -470.392    1028.581\n",
       "month_8        746.5352    362.844      2.057      0.040      33.603    1459.467\n",
       "month_9       1277.0447    325.940      3.918      0.000     636.622    1917.468\n",
       "month_10       604.6608    299.734      2.017      0.044      15.729    1193.593\n",
       "month_11       122.2184    284.922      0.429      0.668    -437.609     682.046\n",
       "month_12       136.3475    230.641      0.591      0.555    -316.827     589.522\n",
       "weathersit_2  -526.7888     90.752     -5.805      0.000    -705.103    -348.474\n",
       "weathersit_3 -2212.5094    228.410     -9.687      0.000   -2661.300   -1763.719\n",
       "==============================================================================\n",
       "Omnibus:                       93.864   Durbin-Watson:                   2.004\n",
       "Prob(Omnibus):                  0.000   Jarque-Bera (JB):              287.571\n",
       "Skew:                          -0.859   Prob(JB):                     3.59e-63\n",
       "Kurtosis:                       6.253   Cond. No.                         95.1\n",
       "==============================================================================\n",
       "\n",
       "Notes:\n",
       "[1] Standard Errors assume that the covariance matrix of the errors is correctly specified.\n",
       "\"\"\""
      ]
     },
     "execution_count": 94,
     "metadata": {},
     "output_type": "execute_result"
    }
   ],
   "source": [
    "sm_model.summary()"
   ]
  },
  {
   "cell_type": "markdown",
   "id": "6569f591",
   "metadata": {},
   "source": [
    "$\\Rightarrow$ <font color=\"asparagus\"> Some columns have a higher p value. There could be linearly dependent columns. Let's do a first pass of RFE, followed by some VIF analysis. </font>"
   ]
  },
  {
   "cell_type": "markdown",
   "id": "7adc6fcb",
   "metadata": {},
   "source": [
    "### <font color='skyblue'>  IV.3.1. RFE </font>"
   ]
  },
  {
   "cell_type": "code",
   "execution_count": 95,
   "id": "35a1e5fc",
   "metadata": {},
   "outputs": [
    {
     "data": {
      "text/plain": [
       "22"
      ]
     },
     "execution_count": 95,
     "metadata": {},
     "output_type": "execute_result"
    }
   ],
   "source": [
    "len(X_train.columns)"
   ]
  },
  {
   "cell_type": "code",
   "execution_count": 96,
   "id": "9e4a5448",
   "metadata": {},
   "outputs": [
    {
     "name": "stderr",
     "output_type": "stream",
     "text": [
      "D:\\Anaconda\\lib\\site-packages\\sklearn\\utils\\validation.py:70: FutureWarning: Pass n_features_to_select=15 as keyword args. From version 1.0 (renaming of 0.25) passing these as positional arguments will result in an error\n",
      "  warnings.warn(f\"Pass {args_msg} as keyword args. From version \"\n"
     ]
    }
   ],
   "source": [
    "rfe = RFE(lm, 15) "
   ]
  },
  {
   "cell_type": "code",
   "execution_count": 97,
   "id": "81592aa2",
   "metadata": {},
   "outputs": [],
   "source": [
    "rfe = rfe.fit(X_train, y_train)"
   ]
  },
  {
   "cell_type": "code",
   "execution_count": 98,
   "id": "b94298cd",
   "metadata": {},
   "outputs": [
    {
     "data": {
      "text/plain": [
       "[('yr', True, 1),\n",
       " ('weekday', False, 8),\n",
       " ('workingday', False, 3),\n",
       " ('temp', True, 1),\n",
       " ('hum', False, 2),\n",
       " ('windspeed', True, 1),\n",
       " ('season_2', True, 1),\n",
       " ('season_3', True, 1),\n",
       " ('season_4', True, 1),\n",
       " ('month_2', False, 4),\n",
       " ('month_3', True, 1),\n",
       " ('month_4', True, 1),\n",
       " ('month_5', True, 1),\n",
       " ('month_6', True, 1),\n",
       " ('month_7', False, 5),\n",
       " ('month_8', True, 1),\n",
       " ('month_9', True, 1),\n",
       " ('month_10', True, 1),\n",
       " ('month_11', False, 7),\n",
       " ('month_12', False, 6),\n",
       " ('weathersit_2', True, 1),\n",
       " ('weathersit_3', True, 1)]"
      ]
     },
     "execution_count": 98,
     "metadata": {},
     "output_type": "execute_result"
    }
   ],
   "source": [
    "list(zip(X_train.columns,rfe.support_,rfe.ranking_))"
   ]
  },
  {
   "cell_type": "code",
   "execution_count": 99,
   "id": "2f3c6ea8",
   "metadata": {},
   "outputs": [],
   "source": [
    "cols_to_keep = X_train.columns[rfe.support_]"
   ]
  },
  {
   "cell_type": "code",
   "execution_count": 100,
   "id": "b0dbfabe",
   "metadata": {},
   "outputs": [
    {
     "data": {
      "text/plain": [
       "Index(['yr', 'temp', 'windspeed', 'season_2', 'season_3', 'season_4',\n",
       "       'month_3', 'month_4', 'month_5', 'month_6', 'month_8', 'month_9',\n",
       "       'month_10', 'weathersit_2', 'weathersit_3'],\n",
       "      dtype='object')"
      ]
     },
     "execution_count": 100,
     "metadata": {},
     "output_type": "execute_result"
    }
   ],
   "source": [
    "cols_to_keep"
   ]
  },
  {
   "cell_type": "code",
   "execution_count": 101,
   "id": "20054d50",
   "metadata": {},
   "outputs": [],
   "source": [
    "rfe_discarded = X_train.columns[~rfe.support_]"
   ]
  },
  {
   "cell_type": "code",
   "execution_count": 102,
   "id": "c52b02d6",
   "metadata": {},
   "outputs": [
    {
     "data": {
      "text/plain": [
       "Index(['weekday', 'workingday', 'hum', 'month_2', 'month_7', 'month_11',\n",
       "       'month_12'],\n",
       "      dtype='object')"
      ]
     },
     "execution_count": 102,
     "metadata": {},
     "output_type": "execute_result"
    }
   ],
   "source": [
    "rfe_discarded"
   ]
  },
  {
   "cell_type": "code",
   "execution_count": 103,
   "id": "187cb9cf",
   "metadata": {},
   "outputs": [],
   "source": [
    "X_train_rfe = X_train[cols_to_keep]"
   ]
  },
  {
   "cell_type": "code",
   "execution_count": 104,
   "id": "bfbdc45b",
   "metadata": {},
   "outputs": [
    {
     "name": "stderr",
     "output_type": "stream",
     "text": [
      "D:\\Anaconda\\lib\\site-packages\\statsmodels\\tsa\\tsatools.py:142: FutureWarning: In a future version of pandas all arguments of concat except for the argument 'objs' will be keyword-only\n",
      "  x = pd.concat(x[::order], 1)\n"
     ]
    }
   ],
   "source": [
    "X_train_rfe_sm = sm.add_constant(X_train_rfe)"
   ]
  },
  {
   "cell_type": "code",
   "execution_count": 105,
   "id": "daa1ac4e",
   "metadata": {},
   "outputs": [],
   "source": [
    "sm_lr =  sm.OLS(y_train, X_train_rfe_sm)"
   ]
  },
  {
   "cell_type": "code",
   "execution_count": 106,
   "id": "580b6e8c",
   "metadata": {},
   "outputs": [],
   "source": [
    "sm_model = sm_lr.fit()"
   ]
  },
  {
   "cell_type": "code",
   "execution_count": 107,
   "id": "bbd83653",
   "metadata": {},
   "outputs": [
    {
     "data": {
      "text/html": [
       "<table class=\"simpletable\">\n",
       "<caption>OLS Regression Results</caption>\n",
       "<tr>\n",
       "  <th>Dep. Variable:</th>           <td>cnt</td>       <th>  R-squared:         </th> <td>   0.837</td> \n",
       "</tr>\n",
       "<tr>\n",
       "  <th>Model:</th>                   <td>OLS</td>       <th>  Adj. R-squared:    </th> <td>   0.832</td> \n",
       "</tr>\n",
       "<tr>\n",
       "  <th>Method:</th>             <td>Least Squares</td>  <th>  F-statistic:       </th> <td>   168.8</td> \n",
       "</tr>\n",
       "<tr>\n",
       "  <th>Date:</th>             <td>Mon, 08 Aug 2022</td> <th>  Prob (F-statistic):</th> <td>2.59e-183</td>\n",
       "</tr>\n",
       "<tr>\n",
       "  <th>Time:</th>                 <td>02:30:08</td>     <th>  Log-Likelihood:    </th> <td> -4125.1</td> \n",
       "</tr>\n",
       "<tr>\n",
       "  <th>No. Observations:</th>      <td>   510</td>      <th>  AIC:               </th> <td>   8282.</td> \n",
       "</tr>\n",
       "<tr>\n",
       "  <th>Df Residuals:</th>          <td>   494</td>      <th>  BIC:               </th> <td>   8350.</td> \n",
       "</tr>\n",
       "<tr>\n",
       "  <th>Df Model:</th>              <td>    15</td>      <th>                     </th>     <td> </td>    \n",
       "</tr>\n",
       "<tr>\n",
       "  <th>Covariance Type:</th>      <td>nonrobust</td>    <th>                     </th>     <td> </td>    \n",
       "</tr>\n",
       "</table>\n",
       "<table class=\"simpletable\">\n",
       "<tr>\n",
       "        <td></td>          <th>coef</th>     <th>std err</th>      <th>t</th>      <th>P>|t|</th>  <th>[0.025</th>    <th>0.975]</th>  \n",
       "</tr>\n",
       "<tr>\n",
       "  <th>const</th>        <td> 2751.4034</td> <td>  127.176</td> <td>   21.635</td> <td> 0.000</td> <td> 2501.530</td> <td> 3001.277</td>\n",
       "</tr>\n",
       "<tr>\n",
       "  <th>yr</th>           <td> 2041.6294</td> <td>   71.997</td> <td>   28.357</td> <td> 0.000</td> <td> 1900.171</td> <td> 2183.088</td>\n",
       "</tr>\n",
       "<tr>\n",
       "  <th>temp</th>         <td>  836.5160</td> <td>   73.148</td> <td>   11.436</td> <td> 0.000</td> <td>  692.797</td> <td>  980.235</td>\n",
       "</tr>\n",
       "<tr>\n",
       "  <th>windspeed</th>    <td> -228.2445</td> <td>   37.576</td> <td>   -6.074</td> <td> 0.000</td> <td> -302.073</td> <td> -154.416</td>\n",
       "</tr>\n",
       "<tr>\n",
       "  <th>season_2</th>     <td>  774.4804</td> <td>  195.573</td> <td>    3.960</td> <td> 0.000</td> <td>  390.223</td> <td> 1158.738</td>\n",
       "</tr>\n",
       "<tr>\n",
       "  <th>season_3</th>     <td>  565.4358</td> <td>  205.719</td> <td>    2.749</td> <td> 0.006</td> <td>  161.244</td> <td>  969.627</td>\n",
       "</tr>\n",
       "<tr>\n",
       "  <th>season_4</th>     <td> 1355.7295</td> <td>  128.354</td> <td>   10.562</td> <td> 0.000</td> <td> 1103.542</td> <td> 1607.917</td>\n",
       "</tr>\n",
       "<tr>\n",
       "  <th>month_3</th>      <td>  516.6499</td> <td>  151.201</td> <td>    3.417</td> <td> 0.001</td> <td>  219.574</td> <td>  813.726</td>\n",
       "</tr>\n",
       "<tr>\n",
       "  <th>month_4</th>      <td>  470.2831</td> <td>  231.095</td> <td>    2.035</td> <td> 0.042</td> <td>   16.234</td> <td>  924.333</td>\n",
       "</tr>\n",
       "<tr>\n",
       "  <th>month_5</th>      <td>  611.9765</td> <td>  235.960</td> <td>    2.594</td> <td> 0.010</td> <td>  148.367</td> <td> 1075.586</td>\n",
       "</tr>\n",
       "<tr>\n",
       "  <th>month_6</th>      <td>  462.6863</td> <td>  202.026</td> <td>    2.290</td> <td> 0.022</td> <td>   65.749</td> <td>  859.623</td>\n",
       "</tr>\n",
       "<tr>\n",
       "  <th>month_8</th>      <td>  508.1330</td> <td>  162.378</td> <td>    3.129</td> <td> 0.002</td> <td>  189.096</td> <td>  827.170</td>\n",
       "</tr>\n",
       "<tr>\n",
       "  <th>month_9</th>      <td> 1012.6633</td> <td>  156.532</td> <td>    6.469</td> <td> 0.000</td> <td>  705.112</td> <td> 1320.214</td>\n",
       "</tr>\n",
       "<tr>\n",
       "  <th>month_10</th>     <td>  400.2927</td> <td>  156.597</td> <td>    2.556</td> <td> 0.011</td> <td>   92.615</td> <td>  707.970</td>\n",
       "</tr>\n",
       "<tr>\n",
       "  <th>weathersit_2</th> <td> -706.8362</td> <td>   76.877</td> <td>   -9.194</td> <td> 0.000</td> <td> -857.882</td> <td> -555.791</td>\n",
       "</tr>\n",
       "<tr>\n",
       "  <th>weathersit_3</th> <td>-2504.9312</td> <td>  216.893</td> <td>  -11.549</td> <td> 0.000</td> <td>-2931.078</td> <td>-2078.784</td>\n",
       "</tr>\n",
       "</table>\n",
       "<table class=\"simpletable\">\n",
       "<tr>\n",
       "  <th>Omnibus:</th>       <td>83.694</td> <th>  Durbin-Watson:     </th> <td>   1.963</td>\n",
       "</tr>\n",
       "<tr>\n",
       "  <th>Prob(Omnibus):</th> <td> 0.000</td> <th>  Jarque-Bera (JB):  </th> <td> 226.620</td>\n",
       "</tr>\n",
       "<tr>\n",
       "  <th>Skew:</th>          <td>-0.806</td> <th>  Prob(JB):          </th> <td>6.17e-50</td>\n",
       "</tr>\n",
       "<tr>\n",
       "  <th>Kurtosis:</th>      <td> 5.840</td> <th>  Cond. No.          </th> <td>    14.1</td>\n",
       "</tr>\n",
       "</table><br/><br/>Notes:<br/>[1] Standard Errors assume that the covariance matrix of the errors is correctly specified."
      ],
      "text/plain": [
       "<class 'statsmodels.iolib.summary.Summary'>\n",
       "\"\"\"\n",
       "                            OLS Regression Results                            \n",
       "==============================================================================\n",
       "Dep. Variable:                    cnt   R-squared:                       0.837\n",
       "Model:                            OLS   Adj. R-squared:                  0.832\n",
       "Method:                 Least Squares   F-statistic:                     168.8\n",
       "Date:                Mon, 08 Aug 2022   Prob (F-statistic):          2.59e-183\n",
       "Time:                        02:30:08   Log-Likelihood:                -4125.1\n",
       "No. Observations:                 510   AIC:                             8282.\n",
       "Df Residuals:                     494   BIC:                             8350.\n",
       "Df Model:                          15                                         \n",
       "Covariance Type:            nonrobust                                         \n",
       "================================================================================\n",
       "                   coef    std err          t      P>|t|      [0.025      0.975]\n",
       "--------------------------------------------------------------------------------\n",
       "const         2751.4034    127.176     21.635      0.000    2501.530    3001.277\n",
       "yr            2041.6294     71.997     28.357      0.000    1900.171    2183.088\n",
       "temp           836.5160     73.148     11.436      0.000     692.797     980.235\n",
       "windspeed     -228.2445     37.576     -6.074      0.000    -302.073    -154.416\n",
       "season_2       774.4804    195.573      3.960      0.000     390.223    1158.738\n",
       "season_3       565.4358    205.719      2.749      0.006     161.244     969.627\n",
       "season_4      1355.7295    128.354     10.562      0.000    1103.542    1607.917\n",
       "month_3        516.6499    151.201      3.417      0.001     219.574     813.726\n",
       "month_4        470.2831    231.095      2.035      0.042      16.234     924.333\n",
       "month_5        611.9765    235.960      2.594      0.010     148.367    1075.586\n",
       "month_6        462.6863    202.026      2.290      0.022      65.749     859.623\n",
       "month_8        508.1330    162.378      3.129      0.002     189.096     827.170\n",
       "month_9       1012.6633    156.532      6.469      0.000     705.112    1320.214\n",
       "month_10       400.2927    156.597      2.556      0.011      92.615     707.970\n",
       "weathersit_2  -706.8362     76.877     -9.194      0.000    -857.882    -555.791\n",
       "weathersit_3 -2504.9312    216.893    -11.549      0.000   -2931.078   -2078.784\n",
       "==============================================================================\n",
       "Omnibus:                       83.694   Durbin-Watson:                   1.963\n",
       "Prob(Omnibus):                  0.000   Jarque-Bera (JB):              226.620\n",
       "Skew:                          -0.806   Prob(JB):                     6.17e-50\n",
       "Kurtosis:                       5.840   Cond. No.                         14.1\n",
       "==============================================================================\n",
       "\n",
       "Notes:\n",
       "[1] Standard Errors assume that the covariance matrix of the errors is correctly specified.\n",
       "\"\"\""
      ]
     },
     "execution_count": 107,
     "metadata": {},
     "output_type": "execute_result"
    }
   ],
   "source": [
    "sm_model.summary()"
   ]
  },
  {
   "cell_type": "markdown",
   "id": "6c044ab1",
   "metadata": {},
   "source": [
    "#### What is the r2_score after dropping certain columns determined by RFE?"
   ]
  },
  {
   "cell_type": "code",
   "execution_count": 108,
   "id": "a7598b3b",
   "metadata": {},
   "outputs": [],
   "source": [
    "X_test_rfe = X_test[cols_to_keep]"
   ]
  },
  {
   "cell_type": "code",
   "execution_count": 109,
   "id": "37199ca2",
   "metadata": {},
   "outputs": [
    {
     "name": "stderr",
     "output_type": "stream",
     "text": [
      "D:\\Anaconda\\lib\\site-packages\\statsmodels\\tsa\\tsatools.py:142: FutureWarning: In a future version of pandas all arguments of concat except for the argument 'objs' will be keyword-only\n",
      "  x = pd.concat(x[::order], 1)\n"
     ]
    }
   ],
   "source": [
    "X_test_rfe_sm = sm.add_constant(X_test_rfe)"
   ]
  },
  {
   "cell_type": "code",
   "execution_count": 110,
   "id": "72c52cea",
   "metadata": {},
   "outputs": [],
   "source": [
    "y_test_pred_rfe = sm_model.predict(X_test_rfe_sm)"
   ]
  },
  {
   "cell_type": "markdown",
   "id": "6475106c",
   "metadata": {},
   "source": [
    "#### Test r2_score"
   ]
  },
  {
   "cell_type": "code",
   "execution_count": 111,
   "id": "a4e58aab",
   "metadata": {},
   "outputs": [
    {
     "data": {
      "text/plain": [
       "0.8142615820863173"
      ]
     },
     "execution_count": 111,
     "metadata": {},
     "output_type": "execute_result"
    }
   ],
   "source": [
    "r2_score(y_true=y_test, y_pred=y_test_pred_rfe)"
   ]
  },
  {
   "cell_type": "code",
   "execution_count": null,
   "id": "fdfe71d6",
   "metadata": {},
   "outputs": [],
   "source": []
  },
  {
   "cell_type": "markdown",
   "id": "0bd3f4e5",
   "metadata": {},
   "source": [
    "$\\Rightarrow$ <font color=\"asparagus\"> The earlier r2_score was 0.828, it has not dipped much from before, it is 0.814 now"
   ]
  },
  {
   "cell_type": "markdown",
   "id": "a6dc1ec2",
   "metadata": {},
   "source": [
    "### <font color='skyblue'>  IV.3.2. VIF </font>"
   ]
  },
  {
   "cell_type": "code",
   "execution_count": 112,
   "id": "d1d3bceb",
   "metadata": {},
   "outputs": [],
   "source": [
    "from statsmodels.stats.outliers_influence import variance_inflation_factor"
   ]
  },
  {
   "cell_type": "code",
   "execution_count": 113,
   "id": "dd23492a",
   "metadata": {},
   "outputs": [],
   "source": [
    "vif = pd.DataFrame()"
   ]
  },
  {
   "cell_type": "code",
   "execution_count": 114,
   "id": "dcec6309",
   "metadata": {},
   "outputs": [
    {
     "data": {
      "text/html": [
       "<div>\n",
       "<style scoped>\n",
       "    .dataframe tbody tr th:only-of-type {\n",
       "        vertical-align: middle;\n",
       "    }\n",
       "\n",
       "    .dataframe tbody tr th {\n",
       "        vertical-align: top;\n",
       "    }\n",
       "\n",
       "    .dataframe thead th {\n",
       "        text-align: right;\n",
       "    }\n",
       "</style>\n",
       "<table border=\"1\" class=\"dataframe\">\n",
       "  <thead>\n",
       "    <tr style=\"text-align: right;\">\n",
       "      <th></th>\n",
       "      <th>Features</th>\n",
       "      <th>VIF</th>\n",
       "    </tr>\n",
       "  </thead>\n",
       "  <tbody>\n",
       "    <tr>\n",
       "      <th>3</th>\n",
       "      <td>season_2</td>\n",
       "      <td>6.81</td>\n",
       "    </tr>\n",
       "    <tr>\n",
       "      <th>4</th>\n",
       "      <td>season_3</td>\n",
       "      <td>3.83</td>\n",
       "    </tr>\n",
       "    <tr>\n",
       "      <th>8</th>\n",
       "      <td>month_5</td>\n",
       "      <td>3.34</td>\n",
       "    </tr>\n",
       "    <tr>\n",
       "      <th>7</th>\n",
       "      <td>month_4</td>\n",
       "      <td>3.23</td>\n",
       "    </tr>\n",
       "    <tr>\n",
       "      <th>1</th>\n",
       "      <td>temp</td>\n",
       "      <td>2.29</td>\n",
       "    </tr>\n",
       "    <tr>\n",
       "      <th>9</th>\n",
       "      <td>month_6</td>\n",
       "      <td>2.12</td>\n",
       "    </tr>\n",
       "    <tr>\n",
       "      <th>10</th>\n",
       "      <td>month_8</td>\n",
       "      <td>2.00</td>\n",
       "    </tr>\n",
       "    <tr>\n",
       "      <th>5</th>\n",
       "      <td>season_4</td>\n",
       "      <td>1.99</td>\n",
       "    </tr>\n",
       "    <tr>\n",
       "      <th>0</th>\n",
       "      <td>yr</td>\n",
       "      <td>1.83</td>\n",
       "    </tr>\n",
       "    <tr>\n",
       "      <th>12</th>\n",
       "      <td>month_10</td>\n",
       "      <td>1.63</td>\n",
       "    </tr>\n",
       "    <tr>\n",
       "      <th>11</th>\n",
       "      <td>month_9</td>\n",
       "      <td>1.57</td>\n",
       "    </tr>\n",
       "    <tr>\n",
       "      <th>13</th>\n",
       "      <td>weathersit_2</td>\n",
       "      <td>1.56</td>\n",
       "    </tr>\n",
       "    <tr>\n",
       "      <th>6</th>\n",
       "      <td>month_3</td>\n",
       "      <td>1.49</td>\n",
       "    </tr>\n",
       "    <tr>\n",
       "      <th>2</th>\n",
       "      <td>windspeed</td>\n",
       "      <td>1.12</td>\n",
       "    </tr>\n",
       "    <tr>\n",
       "      <th>14</th>\n",
       "      <td>weathersit_3</td>\n",
       "      <td>1.10</td>\n",
       "    </tr>\n",
       "  </tbody>\n",
       "</table>\n",
       "</div>"
      ],
      "text/plain": [
       "        Features  VIF\n",
       "3       season_2 6.81\n",
       "4       season_3 3.83\n",
       "8        month_5 3.34\n",
       "7        month_4 3.23\n",
       "1           temp 2.29\n",
       "9        month_6 2.12\n",
       "10       month_8 2.00\n",
       "5       season_4 1.99\n",
       "0             yr 1.83\n",
       "12      month_10 1.63\n",
       "11       month_9 1.57\n",
       "13  weathersit_2 1.56\n",
       "6        month_3 1.49\n",
       "2      windspeed 1.12\n",
       "14  weathersit_3 1.10"
      ]
     },
     "execution_count": 114,
     "metadata": {},
     "output_type": "execute_result"
    }
   ],
   "source": [
    "vif['Features'] = X_train_rfe.columns\n",
    "vif['VIF'] = [variance_inflation_factor(X_train_rfe.values, i) for i in range(X_train_rfe.shape[1])]\n",
    "vif['VIF'] = round(vif[\"VIF\"], 2)\n",
    "vif = vif.sort_values(by = \"VIF\", ascending = False)\n",
    "vif"
   ]
  },
  {
   "cell_type": "markdown",
   "id": "12ea70e2",
   "metadata": {},
   "source": [
    "#### <font color=\"asparagus\"> *Observations and Comments*: <br> $\\Rightarrow$ season_2 has a VIF of 6.81. Besides that, none of the VIFs are greater than 5, indicating that the columns are pretty much linearly independent of each other. <br> </font>\n",
    "<font color=\"asparagus\"> $\\Rightarrow$ I do not think dropping season_2 is a good idea, because from our bivariate analysis season_2 and season_3 had the highest number of bike rentals. But let's do it anyway as it seems like there is multicollinearity because of this column. Let's see the impact on the r2_score. </font> "
   ]
  },
  {
   "cell_type": "code",
   "execution_count": 115,
   "id": "cd4c73ed",
   "metadata": {},
   "outputs": [],
   "source": [
    "df.drop(\"season_2\", axis=1, inplace=True)\n",
    "df_train, df_test = train_test_split(df, train_size=0.7, test_size=0.3, random_state=100)"
   ]
  },
  {
   "cell_type": "code",
   "execution_count": 116,
   "id": "4f5fa6fa",
   "metadata": {},
   "outputs": [
    {
     "name": "stderr",
     "output_type": "stream",
     "text": [
      "D:\\Anaconda\\lib\\site-packages\\pandas\\core\\frame.py:3678: SettingWithCopyWarning: \n",
      "A value is trying to be set on a copy of a slice from a DataFrame.\n",
      "Try using .loc[row_indexer,col_indexer] = value instead\n",
      "\n",
      "See the caveats in the documentation: https://pandas.pydata.org/pandas-docs/stable/user_guide/indexing.html#returning-a-view-versus-a-copy\n",
      "  self[col] = igetitem(value, i)\n",
      "D:\\Anaconda\\lib\\site-packages\\pandas\\core\\frame.py:3678: SettingWithCopyWarning: \n",
      "A value is trying to be set on a copy of a slice from a DataFrame.\n",
      "Try using .loc[row_indexer,col_indexer] = value instead\n",
      "\n",
      "See the caveats in the documentation: https://pandas.pydata.org/pandas-docs/stable/user_guide/indexing.html#returning-a-view-versus-a-copy\n",
      "  self[col] = igetitem(value, i)\n",
      "D:\\Anaconda\\lib\\site-packages\\sklearn\\utils\\validation.py:70: FutureWarning: Pass n_features_to_select=15 as keyword args. From version 1.0 (renaming of 0.25) passing these as positional arguments will result in an error\n",
      "  warnings.warn(f\"Pass {args_msg} as keyword args. From version \"\n",
      "D:\\Anaconda\\lib\\site-packages\\statsmodels\\tsa\\tsatools.py:142: FutureWarning: In a future version of pandas all arguments of concat except for the argument 'objs' will be keyword-only\n",
      "  x = pd.concat(x[::order], 1)\n"
     ]
    }
   ],
   "source": [
    "df_train[apply_scaling_on] = scaler.fit_transform(df_train[apply_scaling_on])\n",
    "df_test[apply_scaling_on] = scaler.transform(df_test[apply_scaling_on])\n",
    "y_train = df_train.pop(\"cnt\")\n",
    "y_test = df_test.pop(\"cnt\")\n",
    "X_train = df_train\n",
    "X_test = df_test\n",
    "lm = LinearRegression()\n",
    "lm.fit(X_train, y_train)\n",
    "rfe = RFE(lm, 15) \n",
    "rfe = rfe.fit(X_train, y_train)\n",
    "list(zip(X_train.columns,rfe.support_,rfe.ranking_))\n",
    "cols_to_keep = X_train.columns[rfe.support_]\n",
    "rfe_discarded = X_train.columns[~rfe.support_]\n",
    "X_train_rfe = X_train[cols_to_keep]\n",
    "X_train_rfe_sm = sm.add_constant(X_train_rfe)\n",
    "sm_lr = sm.OLS(y_train, X_train_rfe_sm)\n",
    "sm_model = sm_lr.fit()\n",
    "sm_model_cache = sm_model"
   ]
  },
  {
   "cell_type": "markdown",
   "id": "7707ba15",
   "metadata": {},
   "source": [
    "#### Checking VIFs after this"
   ]
  },
  {
   "cell_type": "code",
   "execution_count": 117,
   "id": "18bd654c",
   "metadata": {},
   "outputs": [
    {
     "data": {
      "text/html": [
       "<div>\n",
       "<style scoped>\n",
       "    .dataframe tbody tr th:only-of-type {\n",
       "        vertical-align: middle;\n",
       "    }\n",
       "\n",
       "    .dataframe tbody tr th {\n",
       "        vertical-align: top;\n",
       "    }\n",
       "\n",
       "    .dataframe thead th {\n",
       "        text-align: right;\n",
       "    }\n",
       "</style>\n",
       "<table border=\"1\" class=\"dataframe\">\n",
       "  <thead>\n",
       "    <tr style=\"text-align: right;\">\n",
       "      <th></th>\n",
       "      <th>Features</th>\n",
       "      <th>VIF</th>\n",
       "    </tr>\n",
       "  </thead>\n",
       "  <tbody>\n",
       "    <tr>\n",
       "      <th>1</th>\n",
       "      <td>temp</td>\n",
       "      <td>3.07</td>\n",
       "    </tr>\n",
       "    <tr>\n",
       "      <th>2</th>\n",
       "      <td>season_4</td>\n",
       "      <td>2.41</td>\n",
       "    </tr>\n",
       "    <tr>\n",
       "      <th>0</th>\n",
       "      <td>yr</td>\n",
       "      <td>1.91</td>\n",
       "    </tr>\n",
       "    <tr>\n",
       "      <th>11</th>\n",
       "      <td>month_10</td>\n",
       "      <td>1.82</td>\n",
       "    </tr>\n",
       "    <tr>\n",
       "      <th>9</th>\n",
       "      <td>month_8</td>\n",
       "      <td>1.72</td>\n",
       "    </tr>\n",
       "    <tr>\n",
       "      <th>8</th>\n",
       "      <td>month_7</td>\n",
       "      <td>1.66</td>\n",
       "    </tr>\n",
       "    <tr>\n",
       "      <th>13</th>\n",
       "      <td>weathersit_2</td>\n",
       "      <td>1.57</td>\n",
       "    </tr>\n",
       "    <tr>\n",
       "      <th>12</th>\n",
       "      <td>month_12</td>\n",
       "      <td>1.43</td>\n",
       "    </tr>\n",
       "    <tr>\n",
       "      <th>7</th>\n",
       "      <td>month_6</td>\n",
       "      <td>1.40</td>\n",
       "    </tr>\n",
       "    <tr>\n",
       "      <th>10</th>\n",
       "      <td>month_9</td>\n",
       "      <td>1.37</td>\n",
       "    </tr>\n",
       "    <tr>\n",
       "      <th>3</th>\n",
       "      <td>month_2</td>\n",
       "      <td>1.27</td>\n",
       "    </tr>\n",
       "    <tr>\n",
       "      <th>6</th>\n",
       "      <td>month_5</td>\n",
       "      <td>1.26</td>\n",
       "    </tr>\n",
       "    <tr>\n",
       "      <th>4</th>\n",
       "      <td>month_3</td>\n",
       "      <td>1.18</td>\n",
       "    </tr>\n",
       "    <tr>\n",
       "      <th>5</th>\n",
       "      <td>month_4</td>\n",
       "      <td>1.14</td>\n",
       "    </tr>\n",
       "    <tr>\n",
       "      <th>14</th>\n",
       "      <td>weathersit_3</td>\n",
       "      <td>1.09</td>\n",
       "    </tr>\n",
       "  </tbody>\n",
       "</table>\n",
       "</div>"
      ],
      "text/plain": [
       "        Features  VIF\n",
       "1           temp 3.07\n",
       "2       season_4 2.41\n",
       "0             yr 1.91\n",
       "11      month_10 1.82\n",
       "9        month_8 1.72\n",
       "8        month_7 1.66\n",
       "13  weathersit_2 1.57\n",
       "12      month_12 1.43\n",
       "7        month_6 1.40\n",
       "10       month_9 1.37\n",
       "3        month_2 1.27\n",
       "6        month_5 1.26\n",
       "4        month_3 1.18\n",
       "5        month_4 1.14\n",
       "14  weathersit_3 1.09"
      ]
     },
     "execution_count": 117,
     "metadata": {},
     "output_type": "execute_result"
    }
   ],
   "source": [
    "vif = pd.DataFrame()\n",
    "vif['Features'] = X_train_rfe.columns\n",
    "vif['VIF'] = [variance_inflation_factor(X_train_rfe.values, i) for i in range(X_train_rfe.shape[1])]\n",
    "vif['VIF'] = round(vif[\"VIF\"], 2)\n",
    "vif = vif.sort_values(by = \"VIF\", ascending = False)\n",
    "vif"
   ]
  },
  {
   "cell_type": "markdown",
   "id": "82f9302c",
   "metadata": {},
   "source": [
    "#### <font color=\"asparagus\"> *Observations and Comments*:</font> \n",
    "$\\Rightarrow$ <font color=\"asparagus\"> We can see that now none of the columns have a VIF > 5, indicating that all columns are linearly independent of each other now </font>"
   ]
  },
  {
   "cell_type": "markdown",
   "id": "8ac4f33f",
   "metadata": {},
   "source": [
    "### <font color='skyblue'>  IV.4. Adjusted r2_score </font>"
   ]
  },
  {
   "cell_type": "markdown",
   "id": "cee3942e",
   "metadata": {},
   "source": [
    "$\\Rightarrow$ <font color=\"asparagus\"> Adj r2_score can be calculated by the formula: 1-(1-R2)*(n-1)/(n-p-1), where n is the sample size and p is the number of independent variables </font>"
   ]
  },
  {
   "cell_type": "markdown",
   "id": "0da07c38",
   "metadata": {},
   "source": [
    "#### Adjusted r2_score on Test data"
   ]
  },
  {
   "cell_type": "code",
   "execution_count": 118,
   "id": "daea4702",
   "metadata": {},
   "outputs": [],
   "source": [
    "X_test_rfe = X_test[cols_to_keep]"
   ]
  },
  {
   "cell_type": "code",
   "execution_count": 119,
   "id": "8b6a7f35",
   "metadata": {},
   "outputs": [
    {
     "name": "stderr",
     "output_type": "stream",
     "text": [
      "D:\\Anaconda\\lib\\site-packages\\statsmodels\\tsa\\tsatools.py:142: FutureWarning: In a future version of pandas all arguments of concat except for the argument 'objs' will be keyword-only\n",
      "  x = pd.concat(x[::order], 1)\n"
     ]
    }
   ],
   "source": [
    "X_test_rfe_sm = sm.add_constant(X_test_rfe)"
   ]
  },
  {
   "cell_type": "code",
   "execution_count": 120,
   "id": "01316b75",
   "metadata": {},
   "outputs": [],
   "source": [
    "y_test_pred_rfe = sm_model.predict(X_test_rfe_sm)"
   ]
  },
  {
   "cell_type": "code",
   "execution_count": 121,
   "id": "91d1fa55",
   "metadata": {},
   "outputs": [],
   "source": [
    "r2 = r2_score(y_true=y_test, y_pred=y_test_pred_rfe)"
   ]
  },
  {
   "cell_type": "markdown",
   "id": "3469e86a",
   "metadata": {},
   "source": [
    "#### Test r2_score"
   ]
  },
  {
   "cell_type": "code",
   "execution_count": 122,
   "id": "e8f52a6c",
   "metadata": {},
   "outputs": [
    {
     "data": {
      "text/plain": [
       "0.8101922132255989"
      ]
     },
     "execution_count": 122,
     "metadata": {},
     "output_type": "execute_result"
    }
   ],
   "source": [
    "r2"
   ]
  },
  {
   "cell_type": "code",
   "execution_count": 123,
   "id": "59d51cd7",
   "metadata": {},
   "outputs": [],
   "source": [
    "n, p = X_test_rfe.shape"
   ]
  },
  {
   "cell_type": "code",
   "execution_count": 124,
   "id": "7e218e39",
   "metadata": {},
   "outputs": [],
   "source": [
    "adj_r2 = 1 - (1- r2)*(n-1)/(n-p-1)"
   ]
  },
  {
   "cell_type": "code",
   "execution_count": 125,
   "id": "cc92e2da",
   "metadata": {},
   "outputs": [
    {
     "data": {
      "text/plain": [
       "0.7961670073063082"
      ]
     },
     "execution_count": 125,
     "metadata": {},
     "output_type": "execute_result"
    }
   ],
   "source": [
    "adj_r2"
   ]
  },
  {
   "cell_type": "markdown",
   "id": "5f3db184",
   "metadata": {},
   "source": [
    "#### Adjusted r2_score on Train data"
   ]
  },
  {
   "cell_type": "code",
   "execution_count": 126,
   "id": "b09e5356",
   "metadata": {},
   "outputs": [],
   "source": [
    "y_rfe_pred_train = sm_model.predict(X_train_rfe_sm)"
   ]
  },
  {
   "cell_type": "code",
   "execution_count": 127,
   "id": "e0510bcb",
   "metadata": {},
   "outputs": [],
   "source": [
    "r2_train = r2_score(y_true=y_train, y_pred=y_rfe_pred_train)"
   ]
  },
  {
   "cell_type": "markdown",
   "id": "84b39788",
   "metadata": {},
   "source": [
    "#### Train r2_score"
   ]
  },
  {
   "cell_type": "code",
   "execution_count": 128,
   "id": "deceb446",
   "metadata": {},
   "outputs": [
    {
     "data": {
      "text/plain": [
       "0.8205661505205544"
      ]
     },
     "execution_count": 128,
     "metadata": {},
     "output_type": "execute_result"
    }
   ],
   "source": [
    "r2_train"
   ]
  },
  {
   "cell_type": "code",
   "execution_count": 129,
   "id": "8455f757",
   "metadata": {},
   "outputs": [],
   "source": [
    "adj_r2_train = 1 - (1- r2_train)*(n-1)/(n-p-1)"
   ]
  },
  {
   "cell_type": "code",
   "execution_count": 130,
   "id": "42f16851",
   "metadata": {},
   "outputs": [
    {
     "data": {
      "text/plain": [
       "0.8073074916920239"
      ]
     },
     "execution_count": 130,
     "metadata": {},
     "output_type": "execute_result"
    }
   ],
   "source": [
    "adj_r2_train"
   ]
  },
  {
   "cell_type": "markdown",
   "id": "7896c1a6",
   "metadata": {},
   "source": [
    "$\\Rightarrow$ <font color=\"asparagus\"> I touched on outliers briefly in II.3. Boxplots and IQR analysis section. Let's check the impact on the model performance, if we were to remove just the common rows obtained between the top 1% and bottom 1% </font>"
   ]
  },
  {
   "cell_type": "code",
   "execution_count": 131,
   "id": "ff1d0b2f",
   "metadata": {},
   "outputs": [],
   "source": [
    "df3 = df.drop(index=common_rows, axis=0)"
   ]
  },
  {
   "cell_type": "code",
   "execution_count": 132,
   "id": "6f2f2452",
   "metadata": {
    "scrolled": true
   },
   "outputs": [
    {
     "data": {
      "text/plain": [
       "(727, 22)"
      ]
     },
     "execution_count": 132,
     "metadata": {},
     "output_type": "execute_result"
    }
   ],
   "source": [
    "df3.shape"
   ]
  },
  {
   "cell_type": "code",
   "execution_count": 133,
   "id": "0a2ad8e2",
   "metadata": {},
   "outputs": [
    {
     "name": "stderr",
     "output_type": "stream",
     "text": [
      "D:\\Anaconda\\lib\\site-packages\\pandas\\core\\frame.py:3678: SettingWithCopyWarning: \n",
      "A value is trying to be set on a copy of a slice from a DataFrame.\n",
      "Try using .loc[row_indexer,col_indexer] = value instead\n",
      "\n",
      "See the caveats in the documentation: https://pandas.pydata.org/pandas-docs/stable/user_guide/indexing.html#returning-a-view-versus-a-copy\n",
      "  self[col] = igetitem(value, i)\n",
      "D:\\Anaconda\\lib\\site-packages\\pandas\\core\\frame.py:3678: SettingWithCopyWarning: \n",
      "A value is trying to be set on a copy of a slice from a DataFrame.\n",
      "Try using .loc[row_indexer,col_indexer] = value instead\n",
      "\n",
      "See the caveats in the documentation: https://pandas.pydata.org/pandas-docs/stable/user_guide/indexing.html#returning-a-view-versus-a-copy\n",
      "  self[col] = igetitem(value, i)\n",
      "D:\\Anaconda\\lib\\site-packages\\statsmodels\\tsa\\tsatools.py:142: FutureWarning: In a future version of pandas all arguments of concat except for the argument 'objs' will be keyword-only\n",
      "  x = pd.concat(x[::order], 1)\n"
     ]
    }
   ],
   "source": [
    "df_train, df_test = train_test_split(df3, train_size=0.7, test_size=0.3, random_state=100)\n",
    "df_train[apply_scaling_on] = scaler.fit_transform(df_train[apply_scaling_on])\n",
    "df_test[apply_scaling_on] = scaler.transform(df_test[apply_scaling_on])\n",
    "y_train = df_train.pop(\"cnt\")\n",
    "y_test = df_test.pop(\"cnt\")\n",
    "X_train = df_train\n",
    "X_test = df_test\n",
    "X_train_sm = sm.add_constant(X_train) # must add a 1 for each row\n",
    "sm_lr = sm.OLS(y_train,X_train_sm)\n",
    "sm_model = sm_lr.fit()"
   ]
  },
  {
   "cell_type": "code",
   "execution_count": 134,
   "id": "10b89318",
   "metadata": {},
   "outputs": [
    {
     "name": "stderr",
     "output_type": "stream",
     "text": [
      "D:\\Anaconda\\lib\\site-packages\\sklearn\\utils\\validation.py:70: FutureWarning: Pass n_features_to_select=15 as keyword args. From version 1.0 (renaming of 0.25) passing these as positional arguments will result in an error\n",
      "  warnings.warn(f\"Pass {args_msg} as keyword args. From version \"\n",
      "D:\\Anaconda\\lib\\site-packages\\statsmodels\\tsa\\tsatools.py:142: FutureWarning: In a future version of pandas all arguments of concat except for the argument 'objs' will be keyword-only\n",
      "  x = pd.concat(x[::order], 1)\n"
     ]
    }
   ],
   "source": [
    "lm = LinearRegression()\n",
    "lm.fit(X_train, y_train)\n",
    "rfe = RFE(lm, 15) \n",
    "rfe = rfe.fit(X_train, y_train)\n",
    "list(zip(X_train.columns,rfe.support_,rfe.ranking_))\n",
    "cols_to_keep = X_train.columns[rfe.support_]\n",
    "rfe_discarded = X_train.columns[~rfe.support_]\n",
    "X_train_rfe = X_train[cols_to_keep]\n",
    "X_train_rfe_sm = sm.add_constant(X_train_rfe)\n",
    "sm_lr = sm.OLS(y_train, X_train_rfe_sm)\n",
    "sm_model = sm_lr.fit()"
   ]
  },
  {
   "cell_type": "code",
   "execution_count": 135,
   "id": "e1990a67",
   "metadata": {},
   "outputs": [],
   "source": [
    "lm.fit(X_train_rfe, y_train)\n",
    "X_test_rfe = X_test[cols_to_keep]\n",
    "y_pred_test_rfe = lm.predict(X_test_rfe)"
   ]
  },
  {
   "cell_type": "markdown",
   "id": "8d7d44cf",
   "metadata": {},
   "source": [
    "#### <font color=\"asparagus\"> *Observations and Comments*:</font> \n",
    "$\\Rightarrow$ <font color=\"asparagus\"> The r2_score has improved ever so slightly because of removing those 3 extra rows. It is now 0.817. Adjusted r2 score is 0.803"
   ]
  },
  {
   "cell_type": "code",
   "execution_count": 136,
   "id": "29969d6f",
   "metadata": {},
   "outputs": [],
   "source": [
    "r2_now = r2_score(y_true=y_test, y_pred=y_pred_test_rfe)"
   ]
  },
  {
   "cell_type": "code",
   "execution_count": 137,
   "id": "1c055cc6",
   "metadata": {},
   "outputs": [
    {
     "data": {
      "text/plain": [
       "0.8173037651765582"
      ]
     },
     "execution_count": 137,
     "metadata": {},
     "output_type": "execute_result"
    }
   ],
   "source": [
    "r2_now # Test r2 score"
   ]
  },
  {
   "cell_type": "code",
   "execution_count": 138,
   "id": "23e7bcf5",
   "metadata": {},
   "outputs": [],
   "source": [
    "adj_r2_now = 1 - (1- r2_now)*(n-1)/(n-p-1)"
   ]
  },
  {
   "cell_type": "code",
   "execution_count": 139,
   "id": "f45a2b82",
   "metadata": {},
   "outputs": [
    {
     "data": {
      "text/plain": [
       "0.8038040433915749"
      ]
     },
     "execution_count": 139,
     "metadata": {},
     "output_type": "execute_result"
    }
   ],
   "source": [
    "adj_r2_now"
   ]
  },
  {
   "cell_type": "code",
   "execution_count": 140,
   "id": "e4066df4",
   "metadata": {},
   "outputs": [],
   "source": [
    "y_train_pred_now = lm.predict(X_train_rfe)"
   ]
  },
  {
   "cell_type": "code",
   "execution_count": 141,
   "id": "8fd52c88",
   "metadata": {},
   "outputs": [],
   "source": [
    "r2_now = r2_score(y_true=y_train, y_pred=y_train_pred_now)"
   ]
  },
  {
   "cell_type": "code",
   "execution_count": 142,
   "id": "c5691590",
   "metadata": {},
   "outputs": [
    {
     "data": {
      "text/plain": [
       "0.8350581628124683"
      ]
     },
     "execution_count": 142,
     "metadata": {},
     "output_type": "execute_result"
    }
   ],
   "source": [
    "r2_now"
   ]
  },
  {
   "cell_type": "code",
   "execution_count": 143,
   "id": "3c4f37d1",
   "metadata": {},
   "outputs": [],
   "source": [
    "adj_r2_now = 1 - (1- r2_now)*(n-1)/(n-p-1)"
   ]
  },
  {
   "cell_type": "code",
   "execution_count": 144,
   "id": "1b0bdedc",
   "metadata": {},
   "outputs": [
    {
     "data": {
      "text/plain": [
       "0.8228703423306309"
      ]
     },
     "execution_count": 144,
     "metadata": {},
     "output_type": "execute_result"
    }
   ],
   "source": [
    "adj_r2_now"
   ]
  },
  {
   "cell_type": "markdown",
   "id": "e8f2592a",
   "metadata": {},
   "source": [
    "# <font color='goldenrod'> V. Validating assumptions of Linear Regression  </font>"
   ]
  },
  {
   "cell_type": "markdown",
   "id": "86a5bbcb",
   "metadata": {},
   "source": [
    "$\\Rightarrow$ <font color=\"asparagus\"> Making sure the following assumptions are satisfied: <br>\n",
    "    1. Error terms are normally distributed<br>\n",
    "    2. Linear relationship between input variables(X) and output variable(y)<br>\n",
    "    3. Multicollinearity"
   ]
  },
  {
   "cell_type": "markdown",
   "id": "b0161379",
   "metadata": {},
   "source": [
    "### <font color=\"skyblue\"> 1. Error terms are normally distributed </font>"
   ]
  },
  {
   "cell_type": "code",
   "execution_count": 145,
   "id": "2886265f",
   "metadata": {},
   "outputs": [],
   "source": [
    "res = y_train - y_train_pred_now"
   ]
  },
  {
   "cell_type": "code",
   "execution_count": 146,
   "id": "45c690c8",
   "metadata": {},
   "outputs": [
    {
     "name": "stderr",
     "output_type": "stream",
     "text": [
      "D:\\Anaconda\\lib\\site-packages\\seaborn\\distributions.py:2619: FutureWarning: `distplot` is a deprecated function and will be removed in a future version. Please adapt your code to use either `displot` (a figure-level function with similar flexibility) or `histplot` (an axes-level function for histograms).\n",
      "  warnings.warn(msg, FutureWarning)\n"
     ]
    },
    {
     "data": {
      "text/plain": [
       "<AxesSubplot:xlabel='cnt', ylabel='Density'>"
      ]
     },
     "execution_count": 146,
     "metadata": {},
     "output_type": "execute_result"
    },
    {
     "data": {
      "image/png": "[encoded data removed]",
      "text/plain": [
       "<Figure size 432x288 with 1 Axes>"
      ]
     },
     "metadata": {
      "needs_background": "light"
     },
     "output_type": "display_data"
    }
   ],
   "source": [
    "sns.distplot(res, bins=15)"
   ]
  },
  {
   "cell_type": "markdown",
   "id": "387547cf",
   "metadata": {},
   "source": [
    "#### <font color=\"asparagus\"> *Observations and Comments*: <br> $\\Rightarrow$ The above pdf plot shows that the residual has a normal distribution</font>"
   ]
  },
  {
   "cell_type": "markdown",
   "id": "6dfd09c1",
   "metadata": {},
   "source": [
    "### <font color=\"skyblue\"> 2. Linear relationship between input variables(X) and output variable(y) </font>"
   ]
  },
  {
   "cell_type": "code",
   "execution_count": 147,
   "id": "ec9458d9",
   "metadata": {},
   "outputs": [
    {
     "data": {
      "image/png": "[encoded data removed]",
      "text/plain": [
       "<Figure size 720x720 with 20 Axes>"
      ]
     },
     "metadata": {
      "needs_background": "light"
     },
     "output_type": "display_data"
    }
   ],
   "source": [
    "sns.pairplot(df_numeric, diag_kind=\"kde\")\n",
    "plt.show()"
   ]
  },
  {
   "cell_type": "markdown",
   "id": "902f83da",
   "metadata": {},
   "source": [
    "#### <font color=\"asparagus\"> *Observations and Comments*: <br> $\\Rightarrow$ Linear relationship exists between \"temp\" and \"cnt\", </font>"
   ]
  },
  {
   "cell_type": "markdown",
   "id": "233d0991",
   "metadata": {},
   "source": [
    "### <font color=\"skyblue\"> 3. Multicollinearity </font>"
   ]
  },
  {
   "cell_type": "code",
   "execution_count": 148,
   "id": "410e9e40",
   "metadata": {},
   "outputs": [
    {
     "data": {
      "text/html": [
       "<div>\n",
       "<style scoped>\n",
       "    .dataframe tbody tr th:only-of-type {\n",
       "        vertical-align: middle;\n",
       "    }\n",
       "\n",
       "    .dataframe tbody tr th {\n",
       "        vertical-align: top;\n",
       "    }\n",
       "\n",
       "    .dataframe thead th {\n",
       "        text-align: right;\n",
       "    }\n",
       "</style>\n",
       "<table border=\"1\" class=\"dataframe\">\n",
       "  <thead>\n",
       "    <tr style=\"text-align: right;\">\n",
       "      <th></th>\n",
       "      <th>Features</th>\n",
       "      <th>VIF</th>\n",
       "    </tr>\n",
       "  </thead>\n",
       "  <tbody>\n",
       "    <tr>\n",
       "      <th>2</th>\n",
       "      <td>temp</td>\n",
       "      <td>3.08</td>\n",
       "    </tr>\n",
       "    <tr>\n",
       "      <th>5</th>\n",
       "      <td>weathersit_2</td>\n",
       "      <td>2.55</td>\n",
       "    </tr>\n",
       "    <tr>\n",
       "      <th>0</th>\n",
       "      <td>hum</td>\n",
       "      <td>2.11</td>\n",
       "    </tr>\n",
       "    <tr>\n",
       "      <th>9</th>\n",
       "      <td>season_4</td>\n",
       "      <td>1.97</td>\n",
       "    </tr>\n",
       "    <tr>\n",
       "      <th>10</th>\n",
       "      <td>month_7</td>\n",
       "      <td>1.92</td>\n",
       "    </tr>\n",
       "    <tr>\n",
       "      <th>1</th>\n",
       "      <td>yr</td>\n",
       "      <td>1.85</td>\n",
       "    </tr>\n",
       "    <tr>\n",
       "      <th>3</th>\n",
       "      <td>month_8</td>\n",
       "      <td>1.76</td>\n",
       "    </tr>\n",
       "    <tr>\n",
       "      <th>4</th>\n",
       "      <td>month_10</td>\n",
       "      <td>1.62</td>\n",
       "    </tr>\n",
       "    <tr>\n",
       "      <th>7</th>\n",
       "      <td>month_6</td>\n",
       "      <td>1.52</td>\n",
       "    </tr>\n",
       "    <tr>\n",
       "      <th>6</th>\n",
       "      <td>month_9</td>\n",
       "      <td>1.42</td>\n",
       "    </tr>\n",
       "    <tr>\n",
       "      <th>14</th>\n",
       "      <td>weathersit_3</td>\n",
       "      <td>1.39</td>\n",
       "    </tr>\n",
       "    <tr>\n",
       "      <th>12</th>\n",
       "      <td>month_5</td>\n",
       "      <td>1.30</td>\n",
       "    </tr>\n",
       "    <tr>\n",
       "      <th>11</th>\n",
       "      <td>windspeed</td>\n",
       "      <td>1.22</td>\n",
       "    </tr>\n",
       "    <tr>\n",
       "      <th>8</th>\n",
       "      <td>month_3</td>\n",
       "      <td>1.18</td>\n",
       "    </tr>\n",
       "    <tr>\n",
       "      <th>13</th>\n",
       "      <td>month_4</td>\n",
       "      <td>1.16</td>\n",
       "    </tr>\n",
       "  </tbody>\n",
       "</table>\n",
       "</div>"
      ],
      "text/plain": [
       "        Features  VIF\n",
       "2           temp 3.08\n",
       "5   weathersit_2 2.55\n",
       "0            hum 2.11\n",
       "9       season_4 1.97\n",
       "10       month_7 1.92\n",
       "1             yr 1.85\n",
       "3        month_8 1.76\n",
       "4       month_10 1.62\n",
       "7        month_6 1.52\n",
       "6        month_9 1.42\n",
       "14  weathersit_3 1.39\n",
       "12       month_5 1.30\n",
       "11     windspeed 1.22\n",
       "8        month_3 1.18\n",
       "13       month_4 1.16"
      ]
     },
     "execution_count": 148,
     "metadata": {},
     "output_type": "execute_result"
    }
   ],
   "source": [
    "vif['Features'] = X_train_rfe.columns\n",
    "vif['VIF'] = [variance_inflation_factor(X_train_rfe.values, i) for i in range(X_train_rfe.shape[1])]\n",
    "vif['VIF'] = round(vif[\"VIF\"], 2)\n",
    "vif = vif.sort_values(by = \"VIF\", ascending = False)\n",
    "vif"
   ]
  },
  {
   "cell_type": "markdown",
   "id": "a5dd285e",
   "metadata": {},
   "source": [
    "#### <font color=\"asparagus\"> *Observations and Comments*: <br> $\\Rightarrow$ None of the other variables have a VIF > 5, indicating that all columns are linearly independent of each other. </font>"
   ]
  },
  {
   "cell_type": "markdown",
   "id": "e99fb549",
   "metadata": {},
   "source": [
    "# <font color='goldenrod'> VI. Conclusion </font>"
   ]
  },
  {
   "cell_type": "code",
   "execution_count": 149,
   "id": "904ce50b",
   "metadata": {},
   "outputs": [
    {
     "data": {
      "text/html": [
       "<table class=\"simpletable\">\n",
       "<caption>OLS Regression Results</caption>\n",
       "<tr>\n",
       "  <th>Dep. Variable:</th>           <td>cnt</td>       <th>  R-squared:         </th> <td>   0.821</td> \n",
       "</tr>\n",
       "<tr>\n",
       "  <th>Model:</th>                   <td>OLS</td>       <th>  Adj. R-squared:    </th> <td>   0.815</td> \n",
       "</tr>\n",
       "<tr>\n",
       "  <th>Method:</th>             <td>Least Squares</td>  <th>  F-statistic:       </th> <td>   150.6</td> \n",
       "</tr>\n",
       "<tr>\n",
       "  <th>Date:</th>             <td>Mon, 08 Aug 2022</td> <th>  Prob (F-statistic):</th> <td>3.03e-173</td>\n",
       "</tr>\n",
       "<tr>\n",
       "  <th>Time:</th>                 <td>02:30:11</td>     <th>  Log-Likelihood:    </th> <td> -4149.2</td> \n",
       "</tr>\n",
       "<tr>\n",
       "  <th>No. Observations:</th>      <td>   510</td>      <th>  AIC:               </th> <td>   8330.</td> \n",
       "</tr>\n",
       "<tr>\n",
       "  <th>Df Residuals:</th>          <td>   494</td>      <th>  BIC:               </th> <td>   8398.</td> \n",
       "</tr>\n",
       "<tr>\n",
       "  <th>Df Model:</th>              <td>    15</td>      <th>                     </th>     <td> </td>    \n",
       "</tr>\n",
       "<tr>\n",
       "  <th>Covariance Type:</th>      <td>nonrobust</td>    <th>                     </th>     <td> </td>    \n",
       "</tr>\n",
       "</table>\n",
       "<table class=\"simpletable\">\n",
       "<tr>\n",
       "        <td></td>          <th>coef</th>     <th>std err</th>      <th>t</th>      <th>P>|t|</th>  <th>[0.025</th>    <th>0.975]</th>  \n",
       "</tr>\n",
       "<tr>\n",
       "  <th>const</th>        <td> 2627.9470</td> <td>  168.274</td> <td>   15.617</td> <td> 0.000</td> <td> 2297.326</td> <td> 2958.568</td>\n",
       "</tr>\n",
       "<tr>\n",
       "  <th>yr</th>           <td> 2035.4384</td> <td>   75.504</td> <td>   26.958</td> <td> 0.000</td> <td> 1887.089</td> <td> 2183.787</td>\n",
       "</tr>\n",
       "<tr>\n",
       "  <th>temp</th>         <td>  819.1072</td> <td>   90.268</td> <td>    9.074</td> <td> 0.000</td> <td>  641.751</td> <td>  996.463</td>\n",
       "</tr>\n",
       "<tr>\n",
       "  <th>season_4</th>     <td> 1401.6677</td> <td>  141.705</td> <td>    9.891</td> <td> 0.000</td> <td> 1123.249</td> <td> 1680.086</td>\n",
       "</tr>\n",
       "<tr>\n",
       "  <th>month_2</th>      <td>  130.1697</td> <td>  182.685</td> <td>    0.713</td> <td> 0.476</td> <td> -228.766</td> <td>  489.105</td>\n",
       "</tr>\n",
       "<tr>\n",
       "  <th>month_3</th>      <td>  806.7108</td> <td>  175.277</td> <td>    4.603</td> <td> 0.000</td> <td>  462.331</td> <td> 1151.090</td>\n",
       "</tr>\n",
       "<tr>\n",
       "  <th>month_4</th>      <td> 1217.2420</td> <td>  198.889</td> <td>    6.120</td> <td> 0.000</td> <td>  826.470</td> <td> 1608.014</td>\n",
       "</tr>\n",
       "<tr>\n",
       "  <th>month_5</th>      <td> 1533.0627</td> <td>  233.747</td> <td>    6.559</td> <td> 0.000</td> <td> 1073.802</td> <td> 1992.324</td>\n",
       "</tr>\n",
       "<tr>\n",
       "  <th>month_6</th>      <td> 1327.9470</td> <td>  273.642</td> <td>    4.853</td> <td> 0.000</td> <td>  790.301</td> <td> 1865.593</td>\n",
       "</tr>\n",
       "<tr>\n",
       "  <th>month_7</th>      <td>  823.9369</td> <td>  299.156</td> <td>    2.754</td> <td> 0.006</td> <td>  236.162</td> <td> 1411.712</td>\n",
       "</tr>\n",
       "<tr>\n",
       "  <th>month_8</th>      <td> 1287.9452</td> <td>  274.368</td> <td>    4.694</td> <td> 0.000</td> <td>  748.873</td> <td> 1827.018</td>\n",
       "</tr>\n",
       "<tr>\n",
       "  <th>month_9</th>      <td> 1667.6999</td> <td>  234.317</td> <td>    7.117</td> <td> 0.000</td> <td> 1207.320</td> <td> 2128.080</td>\n",
       "</tr>\n",
       "<tr>\n",
       "  <th>month_10</th>     <td>  491.3551</td> <td>  183.299</td> <td>    2.681</td> <td> 0.008</td> <td>  131.214</td> <td>  851.496</td>\n",
       "</tr>\n",
       "<tr>\n",
       "  <th>month_12</th>     <td>  106.4059</td> <td>  158.429</td> <td>    0.672</td> <td> 0.502</td> <td> -204.872</td> <td>  417.684</td>\n",
       "</tr>\n",
       "<tr>\n",
       "  <th>weathersit_2</th> <td> -676.0398</td> <td>   80.403</td> <td>   -8.408</td> <td> 0.000</td> <td> -834.014</td> <td> -518.065</td>\n",
       "</tr>\n",
       "<tr>\n",
       "  <th>weathersit_3</th> <td>-2581.9751</td> <td>  226.082</td> <td>  -11.421</td> <td> 0.000</td> <td>-3026.177</td> <td>-2137.773</td>\n",
       "</tr>\n",
       "</table>\n",
       "<table class=\"simpletable\">\n",
       "<tr>\n",
       "  <th>Omnibus:</th>       <td>78.912</td> <th>  Durbin-Watson:     </th> <td>   1.931</td>\n",
       "</tr>\n",
       "<tr>\n",
       "  <th>Prob(Omnibus):</th> <td> 0.000</td> <th>  Jarque-Bera (JB):  </th> <td> 225.819</td>\n",
       "</tr>\n",
       "<tr>\n",
       "  <th>Skew:</th>          <td>-0.743</td> <th>  Prob(JB):          </th> <td>9.20e-50</td>\n",
       "</tr>\n",
       "<tr>\n",
       "  <th>Kurtosis:</th>      <td> 5.902</td> <th>  Cond. No.          </th> <td>    20.3</td>\n",
       "</tr>\n",
       "</table><br/><br/>Notes:<br/>[1] Standard Errors assume that the covariance matrix of the errors is correctly specified."
      ],
      "text/plain": [
       "<class 'statsmodels.iolib.summary.Summary'>\n",
       "\"\"\"\n",
       "                            OLS Regression Results                            \n",
       "==============================================================================\n",
       "Dep. Variable:                    cnt   R-squared:                       0.821\n",
       "Model:                            OLS   Adj. R-squared:                  0.815\n",
       "Method:                 Least Squares   F-statistic:                     150.6\n",
       "Date:                Mon, 08 Aug 2022   Prob (F-statistic):          3.03e-173\n",
       "Time:                        02:30:11   Log-Likelihood:                -4149.2\n",
       "No. Observations:                 510   AIC:                             8330.\n",
       "Df Residuals:                     494   BIC:                             8398.\n",
       "Df Model:                          15                                         \n",
       "Covariance Type:            nonrobust                                         \n",
       "================================================================================\n",
       "                   coef    std err          t      P>|t|      [0.025      0.975]\n",
       "--------------------------------------------------------------------------------\n",
       "const         2627.9470    168.274     15.617      0.000    2297.326    2958.568\n",
       "yr            2035.4384     75.504     26.958      0.000    1887.089    2183.787\n",
       "temp           819.1072     90.268      9.074      0.000     641.751     996.463\n",
       "season_4      1401.6677    141.705      9.891      0.000    1123.249    1680.086\n",
       "month_2        130.1697    182.685      0.713      0.476    -228.766     489.105\n",
       "month_3        806.7108    175.277      4.603      0.000     462.331    1151.090\n",
       "month_4       1217.2420    198.889      6.120      0.000     826.470    1608.014\n",
       "month_5       1533.0627    233.747      6.559      0.000    1073.802    1992.324\n",
       "month_6       1327.9470    273.642      4.853      0.000     790.301    1865.593\n",
       "month_7        823.9369    299.156      2.754      0.006     236.162    1411.712\n",
       "month_8       1287.9452    274.368      4.694      0.000     748.873    1827.018\n",
       "month_9       1667.6999    234.317      7.117      0.000    1207.320    2128.080\n",
       "month_10       491.3551    183.299      2.681      0.008     131.214     851.496\n",
       "month_12       106.4059    158.429      0.672      0.502    -204.872     417.684\n",
       "weathersit_2  -676.0398     80.403     -8.408      0.000    -834.014    -518.065\n",
       "weathersit_3 -2581.9751    226.082    -11.421      0.000   -3026.177   -2137.773\n",
       "==============================================================================\n",
       "Omnibus:                       78.912   Durbin-Watson:                   1.931\n",
       "Prob(Omnibus):                  0.000   Jarque-Bera (JB):              225.819\n",
       "Skew:                          -0.743   Prob(JB):                     9.20e-50\n",
       "Kurtosis:                       5.902   Cond. No.                         20.3\n",
       "==============================================================================\n",
       "\n",
       "Notes:\n",
       "[1] Standard Errors assume that the covariance matrix of the errors is correctly specified.\n",
       "\"\"\""
      ]
     },
     "execution_count": 149,
     "metadata": {},
     "output_type": "execute_result"
    }
   ],
   "source": [
    "sm_model_cache.summary()"
   ]
  },
  {
   "cell_type": "code",
   "execution_count": 150,
   "id": "631f2098",
   "metadata": {},
   "outputs": [
    {
     "data": {
      "text/plain": [
       "const           2,627.95\n",
       "yr              2,035.44\n",
       "temp              819.11\n",
       "season_4        1,401.67\n",
       "month_2           130.17\n",
       "month_3           806.71\n",
       "month_4         1,217.24\n",
       "month_5         1,533.06\n",
       "month_6         1,327.95\n",
       "month_7           823.94\n",
       "month_8         1,287.95\n",
       "month_9         1,667.70\n",
       "month_10          491.36\n",
       "month_12          106.41\n",
       "weathersit_2     -676.04\n",
       "weathersit_3   -2,581.98\n",
       "dtype: float64"
      ]
     },
     "execution_count": 150,
     "metadata": {},
     "output_type": "execute_result"
    }
   ],
   "source": [
    "sm_model_cache.params"
   ]
  },
  {
   "cell_type": "markdown",
   "id": "05cf7e97",
   "metadata": {},
   "source": [
    "#### $\\Rightarrow$ <font color=\"asparagus\">  According to the params above, the major impact on the bumber of bike rentals are coming from the following variables: <br> </font>\n",
    "- weathersit_3: As predicted from our bivariate analysis, a bad weather really seems to impact the sales. -2581.97 is the coefficient associated with it(i.e. if weathersit_3 is 1, keeping everything 0, the number of sales will drop by -2504.93 units) Therefore, the bike rental company can expect less sales in a such a weather. <br> From the data dictionary, 3: Light Snow, Light Rain + Thunderstorm + Scattered clouds, Light Rain + Scattered clouds <br>\n",
    "- yr: The year 2019 has more sales as indicated by the coefficient 2035.43 <br>\n",
    "- month_9: More weightage is given to September by the linear regression model. Coeff: 1667.7<br>\n",
    "- month_5: Coeff: 1533.0627\n",
    "- season_4: According to the linear regression model, season_4 gives more sales. Coeff: 1401.7 <br>\n",
    "This is followed by some more month variables and then\n",
    "- temp: Temperature has a good impact on bike rentals too with a coefficient of 819.1 </font>"
   ]
  },
  {
   "cell_type": "markdown",
   "id": "55c31802",
   "metadata": {},
   "source": [
    "#### $\\Rightarrow$ <font color=\"asparagus\"> On training data, we have the following: </font>\n",
    "- r2_score: 0.843<br>\n",
    "- adjusted r2_score: 0.831<br> </font>\n",
    "\n",
    "#### $\\Rightarrow$ <font color=\"asparagus\"> On test data, we have the following:</font>\n",
    "- r2_score: 0.817<br>\n",
    "- adjusted r2_score: 0.803<br> </font>\n",
    "\n",
    "There doesn't seem to be any indication of overfitting as the r2 scores on test and training data are pretty quite close to each other.\n"
   ]
  },
  {
   "cell_type": "markdown",
   "id": "07964b49",
   "metadata": {},
   "source": [
    "# <font color='goldenrod'> VII. Extras </font>"
   ]
  },
  {
   "cell_type": "markdown",
   "id": "d7a7f870",
   "metadata": {},
   "source": [
    "$\\Rightarrow$ I touched on outliers briefly in II.3. Boxplots and IQR analysis section. Let's check the impact on the model performance, if we were to remove the outliers. "
   ]
  },
  {
   "cell_type": "code",
   "execution_count": 151,
   "id": "f8360ce3",
   "metadata": {},
   "outputs": [
    {
     "data": {
      "text/plain": [
       "[8,\n",
       " 21,\n",
       " 22,\n",
       " 23,\n",
       " 39,\n",
       " 40,\n",
       " 368,\n",
       " 407,\n",
       " 49,\n",
       " 68,\n",
       " 86,\n",
       " 152,\n",
       " 393,\n",
       " 450,\n",
       " 461,\n",
       " 462,\n",
       " 37,\n",
       " 267,\n",
       " 279,\n",
       " 280,\n",
       " 282,\n",
       " 355,\n",
       " 690,\n",
       " 694,\n",
       " 17,\n",
       " 25,\n",
       " 26,\n",
       " 64,\n",
       " 68,\n",
       " 301,\n",
       " 666,\n",
       " 724]"
      ]
     },
     "execution_count": 151,
     "metadata": {},
     "output_type": "execute_result"
    }
   ],
   "source": [
    "lower_rows_to_drop"
   ]
  },
  {
   "cell_type": "code",
   "execution_count": 152,
   "id": "d2e90157",
   "metadata": {},
   "outputs": [
    {
     "data": {
      "text/plain": [
       "[265,\n",
       " 407,\n",
       " 544,\n",
       " 35,\n",
       " 292,\n",
       " 420,\n",
       " 550,\n",
       " 551,\n",
       " 552,\n",
       " 44,\n",
       " 431,\n",
       " 432,\n",
       " 49,\n",
       " 570,\n",
       " 446,\n",
       " 319,\n",
       " 64,\n",
       " 325,\n",
       " 202,\n",
       " 203,\n",
       " 204,\n",
       " 209,\n",
       " 339,\n",
       " 340,\n",
       " 616,\n",
       " 622,\n",
       " 628,\n",
       " 629,\n",
       " 503,\n",
       " 250,\n",
       " 636,\n",
       " 382]"
      ]
     },
     "execution_count": 152,
     "metadata": {},
     "output_type": "execute_result"
    }
   ],
   "source": [
    "upper_rows_to_drop"
   ]
  },
  {
   "cell_type": "code",
   "execution_count": 153,
   "id": "04aa0a88",
   "metadata": {},
   "outputs": [
    {
     "data": {
      "text/plain": [
       "[64, 49, 407]"
      ]
     },
     "execution_count": 153,
     "metadata": {},
     "output_type": "execute_result"
    }
   ],
   "source": [
    "common_rows"
   ]
  },
  {
   "cell_type": "code",
   "execution_count": 154,
   "id": "91db141f",
   "metadata": {},
   "outputs": [],
   "source": [
    "upper_rows_to_drop.remove(64)"
   ]
  },
  {
   "cell_type": "code",
   "execution_count": 155,
   "id": "d95e1bf6",
   "metadata": {},
   "outputs": [],
   "source": [
    "upper_rows_to_drop.remove(49)"
   ]
  },
  {
   "cell_type": "code",
   "execution_count": 156,
   "id": "3a8d5b62",
   "metadata": {},
   "outputs": [],
   "source": [
    "upper_rows_to_drop.remove(407)"
   ]
  },
  {
   "cell_type": "markdown",
   "id": "a1471096",
   "metadata": {},
   "source": [
    "$\\Rightarrow$ <font color=\"asparagus\"> We'd have to discard these rows, split the data and repeat the whole process once more. "
   ]
  },
  {
   "cell_type": "code",
   "execution_count": 157,
   "id": "4e903fd3",
   "metadata": {},
   "outputs": [
    {
     "data": {
      "text/html": [
       "<div>\n",
       "<style scoped>\n",
       "    .dataframe tbody tr th:only-of-type {\n",
       "        vertical-align: middle;\n",
       "    }\n",
       "\n",
       "    .dataframe tbody tr th {\n",
       "        vertical-align: top;\n",
       "    }\n",
       "\n",
       "    .dataframe thead th {\n",
       "        text-align: right;\n",
       "    }\n",
       "</style>\n",
       "<table border=\"1\" class=\"dataframe\">\n",
       "  <thead>\n",
       "    <tr style=\"text-align: right;\">\n",
       "      <th></th>\n",
       "      <th>yr</th>\n",
       "      <th>weekday</th>\n",
       "      <th>workingday</th>\n",
       "      <th>temp</th>\n",
       "      <th>hum</th>\n",
       "      <th>windspeed</th>\n",
       "      <th>cnt</th>\n",
       "      <th>season_3</th>\n",
       "      <th>season_4</th>\n",
       "      <th>month_2</th>\n",
       "      <th>...</th>\n",
       "      <th>month_5</th>\n",
       "      <th>month_6</th>\n",
       "      <th>month_7</th>\n",
       "      <th>month_8</th>\n",
       "      <th>month_9</th>\n",
       "      <th>month_10</th>\n",
       "      <th>month_11</th>\n",
       "      <th>month_12</th>\n",
       "      <th>weathersit_2</th>\n",
       "      <th>weathersit_3</th>\n",
       "    </tr>\n",
       "  </thead>\n",
       "  <tbody>\n",
       "    <tr>\n",
       "      <th>0</th>\n",
       "      <td>0</td>\n",
       "      <td>6</td>\n",
       "      <td>0</td>\n",
       "      <td>14.11</td>\n",
       "      <td>80.58</td>\n",
       "      <td>10.75</td>\n",
       "      <td>985</td>\n",
       "      <td>0</td>\n",
       "      <td>0</td>\n",
       "      <td>0</td>\n",
       "      <td>...</td>\n",
       "      <td>0</td>\n",
       "      <td>0</td>\n",
       "      <td>0</td>\n",
       "      <td>0</td>\n",
       "      <td>0</td>\n",
       "      <td>0</td>\n",
       "      <td>0</td>\n",
       "      <td>0</td>\n",
       "      <td>1</td>\n",
       "      <td>0</td>\n",
       "    </tr>\n",
       "    <tr>\n",
       "      <th>1</th>\n",
       "      <td>0</td>\n",
       "      <td>0</td>\n",
       "      <td>0</td>\n",
       "      <td>14.90</td>\n",
       "      <td>69.61</td>\n",
       "      <td>16.65</td>\n",
       "      <td>801</td>\n",
       "      <td>0</td>\n",
       "      <td>0</td>\n",
       "      <td>0</td>\n",
       "      <td>...</td>\n",
       "      <td>0</td>\n",
       "      <td>0</td>\n",
       "      <td>0</td>\n",
       "      <td>0</td>\n",
       "      <td>0</td>\n",
       "      <td>0</td>\n",
       "      <td>0</td>\n",
       "      <td>0</td>\n",
       "      <td>1</td>\n",
       "      <td>0</td>\n",
       "    </tr>\n",
       "    <tr>\n",
       "      <th>2</th>\n",
       "      <td>0</td>\n",
       "      <td>1</td>\n",
       "      <td>1</td>\n",
       "      <td>8.05</td>\n",
       "      <td>43.73</td>\n",
       "      <td>16.64</td>\n",
       "      <td>1349</td>\n",
       "      <td>0</td>\n",
       "      <td>0</td>\n",
       "      <td>0</td>\n",
       "      <td>...</td>\n",
       "      <td>0</td>\n",
       "      <td>0</td>\n",
       "      <td>0</td>\n",
       "      <td>0</td>\n",
       "      <td>0</td>\n",
       "      <td>0</td>\n",
       "      <td>0</td>\n",
       "      <td>0</td>\n",
       "      <td>0</td>\n",
       "      <td>0</td>\n",
       "    </tr>\n",
       "    <tr>\n",
       "      <th>3</th>\n",
       "      <td>0</td>\n",
       "      <td>2</td>\n",
       "      <td>1</td>\n",
       "      <td>8.20</td>\n",
       "      <td>59.04</td>\n",
       "      <td>10.74</td>\n",
       "      <td>1562</td>\n",
       "      <td>0</td>\n",
       "      <td>0</td>\n",
       "      <td>0</td>\n",
       "      <td>...</td>\n",
       "      <td>0</td>\n",
       "      <td>0</td>\n",
       "      <td>0</td>\n",
       "      <td>0</td>\n",
       "      <td>0</td>\n",
       "      <td>0</td>\n",
       "      <td>0</td>\n",
       "      <td>0</td>\n",
       "      <td>0</td>\n",
       "      <td>0</td>\n",
       "    </tr>\n",
       "    <tr>\n",
       "      <th>4</th>\n",
       "      <td>0</td>\n",
       "      <td>3</td>\n",
       "      <td>1</td>\n",
       "      <td>9.31</td>\n",
       "      <td>43.70</td>\n",
       "      <td>12.52</td>\n",
       "      <td>1600</td>\n",
       "      <td>0</td>\n",
       "      <td>0</td>\n",
       "      <td>0</td>\n",
       "      <td>...</td>\n",
       "      <td>0</td>\n",
       "      <td>0</td>\n",
       "      <td>0</td>\n",
       "      <td>0</td>\n",
       "      <td>0</td>\n",
       "      <td>0</td>\n",
       "      <td>0</td>\n",
       "      <td>0</td>\n",
       "      <td>0</td>\n",
       "      <td>0</td>\n",
       "    </tr>\n",
       "    <tr>\n",
       "      <th>...</th>\n",
       "      <td>...</td>\n",
       "      <td>...</td>\n",
       "      <td>...</td>\n",
       "      <td>...</td>\n",
       "      <td>...</td>\n",
       "      <td>...</td>\n",
       "      <td>...</td>\n",
       "      <td>...</td>\n",
       "      <td>...</td>\n",
       "      <td>...</td>\n",
       "      <td>...</td>\n",
       "      <td>...</td>\n",
       "      <td>...</td>\n",
       "      <td>...</td>\n",
       "      <td>...</td>\n",
       "      <td>...</td>\n",
       "      <td>...</td>\n",
       "      <td>...</td>\n",
       "      <td>...</td>\n",
       "      <td>...</td>\n",
       "      <td>...</td>\n",
       "    </tr>\n",
       "    <tr>\n",
       "      <th>725</th>\n",
       "      <td>1</td>\n",
       "      <td>4</td>\n",
       "      <td>1</td>\n",
       "      <td>10.42</td>\n",
       "      <td>65.29</td>\n",
       "      <td>23.46</td>\n",
       "      <td>2114</td>\n",
       "      <td>0</td>\n",
       "      <td>0</td>\n",
       "      <td>0</td>\n",
       "      <td>...</td>\n",
       "      <td>0</td>\n",
       "      <td>0</td>\n",
       "      <td>0</td>\n",
       "      <td>0</td>\n",
       "      <td>0</td>\n",
       "      <td>0</td>\n",
       "      <td>0</td>\n",
       "      <td>1</td>\n",
       "      <td>1</td>\n",
       "      <td>0</td>\n",
       "    </tr>\n",
       "    <tr>\n",
       "      <th>726</th>\n",
       "      <td>1</td>\n",
       "      <td>5</td>\n",
       "      <td>1</td>\n",
       "      <td>10.39</td>\n",
       "      <td>59.00</td>\n",
       "      <td>10.42</td>\n",
       "      <td>3095</td>\n",
       "      <td>0</td>\n",
       "      <td>0</td>\n",
       "      <td>0</td>\n",
       "      <td>...</td>\n",
       "      <td>0</td>\n",
       "      <td>0</td>\n",
       "      <td>0</td>\n",
       "      <td>0</td>\n",
       "      <td>0</td>\n",
       "      <td>0</td>\n",
       "      <td>0</td>\n",
       "      <td>1</td>\n",
       "      <td>1</td>\n",
       "      <td>0</td>\n",
       "    </tr>\n",
       "    <tr>\n",
       "      <th>727</th>\n",
       "      <td>1</td>\n",
       "      <td>6</td>\n",
       "      <td>0</td>\n",
       "      <td>10.39</td>\n",
       "      <td>75.29</td>\n",
       "      <td>8.33</td>\n",
       "      <td>1341</td>\n",
       "      <td>0</td>\n",
       "      <td>0</td>\n",
       "      <td>0</td>\n",
       "      <td>...</td>\n",
       "      <td>0</td>\n",
       "      <td>0</td>\n",
       "      <td>0</td>\n",
       "      <td>0</td>\n",
       "      <td>0</td>\n",
       "      <td>0</td>\n",
       "      <td>0</td>\n",
       "      <td>1</td>\n",
       "      <td>1</td>\n",
       "      <td>0</td>\n",
       "    </tr>\n",
       "    <tr>\n",
       "      <th>728</th>\n",
       "      <td>1</td>\n",
       "      <td>0</td>\n",
       "      <td>0</td>\n",
       "      <td>10.49</td>\n",
       "      <td>48.33</td>\n",
       "      <td>23.50</td>\n",
       "      <td>1796</td>\n",
       "      <td>0</td>\n",
       "      <td>0</td>\n",
       "      <td>0</td>\n",
       "      <td>...</td>\n",
       "      <td>0</td>\n",
       "      <td>0</td>\n",
       "      <td>0</td>\n",
       "      <td>0</td>\n",
       "      <td>0</td>\n",
       "      <td>0</td>\n",
       "      <td>0</td>\n",
       "      <td>1</td>\n",
       "      <td>0</td>\n",
       "      <td>0</td>\n",
       "    </tr>\n",
       "    <tr>\n",
       "      <th>729</th>\n",
       "      <td>1</td>\n",
       "      <td>1</td>\n",
       "      <td>1</td>\n",
       "      <td>8.85</td>\n",
       "      <td>57.75</td>\n",
       "      <td>10.37</td>\n",
       "      <td>2729</td>\n",
       "      <td>0</td>\n",
       "      <td>0</td>\n",
       "      <td>0</td>\n",
       "      <td>...</td>\n",
       "      <td>0</td>\n",
       "      <td>0</td>\n",
       "      <td>0</td>\n",
       "      <td>0</td>\n",
       "      <td>0</td>\n",
       "      <td>0</td>\n",
       "      <td>0</td>\n",
       "      <td>1</td>\n",
       "      <td>1</td>\n",
       "      <td>0</td>\n",
       "    </tr>\n",
       "  </tbody>\n",
       "</table>\n",
       "<p>730 rows × 22 columns</p>\n",
       "</div>"
      ],
      "text/plain": [
       "     yr  weekday  workingday  temp   hum  windspeed   cnt  season_3  season_4  \\\n",
       "0     0        6           0 14.11 80.58      10.75   985         0         0   \n",
       "1     0        0           0 14.90 69.61      16.65   801         0         0   \n",
       "2     0        1           1  8.05 43.73      16.64  1349         0         0   \n",
       "3     0        2           1  8.20 59.04      10.74  1562         0         0   \n",
       "4     0        3           1  9.31 43.70      12.52  1600         0         0   \n",
       "..   ..      ...         ...   ...   ...        ...   ...       ...       ...   \n",
       "725   1        4           1 10.42 65.29      23.46  2114         0         0   \n",
       "726   1        5           1 10.39 59.00      10.42  3095         0         0   \n",
       "727   1        6           0 10.39 75.29       8.33  1341         0         0   \n",
       "728   1        0           0 10.49 48.33      23.50  1796         0         0   \n",
       "729   1        1           1  8.85 57.75      10.37  2729         0         0   \n",
       "\n",
       "     month_2  ...  month_5  month_6  month_7  month_8  month_9  month_10  \\\n",
       "0          0  ...        0        0        0        0        0         0   \n",
       "1          0  ...        0        0        0        0        0         0   \n",
       "2          0  ...        0        0        0        0        0         0   \n",
       "3          0  ...        0        0        0        0        0         0   \n",
       "4          0  ...        0        0        0        0        0         0   \n",
       "..       ...  ...      ...      ...      ...      ...      ...       ...   \n",
       "725        0  ...        0        0        0        0        0         0   \n",
       "726        0  ...        0        0        0        0        0         0   \n",
       "727        0  ...        0        0        0        0        0         0   \n",
       "728        0  ...        0        0        0        0        0         0   \n",
       "729        0  ...        0        0        0        0        0         0   \n",
       "\n",
       "     month_11  month_12  weathersit_2  weathersit_3  \n",
       "0           0         0             1             0  \n",
       "1           0         0             1             0  \n",
       "2           0         0             0             0  \n",
       "3           0         0             0             0  \n",
       "4           0         0             0             0  \n",
       "..        ...       ...           ...           ...  \n",
       "725         0         1             1             0  \n",
       "726         0         1             1             0  \n",
       "727         0         1             1             0  \n",
       "728         0         1             0             0  \n",
       "729         0         1             1             0  \n",
       "\n",
       "[730 rows x 22 columns]"
      ]
     },
     "execution_count": 157,
     "metadata": {},
     "output_type": "execute_result"
    }
   ],
   "source": [
    "df"
   ]
  },
  {
   "cell_type": "code",
   "execution_count": 158,
   "id": "30768bae",
   "metadata": {},
   "outputs": [
    {
     "data": {
      "text/plain": [
       "[265,\n",
       " 544,\n",
       " 35,\n",
       " 292,\n",
       " 420,\n",
       " 550,\n",
       " 551,\n",
       " 552,\n",
       " 44,\n",
       " 431,\n",
       " 432,\n",
       " 570,\n",
       " 446,\n",
       " 319,\n",
       " 325,\n",
       " 202,\n",
       " 203,\n",
       " 204,\n",
       " 209,\n",
       " 339,\n",
       " 340,\n",
       " 616,\n",
       " 622,\n",
       " 628,\n",
       " 629,\n",
       " 503,\n",
       " 250,\n",
       " 636,\n",
       " 382]"
      ]
     },
     "execution_count": 158,
     "metadata": {},
     "output_type": "execute_result"
    }
   ],
   "source": [
    "upper_rows_to_drop"
   ]
  },
  {
   "cell_type": "code",
   "execution_count": 159,
   "id": "05d87214",
   "metadata": {},
   "outputs": [],
   "source": [
    "df2 = df.drop(index=upper_rows_to_drop, axis=0)\n",
    "df2 = df2.drop(index=lower_rows_to_drop, axis=0)"
   ]
  },
  {
   "cell_type": "code",
   "execution_count": 160,
   "id": "2ebd5d78",
   "metadata": {},
   "outputs": [
    {
     "data": {
      "text/plain": [
       "(670, 22)"
      ]
     },
     "execution_count": 160,
     "metadata": {},
     "output_type": "execute_result"
    }
   ],
   "source": [
    "df2.shape"
   ]
  },
  {
   "cell_type": "code",
   "execution_count": 161,
   "id": "1dcbf270",
   "metadata": {},
   "outputs": [],
   "source": [
    "df_train, df_test = train_test_split(df2, train_size=0.7, test_size=0.3, random_state=100)"
   ]
  },
  {
   "cell_type": "code",
   "execution_count": 162,
   "id": "238680ba",
   "metadata": {},
   "outputs": [
    {
     "data": {
      "text/html": [
       "<div>\n",
       "<style scoped>\n",
       "    .dataframe tbody tr th:only-of-type {\n",
       "        vertical-align: middle;\n",
       "    }\n",
       "\n",
       "    .dataframe tbody tr th {\n",
       "        vertical-align: top;\n",
       "    }\n",
       "\n",
       "    .dataframe thead th {\n",
       "        text-align: right;\n",
       "    }\n",
       "</style>\n",
       "<table border=\"1\" class=\"dataframe\">\n",
       "  <thead>\n",
       "    <tr style=\"text-align: right;\">\n",
       "      <th></th>\n",
       "      <th>yr</th>\n",
       "      <th>weekday</th>\n",
       "      <th>workingday</th>\n",
       "      <th>temp</th>\n",
       "      <th>hum</th>\n",
       "      <th>windspeed</th>\n",
       "      <th>cnt</th>\n",
       "      <th>season_3</th>\n",
       "      <th>season_4</th>\n",
       "      <th>month_2</th>\n",
       "      <th>...</th>\n",
       "      <th>month_5</th>\n",
       "      <th>month_6</th>\n",
       "      <th>month_7</th>\n",
       "      <th>month_8</th>\n",
       "      <th>month_9</th>\n",
       "      <th>month_10</th>\n",
       "      <th>month_11</th>\n",
       "      <th>month_12</th>\n",
       "      <th>weathersit_2</th>\n",
       "      <th>weathersit_3</th>\n",
       "    </tr>\n",
       "  </thead>\n",
       "  <tbody>\n",
       "    <tr>\n",
       "      <th>0</th>\n",
       "      <td>0</td>\n",
       "      <td>6</td>\n",
       "      <td>0</td>\n",
       "      <td>14.11</td>\n",
       "      <td>80.58</td>\n",
       "      <td>10.75</td>\n",
       "      <td>985</td>\n",
       "      <td>0</td>\n",
       "      <td>0</td>\n",
       "      <td>0</td>\n",
       "      <td>...</td>\n",
       "      <td>0</td>\n",
       "      <td>0</td>\n",
       "      <td>0</td>\n",
       "      <td>0</td>\n",
       "      <td>0</td>\n",
       "      <td>0</td>\n",
       "      <td>0</td>\n",
       "      <td>0</td>\n",
       "      <td>1</td>\n",
       "      <td>0</td>\n",
       "    </tr>\n",
       "    <tr>\n",
       "      <th>1</th>\n",
       "      <td>0</td>\n",
       "      <td>0</td>\n",
       "      <td>0</td>\n",
       "      <td>14.90</td>\n",
       "      <td>69.61</td>\n",
       "      <td>16.65</td>\n",
       "      <td>801</td>\n",
       "      <td>0</td>\n",
       "      <td>0</td>\n",
       "      <td>0</td>\n",
       "      <td>...</td>\n",
       "      <td>0</td>\n",
       "      <td>0</td>\n",
       "      <td>0</td>\n",
       "      <td>0</td>\n",
       "      <td>0</td>\n",
       "      <td>0</td>\n",
       "      <td>0</td>\n",
       "      <td>0</td>\n",
       "      <td>1</td>\n",
       "      <td>0</td>\n",
       "    </tr>\n",
       "    <tr>\n",
       "      <th>2</th>\n",
       "      <td>0</td>\n",
       "      <td>1</td>\n",
       "      <td>1</td>\n",
       "      <td>8.05</td>\n",
       "      <td>43.73</td>\n",
       "      <td>16.64</td>\n",
       "      <td>1349</td>\n",
       "      <td>0</td>\n",
       "      <td>0</td>\n",
       "      <td>0</td>\n",
       "      <td>...</td>\n",
       "      <td>0</td>\n",
       "      <td>0</td>\n",
       "      <td>0</td>\n",
       "      <td>0</td>\n",
       "      <td>0</td>\n",
       "      <td>0</td>\n",
       "      <td>0</td>\n",
       "      <td>0</td>\n",
       "      <td>0</td>\n",
       "      <td>0</td>\n",
       "    </tr>\n",
       "    <tr>\n",
       "      <th>3</th>\n",
       "      <td>0</td>\n",
       "      <td>2</td>\n",
       "      <td>1</td>\n",
       "      <td>8.20</td>\n",
       "      <td>59.04</td>\n",
       "      <td>10.74</td>\n",
       "      <td>1562</td>\n",
       "      <td>0</td>\n",
       "      <td>0</td>\n",
       "      <td>0</td>\n",
       "      <td>...</td>\n",
       "      <td>0</td>\n",
       "      <td>0</td>\n",
       "      <td>0</td>\n",
       "      <td>0</td>\n",
       "      <td>0</td>\n",
       "      <td>0</td>\n",
       "      <td>0</td>\n",
       "      <td>0</td>\n",
       "      <td>0</td>\n",
       "      <td>0</td>\n",
       "    </tr>\n",
       "    <tr>\n",
       "      <th>4</th>\n",
       "      <td>0</td>\n",
       "      <td>3</td>\n",
       "      <td>1</td>\n",
       "      <td>9.31</td>\n",
       "      <td>43.70</td>\n",
       "      <td>12.52</td>\n",
       "      <td>1600</td>\n",
       "      <td>0</td>\n",
       "      <td>0</td>\n",
       "      <td>0</td>\n",
       "      <td>...</td>\n",
       "      <td>0</td>\n",
       "      <td>0</td>\n",
       "      <td>0</td>\n",
       "      <td>0</td>\n",
       "      <td>0</td>\n",
       "      <td>0</td>\n",
       "      <td>0</td>\n",
       "      <td>0</td>\n",
       "      <td>0</td>\n",
       "      <td>0</td>\n",
       "    </tr>\n",
       "    <tr>\n",
       "      <th>...</th>\n",
       "      <td>...</td>\n",
       "      <td>...</td>\n",
       "      <td>...</td>\n",
       "      <td>...</td>\n",
       "      <td>...</td>\n",
       "      <td>...</td>\n",
       "      <td>...</td>\n",
       "      <td>...</td>\n",
       "      <td>...</td>\n",
       "      <td>...</td>\n",
       "      <td>...</td>\n",
       "      <td>...</td>\n",
       "      <td>...</td>\n",
       "      <td>...</td>\n",
       "      <td>...</td>\n",
       "      <td>...</td>\n",
       "      <td>...</td>\n",
       "      <td>...</td>\n",
       "      <td>...</td>\n",
       "      <td>...</td>\n",
       "      <td>...</td>\n",
       "    </tr>\n",
       "    <tr>\n",
       "      <th>725</th>\n",
       "      <td>1</td>\n",
       "      <td>4</td>\n",
       "      <td>1</td>\n",
       "      <td>10.42</td>\n",
       "      <td>65.29</td>\n",
       "      <td>23.46</td>\n",
       "      <td>2114</td>\n",
       "      <td>0</td>\n",
       "      <td>0</td>\n",
       "      <td>0</td>\n",
       "      <td>...</td>\n",
       "      <td>0</td>\n",
       "      <td>0</td>\n",
       "      <td>0</td>\n",
       "      <td>0</td>\n",
       "      <td>0</td>\n",
       "      <td>0</td>\n",
       "      <td>0</td>\n",
       "      <td>1</td>\n",
       "      <td>1</td>\n",
       "      <td>0</td>\n",
       "    </tr>\n",
       "    <tr>\n",
       "      <th>726</th>\n",
       "      <td>1</td>\n",
       "      <td>5</td>\n",
       "      <td>1</td>\n",
       "      <td>10.39</td>\n",
       "      <td>59.00</td>\n",
       "      <td>10.42</td>\n",
       "      <td>3095</td>\n",
       "      <td>0</td>\n",
       "      <td>0</td>\n",
       "      <td>0</td>\n",
       "      <td>...</td>\n",
       "      <td>0</td>\n",
       "      <td>0</td>\n",
       "      <td>0</td>\n",
       "      <td>0</td>\n",
       "      <td>0</td>\n",
       "      <td>0</td>\n",
       "      <td>0</td>\n",
       "      <td>1</td>\n",
       "      <td>1</td>\n",
       "      <td>0</td>\n",
       "    </tr>\n",
       "    <tr>\n",
       "      <th>727</th>\n",
       "      <td>1</td>\n",
       "      <td>6</td>\n",
       "      <td>0</td>\n",
       "      <td>10.39</td>\n",
       "      <td>75.29</td>\n",
       "      <td>8.33</td>\n",
       "      <td>1341</td>\n",
       "      <td>0</td>\n",
       "      <td>0</td>\n",
       "      <td>0</td>\n",
       "      <td>...</td>\n",
       "      <td>0</td>\n",
       "      <td>0</td>\n",
       "      <td>0</td>\n",
       "      <td>0</td>\n",
       "      <td>0</td>\n",
       "      <td>0</td>\n",
       "      <td>0</td>\n",
       "      <td>1</td>\n",
       "      <td>1</td>\n",
       "      <td>0</td>\n",
       "    </tr>\n",
       "    <tr>\n",
       "      <th>728</th>\n",
       "      <td>1</td>\n",
       "      <td>0</td>\n",
       "      <td>0</td>\n",
       "      <td>10.49</td>\n",
       "      <td>48.33</td>\n",
       "      <td>23.50</td>\n",
       "      <td>1796</td>\n",
       "      <td>0</td>\n",
       "      <td>0</td>\n",
       "      <td>0</td>\n",
       "      <td>...</td>\n",
       "      <td>0</td>\n",
       "      <td>0</td>\n",
       "      <td>0</td>\n",
       "      <td>0</td>\n",
       "      <td>0</td>\n",
       "      <td>0</td>\n",
       "      <td>0</td>\n",
       "      <td>1</td>\n",
       "      <td>0</td>\n",
       "      <td>0</td>\n",
       "    </tr>\n",
       "    <tr>\n",
       "      <th>729</th>\n",
       "      <td>1</td>\n",
       "      <td>1</td>\n",
       "      <td>1</td>\n",
       "      <td>8.85</td>\n",
       "      <td>57.75</td>\n",
       "      <td>10.37</td>\n",
       "      <td>2729</td>\n",
       "      <td>0</td>\n",
       "      <td>0</td>\n",
       "      <td>0</td>\n",
       "      <td>...</td>\n",
       "      <td>0</td>\n",
       "      <td>0</td>\n",
       "      <td>0</td>\n",
       "      <td>0</td>\n",
       "      <td>0</td>\n",
       "      <td>0</td>\n",
       "      <td>0</td>\n",
       "      <td>1</td>\n",
       "      <td>1</td>\n",
       "      <td>0</td>\n",
       "    </tr>\n",
       "  </tbody>\n",
       "</table>\n",
       "<p>730 rows × 22 columns</p>\n",
       "</div>"
      ],
      "text/plain": [
       "     yr  weekday  workingday  temp   hum  windspeed   cnt  season_3  season_4  \\\n",
       "0     0        6           0 14.11 80.58      10.75   985         0         0   \n",
       "1     0        0           0 14.90 69.61      16.65   801         0         0   \n",
       "2     0        1           1  8.05 43.73      16.64  1349         0         0   \n",
       "3     0        2           1  8.20 59.04      10.74  1562         0         0   \n",
       "4     0        3           1  9.31 43.70      12.52  1600         0         0   \n",
       "..   ..      ...         ...   ...   ...        ...   ...       ...       ...   \n",
       "725   1        4           1 10.42 65.29      23.46  2114         0         0   \n",
       "726   1        5           1 10.39 59.00      10.42  3095         0         0   \n",
       "727   1        6           0 10.39 75.29       8.33  1341         0         0   \n",
       "728   1        0           0 10.49 48.33      23.50  1796         0         0   \n",
       "729   1        1           1  8.85 57.75      10.37  2729         0         0   \n",
       "\n",
       "     month_2  ...  month_5  month_6  month_7  month_8  month_9  month_10  \\\n",
       "0          0  ...        0        0        0        0        0         0   \n",
       "1          0  ...        0        0        0        0        0         0   \n",
       "2          0  ...        0        0        0        0        0         0   \n",
       "3          0  ...        0        0        0        0        0         0   \n",
       "4          0  ...        0        0        0        0        0         0   \n",
       "..       ...  ...      ...      ...      ...      ...      ...       ...   \n",
       "725        0  ...        0        0        0        0        0         0   \n",
       "726        0  ...        0        0        0        0        0         0   \n",
       "727        0  ...        0        0        0        0        0         0   \n",
       "728        0  ...        0        0        0        0        0         0   \n",
       "729        0  ...        0        0        0        0        0         0   \n",
       "\n",
       "     month_11  month_12  weathersit_2  weathersit_3  \n",
       "0           0         0             1             0  \n",
       "1           0         0             1             0  \n",
       "2           0         0             0             0  \n",
       "3           0         0             0             0  \n",
       "4           0         0             0             0  \n",
       "..        ...       ...           ...           ...  \n",
       "725         0         1             1             0  \n",
       "726         0         1             1             0  \n",
       "727         0         1             1             0  \n",
       "728         0         1             0             0  \n",
       "729         0         1             1             0  \n",
       "\n",
       "[730 rows x 22 columns]"
      ]
     },
     "execution_count": 162,
     "metadata": {},
     "output_type": "execute_result"
    }
   ],
   "source": [
    "df"
   ]
  },
  {
   "cell_type": "code",
   "execution_count": 163,
   "id": "ae9eec85",
   "metadata": {},
   "outputs": [
    {
     "data": {
      "text/plain": [
       "['temp', 'hum', 'windspeed']"
      ]
     },
     "execution_count": 163,
     "metadata": {},
     "output_type": "execute_result"
    }
   ],
   "source": [
    "apply_scaling_on"
   ]
  },
  {
   "cell_type": "code",
   "execution_count": 164,
   "id": "49ffeaf8",
   "metadata": {},
   "outputs": [
    {
     "name": "stderr",
     "output_type": "stream",
     "text": [
      "D:\\Anaconda\\lib\\site-packages\\pandas\\core\\frame.py:3678: SettingWithCopyWarning: \n",
      "A value is trying to be set on a copy of a slice from a DataFrame.\n",
      "Try using .loc[row_indexer,col_indexer] = value instead\n",
      "\n",
      "See the caveats in the documentation: https://pandas.pydata.org/pandas-docs/stable/user_guide/indexing.html#returning-a-view-versus-a-copy\n",
      "  self[col] = igetitem(value, i)\n",
      "D:\\Anaconda\\lib\\site-packages\\pandas\\core\\frame.py:3678: SettingWithCopyWarning: \n",
      "A value is trying to be set on a copy of a slice from a DataFrame.\n",
      "Try using .loc[row_indexer,col_indexer] = value instead\n",
      "\n",
      "See the caveats in the documentation: https://pandas.pydata.org/pandas-docs/stable/user_guide/indexing.html#returning-a-view-versus-a-copy\n",
      "  self[col] = igetitem(value, i)\n"
     ]
    }
   ],
   "source": [
    "df_train[apply_scaling_on] = scaler.fit_transform(df_train[apply_scaling_on])\n",
    "df_test[apply_scaling_on] = scaler.transform(df_test[apply_scaling_on])"
   ]
  },
  {
   "cell_type": "code",
   "execution_count": 165,
   "id": "97f623e0",
   "metadata": {},
   "outputs": [],
   "source": [
    "y_train = df_train.pop(\"cnt\")\n",
    "y_test = df_test.pop(\"cnt\")"
   ]
  },
  {
   "cell_type": "code",
   "execution_count": 166,
   "id": "4a1563ae",
   "metadata": {},
   "outputs": [],
   "source": [
    "X_train = df_train\n",
    "X_test = df_test"
   ]
  },
  {
   "cell_type": "code",
   "execution_count": 167,
   "id": "084a9b71",
   "metadata": {},
   "outputs": [
    {
     "name": "stderr",
     "output_type": "stream",
     "text": [
      "D:\\Anaconda\\lib\\site-packages\\statsmodels\\tsa\\tsatools.py:142: FutureWarning: In a future version of pandas all arguments of concat except for the argument 'objs' will be keyword-only\n",
      "  x = pd.concat(x[::order], 1)\n"
     ]
    }
   ],
   "source": [
    "X_train_sm = sm.add_constant(X_train) # must add a 1 for each row"
   ]
  },
  {
   "cell_type": "code",
   "execution_count": 168,
   "id": "2877e7cb",
   "metadata": {},
   "outputs": [],
   "source": [
    "sm_lr = sm.OLS(y_train,X_train_sm)\n",
    "sm_model = sm_lr.fit()"
   ]
  },
  {
   "cell_type": "code",
   "execution_count": 169,
   "id": "c3930a6b",
   "metadata": {},
   "outputs": [
    {
     "data": {
      "text/html": [
       "<table class=\"simpletable\">\n",
       "<caption>OLS Regression Results</caption>\n",
       "<tr>\n",
       "  <th>Dep. Variable:</th>           <td>cnt</td>       <th>  R-squared:         </th> <td>   0.868</td> \n",
       "</tr>\n",
       "<tr>\n",
       "  <th>Model:</th>                   <td>OLS</td>       <th>  Adj. R-squared:    </th> <td>   0.862</td> \n",
       "</tr>\n",
       "<tr>\n",
       "  <th>Method:</th>             <td>Least Squares</td>  <th>  F-statistic:       </th> <td>   139.8</td> \n",
       "</tr>\n",
       "<tr>\n",
       "  <th>Date:</th>             <td>Mon, 08 Aug 2022</td> <th>  Prob (F-statistic):</th> <td>3.96e-181</td>\n",
       "</tr>\n",
       "<tr>\n",
       "  <th>Time:</th>                 <td>02:30:12</td>     <th>  Log-Likelihood:    </th> <td> -3714.1</td> \n",
       "</tr>\n",
       "<tr>\n",
       "  <th>No. Observations:</th>      <td>   468</td>      <th>  AIC:               </th> <td>   7472.</td> \n",
       "</tr>\n",
       "<tr>\n",
       "  <th>Df Residuals:</th>          <td>   446</td>      <th>  BIC:               </th> <td>   7563.</td> \n",
       "</tr>\n",
       "<tr>\n",
       "  <th>Df Model:</th>              <td>    21</td>      <th>                     </th>     <td> </td>    \n",
       "</tr>\n",
       "<tr>\n",
       "  <th>Covariance Type:</th>      <td>nonrobust</td>    <th>                     </th>     <td> </td>    \n",
       "</tr>\n",
       "</table>\n",
       "<table class=\"simpletable\">\n",
       "<tr>\n",
       "        <td></td>          <th>coef</th>     <th>std err</th>      <th>t</th>      <th>P>|t|</th>  <th>[0.025</th>    <th>0.975]</th>  \n",
       "</tr>\n",
       "<tr>\n",
       "  <th>const</th>        <td> 2037.6617</td> <td>  180.616</td> <td>   11.282</td> <td> 0.000</td> <td> 1682.697</td> <td> 2392.626</td>\n",
       "</tr>\n",
       "<tr>\n",
       "  <th>yr</th>           <td> 2050.8135</td> <td>   65.556</td> <td>   31.284</td> <td> 0.000</td> <td> 1921.977</td> <td> 2179.650</td>\n",
       "</tr>\n",
       "<tr>\n",
       "  <th>weekday</th>      <td>   84.3862</td> <td>   16.021</td> <td>    5.267</td> <td> 0.000</td> <td>   52.900</td> <td>  115.872</td>\n",
       "</tr>\n",
       "<tr>\n",
       "  <th>workingday</th>   <td>  194.3907</td> <td>   69.785</td> <td>    2.786</td> <td> 0.006</td> <td>   57.242</td> <td>  331.539</td>\n",
       "</tr>\n",
       "<tr>\n",
       "  <th>temp</th>         <td>  804.6480</td> <td>   88.031</td> <td>    9.140</td> <td> 0.000</td> <td>  631.641</td> <td>  977.656</td>\n",
       "</tr>\n",
       "<tr>\n",
       "  <th>hum</th>          <td> -216.6551</td> <td>   47.372</td> <td>   -4.574</td> <td> 0.000</td> <td> -309.754</td> <td> -123.556</td>\n",
       "</tr>\n",
       "<tr>\n",
       "  <th>windspeed</th>    <td> -218.8209</td> <td>   35.945</td> <td>   -6.088</td> <td> 0.000</td> <td> -289.464</td> <td> -148.178</td>\n",
       "</tr>\n",
       "<tr>\n",
       "  <th>season_3</th>     <td>  377.6213</td> <td>  209.366</td> <td>    1.804</td> <td> 0.072</td> <td>  -33.845</td> <td>  789.088</td>\n",
       "</tr>\n",
       "<tr>\n",
       "  <th>season_4</th>     <td> 1429.2676</td> <td>  192.721</td> <td>    7.416</td> <td> 0.000</td> <td> 1050.513</td> <td> 1808.022</td>\n",
       "</tr>\n",
       "<tr>\n",
       "  <th>month_2</th>      <td>  228.8381</td> <td>  165.319</td> <td>    1.384</td> <td> 0.167</td> <td>  -96.063</td> <td>  553.739</td>\n",
       "</tr>\n",
       "<tr>\n",
       "  <th>month_3</th>      <td>  898.6852</td> <td>  170.392</td> <td>    5.274</td> <td> 0.000</td> <td>  563.814</td> <td> 1233.556</td>\n",
       "</tr>\n",
       "<tr>\n",
       "  <th>month_4</th>      <td> 1341.0069</td> <td>  186.612</td> <td>    7.186</td> <td> 0.000</td> <td>  974.259</td> <td> 1707.755</td>\n",
       "</tr>\n",
       "<tr>\n",
       "  <th>month_5</th>      <td> 1719.8437</td> <td>  227.972</td> <td>    7.544</td> <td> 0.000</td> <td> 1271.812</td> <td> 2167.876</td>\n",
       "</tr>\n",
       "<tr>\n",
       "  <th>month_6</th>      <td> 1458.1003</td> <td>  267.941</td> <td>    5.442</td> <td> 0.000</td> <td>  931.516</td> <td> 1984.684</td>\n",
       "</tr>\n",
       "<tr>\n",
       "  <th>month_7</th>      <td>  783.2589</td> <td>  334.881</td> <td>    2.339</td> <td> 0.020</td> <td>  125.119</td> <td> 1441.399</td>\n",
       "</tr>\n",
       "<tr>\n",
       "  <th>month_8</th>      <td>  838.7932</td> <td>  324.819</td> <td>    2.582</td> <td> 0.010</td> <td>  200.427</td> <td> 1477.160</td>\n",
       "</tr>\n",
       "<tr>\n",
       "  <th>month_9</th>      <td> 1377.3822</td> <td>  285.837</td> <td>    4.819</td> <td> 0.000</td> <td>  815.627</td> <td> 1939.138</td>\n",
       "</tr>\n",
       "<tr>\n",
       "  <th>month_10</th>     <td>  790.3687</td> <td>  269.431</td> <td>    2.933</td> <td> 0.004</td> <td>  260.857</td> <td> 1319.881</td>\n",
       "</tr>\n",
       "<tr>\n",
       "  <th>month_11</th>     <td>   33.2823</td> <td>  248.383</td> <td>    0.134</td> <td> 0.893</td> <td> -454.863</td> <td>  521.428</td>\n",
       "</tr>\n",
       "<tr>\n",
       "  <th>month_12</th>     <td>   80.4227</td> <td>  203.067</td> <td>    0.396</td> <td> 0.692</td> <td> -318.665</td> <td>  479.510</td>\n",
       "</tr>\n",
       "<tr>\n",
       "  <th>weathersit_2</th> <td> -390.8955</td> <td>   88.679</td> <td>   -4.408</td> <td> 0.000</td> <td> -565.175</td> <td> -216.616</td>\n",
       "</tr>\n",
       "<tr>\n",
       "  <th>weathersit_3</th> <td>-1761.7759</td> <td>  293.425</td> <td>   -6.004</td> <td> 0.000</td> <td>-2338.444</td> <td>-1185.108</td>\n",
       "</tr>\n",
       "</table>\n",
       "<table class=\"simpletable\">\n",
       "<tr>\n",
       "  <th>Omnibus:</th>       <td>56.128</td> <th>  Durbin-Watson:     </th> <td>   1.986</td>\n",
       "</tr>\n",
       "<tr>\n",
       "  <th>Prob(Omnibus):</th> <td> 0.000</td> <th>  Jarque-Bera (JB):  </th> <td>  90.127</td>\n",
       "</tr>\n",
       "<tr>\n",
       "  <th>Skew:</th>          <td>-0.768</td> <th>  Prob(JB):          </th> <td>2.69e-20</td>\n",
       "</tr>\n",
       "<tr>\n",
       "  <th>Kurtosis:</th>      <td> 4.504</td> <th>  Cond. No.          </th> <td>    82.7</td>\n",
       "</tr>\n",
       "</table><br/><br/>Notes:<br/>[1] Standard Errors assume that the covariance matrix of the errors is correctly specified."
      ],
      "text/plain": [
       "<class 'statsmodels.iolib.summary.Summary'>\n",
       "\"\"\"\n",
       "                            OLS Regression Results                            \n",
       "==============================================================================\n",
       "Dep. Variable:                    cnt   R-squared:                       0.868\n",
       "Model:                            OLS   Adj. R-squared:                  0.862\n",
       "Method:                 Least Squares   F-statistic:                     139.8\n",
       "Date:                Mon, 08 Aug 2022   Prob (F-statistic):          3.96e-181\n",
       "Time:                        02:30:12   Log-Likelihood:                -3714.1\n",
       "No. Observations:                 468   AIC:                             7472.\n",
       "Df Residuals:                     446   BIC:                             7563.\n",
       "Df Model:                          21                                         \n",
       "Covariance Type:            nonrobust                                         \n",
       "================================================================================\n",
       "                   coef    std err          t      P>|t|      [0.025      0.975]\n",
       "--------------------------------------------------------------------------------\n",
       "const         2037.6617    180.616     11.282      0.000    1682.697    2392.626\n",
       "yr            2050.8135     65.556     31.284      0.000    1921.977    2179.650\n",
       "weekday         84.3862     16.021      5.267      0.000      52.900     115.872\n",
       "workingday     194.3907     69.785      2.786      0.006      57.242     331.539\n",
       "temp           804.6480     88.031      9.140      0.000     631.641     977.656\n",
       "hum           -216.6551     47.372     -4.574      0.000    -309.754    -123.556\n",
       "windspeed     -218.8209     35.945     -6.088      0.000    -289.464    -148.178\n",
       "season_3       377.6213    209.366      1.804      0.072     -33.845     789.088\n",
       "season_4      1429.2676    192.721      7.416      0.000    1050.513    1808.022\n",
       "month_2        228.8381    165.319      1.384      0.167     -96.063     553.739\n",
       "month_3        898.6852    170.392      5.274      0.000     563.814    1233.556\n",
       "month_4       1341.0069    186.612      7.186      0.000     974.259    1707.755\n",
       "month_5       1719.8437    227.972      7.544      0.000    1271.812    2167.876\n",
       "month_6       1458.1003    267.941      5.442      0.000     931.516    1984.684\n",
       "month_7        783.2589    334.881      2.339      0.020     125.119    1441.399\n",
       "month_8        838.7932    324.819      2.582      0.010     200.427    1477.160\n",
       "month_9       1377.3822    285.837      4.819      0.000     815.627    1939.138\n",
       "month_10       790.3687    269.431      2.933      0.004     260.857    1319.881\n",
       "month_11        33.2823    248.383      0.134      0.893    -454.863     521.428\n",
       "month_12        80.4227    203.067      0.396      0.692    -318.665     479.510\n",
       "weathersit_2  -390.8955     88.679     -4.408      0.000    -565.175    -216.616\n",
       "weathersit_3 -1761.7759    293.425     -6.004      0.000   -2338.444   -1185.108\n",
       "==============================================================================\n",
       "Omnibus:                       56.128   Durbin-Watson:                   1.986\n",
       "Prob(Omnibus):                  0.000   Jarque-Bera (JB):               90.127\n",
       "Skew:                          -0.768   Prob(JB):                     2.69e-20\n",
       "Kurtosis:                       4.504   Cond. No.                         82.7\n",
       "==============================================================================\n",
       "\n",
       "Notes:\n",
       "[1] Standard Errors assume that the covariance matrix of the errors is correctly specified.\n",
       "\"\"\""
      ]
     },
     "execution_count": 169,
     "metadata": {},
     "output_type": "execute_result"
    }
   ],
   "source": [
    "sm_model.summary()"
   ]
  },
  {
   "cell_type": "code",
   "execution_count": 170,
   "id": "e770e30c",
   "metadata": {},
   "outputs": [
    {
     "data": {
      "text/plain": [
       "LinearRegression()"
      ]
     },
     "execution_count": 170,
     "metadata": {},
     "output_type": "execute_result"
    }
   ],
   "source": [
    "lm = LinearRegression()\n",
    "lm.fit(X_train, y_train)"
   ]
  },
  {
   "cell_type": "code",
   "execution_count": 171,
   "id": "85b7db2a",
   "metadata": {},
   "outputs": [
    {
     "name": "stderr",
     "output_type": "stream",
     "text": [
      "D:\\Anaconda\\lib\\site-packages\\sklearn\\utils\\validation.py:70: FutureWarning: Pass n_features_to_select=15 as keyword args. From version 1.0 (renaming of 0.25) passing these as positional arguments will result in an error\n",
      "  warnings.warn(f\"Pass {args_msg} as keyword args. From version \"\n"
     ]
    }
   ],
   "source": [
    "rfe = RFE(lm, 15) "
   ]
  },
  {
   "cell_type": "code",
   "execution_count": 172,
   "id": "f16f2049",
   "metadata": {},
   "outputs": [
    {
     "name": "stderr",
     "output_type": "stream",
     "text": [
      "D:\\Anaconda\\lib\\site-packages\\statsmodels\\tsa\\tsatools.py:142: FutureWarning: In a future version of pandas all arguments of concat except for the argument 'objs' will be keyword-only\n",
      "  x = pd.concat(x[::order], 1)\n"
     ]
    }
   ],
   "source": [
    "rfe = rfe.fit(X_train, y_train)\n",
    "list(zip(X_train.columns,rfe.support_,rfe.ranking_))\n",
    "cols_to_keep = X_train.columns[rfe.support_]\n",
    "rfe_discarded = X_train.columns[~rfe.support_]\n",
    "X_train_rfe = X_train[cols_to_keep]\n",
    "X_train_rfe_sm = sm.add_constant(X_train_rfe)"
   ]
  },
  {
   "cell_type": "code",
   "execution_count": 173,
   "id": "57df9b85",
   "metadata": {},
   "outputs": [
    {
     "data": {
      "text/plain": [
       "Index(['yr', 'temp', 'hum', 'season_3', 'season_4', 'month_3', 'month_4',\n",
       "       'month_5', 'month_6', 'month_7', 'month_8', 'month_9', 'month_10',\n",
       "       'weathersit_2', 'weathersit_3'],\n",
       "      dtype='object')"
      ]
     },
     "execution_count": 173,
     "metadata": {},
     "output_type": "execute_result"
    }
   ],
   "source": [
    "cols_to_keep"
   ]
  },
  {
   "cell_type": "code",
   "execution_count": 174,
   "id": "6679121e",
   "metadata": {},
   "outputs": [],
   "source": [
    "sm_lr = sm.OLS(y_train, X_train_rfe_sm)\n",
    "sm_model = sm_lr.fit()"
   ]
  },
  {
   "cell_type": "code",
   "execution_count": 175,
   "id": "a03687e9",
   "metadata": {},
   "outputs": [
    {
     "data": {
      "text/html": [
       "<table class=\"simpletable\">\n",
       "<caption>OLS Regression Results</caption>\n",
       "<tr>\n",
       "  <th>Dep. Variable:</th>           <td>cnt</td>       <th>  R-squared:         </th> <td>   0.843</td> \n",
       "</tr>\n",
       "<tr>\n",
       "  <th>Model:</th>                   <td>OLS</td>       <th>  Adj. R-squared:    </th> <td>   0.838</td> \n",
       "</tr>\n",
       "<tr>\n",
       "  <th>Method:</th>             <td>Least Squares</td>  <th>  F-statistic:       </th> <td>   162.3</td> \n",
       "</tr>\n",
       "<tr>\n",
       "  <th>Date:</th>             <td>Mon, 08 Aug 2022</td> <th>  Prob (F-statistic):</th> <td>4.16e-171</td>\n",
       "</tr>\n",
       "<tr>\n",
       "  <th>Time:</th>                 <td>02:30:12</td>     <th>  Log-Likelihood:    </th> <td> -3754.2</td> \n",
       "</tr>\n",
       "<tr>\n",
       "  <th>No. Observations:</th>      <td>   468</td>      <th>  AIC:               </th> <td>   7540.</td> \n",
       "</tr>\n",
       "<tr>\n",
       "  <th>Df Residuals:</th>          <td>   452</td>      <th>  BIC:               </th> <td>   7607.</td> \n",
       "</tr>\n",
       "<tr>\n",
       "  <th>Df Model:</th>              <td>    15</td>      <th>                     </th>     <td> </td>    \n",
       "</tr>\n",
       "<tr>\n",
       "  <th>Covariance Type:</th>      <td>nonrobust</td>    <th>                     </th>     <td> </td>    \n",
       "</tr>\n",
       "</table>\n",
       "<table class=\"simpletable\">\n",
       "<tr>\n",
       "        <td></td>          <th>coef</th>     <th>std err</th>      <th>t</th>      <th>P>|t|</th>  <th>[0.025</th>    <th>0.975]</th>  \n",
       "</tr>\n",
       "<tr>\n",
       "  <th>const</th>        <td> 2480.4585</td> <td>  140.969</td> <td>   17.596</td> <td> 0.000</td> <td> 2203.422</td> <td> 2757.495</td>\n",
       "</tr>\n",
       "<tr>\n",
       "  <th>yr</th>           <td> 2067.4785</td> <td>   70.572</td> <td>   29.296</td> <td> 0.000</td> <td> 1928.788</td> <td> 2206.169</td>\n",
       "</tr>\n",
       "<tr>\n",
       "  <th>temp</th>         <td>  806.7214</td> <td>   92.734</td> <td>    8.699</td> <td> 0.000</td> <td>  624.477</td> <td>  988.966</td>\n",
       "</tr>\n",
       "<tr>\n",
       "  <th>hum</th>          <td> -163.5544</td> <td>   48.425</td> <td>   -3.377</td> <td> 0.001</td> <td> -258.721</td> <td>  -68.388</td>\n",
       "</tr>\n",
       "<tr>\n",
       "  <th>season_3</th>     <td>  390.6897</td> <td>  209.930</td> <td>    1.861</td> <td> 0.063</td> <td>  -21.870</td> <td>  803.250</td>\n",
       "</tr>\n",
       "<tr>\n",
       "  <th>season_4</th>     <td> 1475.6544</td> <td>  119.382</td> <td>   12.361</td> <td> 0.000</td> <td> 1241.042</td> <td> 1710.267</td>\n",
       "</tr>\n",
       "<tr>\n",
       "  <th>month_3</th>      <td>  759.7307</td> <td>  154.139</td> <td>    4.929</td> <td> 0.000</td> <td>  456.812</td> <td> 1062.650</td>\n",
       "</tr>\n",
       "<tr>\n",
       "  <th>month_4</th>      <td> 1213.4407</td> <td>  170.153</td> <td>    7.131</td> <td> 0.000</td> <td>  879.052</td> <td> 1547.830</td>\n",
       "</tr>\n",
       "<tr>\n",
       "  <th>month_5</th>      <td> 1662.8016</td> <td>  215.891</td> <td>    7.702</td> <td> 0.000</td> <td> 1238.527</td> <td> 2087.076</td>\n",
       "</tr>\n",
       "<tr>\n",
       "  <th>month_6</th>      <td> 1408.4850</td> <td>  252.559</td> <td>    5.577</td> <td> 0.000</td> <td>  912.149</td> <td> 1904.821</td>\n",
       "</tr>\n",
       "<tr>\n",
       "  <th>month_7</th>      <td>  787.4350</td> <td>  309.853</td> <td>    2.541</td> <td> 0.011</td> <td>  178.503</td> <td> 1396.367</td>\n",
       "</tr>\n",
       "<tr>\n",
       "  <th>month_8</th>      <td>  797.1927</td> <td>  300.813</td> <td>    2.650</td> <td> 0.008</td> <td>  206.027</td> <td> 1388.358</td>\n",
       "</tr>\n",
       "<tr>\n",
       "  <th>month_9</th>      <td> 1431.1512</td> <td>  241.337</td> <td>    5.930</td> <td> 0.000</td> <td>  956.869</td> <td> 1905.434</td>\n",
       "</tr>\n",
       "<tr>\n",
       "  <th>month_10</th>     <td>  746.9655</td> <td>  168.940</td> <td>    4.421</td> <td> 0.000</td> <td>  414.960</td> <td> 1078.971</td>\n",
       "</tr>\n",
       "<tr>\n",
       "  <th>weathersit_2</th> <td> -435.9364</td> <td>   93.691</td> <td>   -4.653</td> <td> 0.000</td> <td> -620.061</td> <td> -251.812</td>\n",
       "</tr>\n",
       "<tr>\n",
       "  <th>weathersit_3</th> <td>-2019.9622</td> <td>  309.195</td> <td>   -6.533</td> <td> 0.000</td> <td>-2627.601</td> <td>-1412.323</td>\n",
       "</tr>\n",
       "</table>\n",
       "<table class=\"simpletable\">\n",
       "<tr>\n",
       "  <th>Omnibus:</th>       <td>59.951</td> <th>  Durbin-Watson:     </th> <td>   2.052</td>\n",
       "</tr>\n",
       "<tr>\n",
       "  <th>Prob(Omnibus):</th> <td> 0.000</td> <th>  Jarque-Bera (JB):  </th> <td>  96.817</td>\n",
       "</tr>\n",
       "<tr>\n",
       "  <th>Skew:</th>          <td>-0.810</td> <th>  Prob(JB):          </th> <td>9.47e-22</td>\n",
       "</tr>\n",
       "<tr>\n",
       "  <th>Kurtosis:</th>      <td> 4.530</td> <th>  Cond. No.          </th> <td>    20.5</td>\n",
       "</tr>\n",
       "</table><br/><br/>Notes:<br/>[1] Standard Errors assume that the covariance matrix of the errors is correctly specified."
      ],
      "text/plain": [
       "<class 'statsmodels.iolib.summary.Summary'>\n",
       "\"\"\"\n",
       "                            OLS Regression Results                            \n",
       "==============================================================================\n",
       "Dep. Variable:                    cnt   R-squared:                       0.843\n",
       "Model:                            OLS   Adj. R-squared:                  0.838\n",
       "Method:                 Least Squares   F-statistic:                     162.3\n",
       "Date:                Mon, 08 Aug 2022   Prob (F-statistic):          4.16e-171\n",
       "Time:                        02:30:12   Log-Likelihood:                -3754.2\n",
       "No. Observations:                 468   AIC:                             7540.\n",
       "Df Residuals:                     452   BIC:                             7607.\n",
       "Df Model:                          15                                         \n",
       "Covariance Type:            nonrobust                                         \n",
       "================================================================================\n",
       "                   coef    std err          t      P>|t|      [0.025      0.975]\n",
       "--------------------------------------------------------------------------------\n",
       "const         2480.4585    140.969     17.596      0.000    2203.422    2757.495\n",
       "yr            2067.4785     70.572     29.296      0.000    1928.788    2206.169\n",
       "temp           806.7214     92.734      8.699      0.000     624.477     988.966\n",
       "hum           -163.5544     48.425     -3.377      0.001    -258.721     -68.388\n",
       "season_3       390.6897    209.930      1.861      0.063     -21.870     803.250\n",
       "season_4      1475.6544    119.382     12.361      0.000    1241.042    1710.267\n",
       "month_3        759.7307    154.139      4.929      0.000     456.812    1062.650\n",
       "month_4       1213.4407    170.153      7.131      0.000     879.052    1547.830\n",
       "month_5       1662.8016    215.891      7.702      0.000    1238.527    2087.076\n",
       "month_6       1408.4850    252.559      5.577      0.000     912.149    1904.821\n",
       "month_7        787.4350    309.853      2.541      0.011     178.503    1396.367\n",
       "month_8        797.1927    300.813      2.650      0.008     206.027    1388.358\n",
       "month_9       1431.1512    241.337      5.930      0.000     956.869    1905.434\n",
       "month_10       746.9655    168.940      4.421      0.000     414.960    1078.971\n",
       "weathersit_2  -435.9364     93.691     -4.653      0.000    -620.061    -251.812\n",
       "weathersit_3 -2019.9622    309.195     -6.533      0.000   -2627.601   -1412.323\n",
       "==============================================================================\n",
       "Omnibus:                       59.951   Durbin-Watson:                   2.052\n",
       "Prob(Omnibus):                  0.000   Jarque-Bera (JB):               96.817\n",
       "Skew:                          -0.810   Prob(JB):                     9.47e-22\n",
       "Kurtosis:                       4.530   Cond. No.                         20.5\n",
       "==============================================================================\n",
       "\n",
       "Notes:\n",
       "[1] Standard Errors assume that the covariance matrix of the errors is correctly specified.\n",
       "\"\"\""
      ]
     },
     "execution_count": 175,
     "metadata": {},
     "output_type": "execute_result"
    }
   ],
   "source": [
    "sm_model.summary()"
   ]
  },
  {
   "cell_type": "code",
   "execution_count": 176,
   "id": "2d211923",
   "metadata": {},
   "outputs": [],
   "source": [
    "vif = pd.DataFrame()"
   ]
  },
  {
   "cell_type": "code",
   "execution_count": 177,
   "id": "e97a6ea8",
   "metadata": {},
   "outputs": [],
   "source": [
    "lm.fit(X_train_rfe, y_train)\n",
    "X_test_rfe = X_test[cols_to_keep]\n",
    "y_pred_test_rfe = lm.predict(X_test_rfe)"
   ]
  },
  {
   "cell_type": "markdown",
   "id": "0d2a52d3",
   "metadata": {},
   "source": [
    "#### The r2_score because of removing outliers drops to 0.795"
   ]
  },
  {
   "cell_type": "code",
   "execution_count": 178,
   "id": "0c060d48",
   "metadata": {
    "scrolled": false
   },
   "outputs": [
    {
     "data": {
      "text/plain": [
       "0.7950050278114559"
      ]
     },
     "execution_count": 178,
     "metadata": {},
     "output_type": "execute_result"
    }
   ],
   "source": [
    "r2_score(y_true=y_test, y_pred=y_pred_test_rfe)"
   ]
  }
 ],
 "metadata": {
  "kernelspec": {
   "display_name": "Python 3 (ipykernel)",
   "language": "python",
   "name": "python3"
  },
  "language_info": {
   "codemirror_mode": {
    "name": "ipython",
    "version": 3
   },
   "file_extension": ".py",
   "mimetype": "text/x-python",
   "name": "python",
   "nbconvert_exporter": "python",
   "pygments_lexer": "ipython3",
   "version": "3.9.7"
  }
 },
 "nbformat": 4,
 "nbformat_minor": 5
}
